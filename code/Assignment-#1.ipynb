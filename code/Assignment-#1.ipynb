{
 "cells": [
  {
   "cell_type": "markdown",
   "id": "0676e652",
   "metadata": {},
   "source": [
    "## import libs\n"
   ]
  },
  {
   "cell_type": "code",
   "execution_count": 1,
   "id": "badfdda5",
   "metadata": {
    "ExecuteTime": {
     "end_time": "2023-10-02T04:11:15.808247Z",
     "start_time": "2023-10-02T04:11:15.323832Z"
    }
   },
   "outputs": [],
   "source": [
    "import pandas as pd\n",
    "import numpy as np\n",
    "import matplotlib.pyplot as plt"
   ]
  },
  {
   "cell_type": "markdown",
   "id": "b3c64546",
   "metadata": {},
   "source": [
    "# Question 1"
   ]
  },
  {
   "cell_type": "markdown",
   "id": "9aa7309b",
   "metadata": {},
   "source": [
    "Download the data set `adult-modified.csv` and load it into an appropriate data structure such as a Pandas dataframe. Explore the general characteristics of the data as a whole: examine the means, standard deviations, and other statistics associated with the numeric attributes and frequencies associated with categorical attributes."
   ]
  },
  {
   "cell_type": "code",
   "execution_count": 2,
   "id": "11b973a5",
   "metadata": {
    "ExecuteTime": {
     "end_time": "2023-10-02T04:11:15.820988Z",
     "start_time": "2023-10-02T04:11:15.810572Z"
    }
   },
   "outputs": [],
   "source": [
    "# read data file\n",
    "adlt_df = pd.read_csv('../data/adult-modified.csv')"
   ]
  },
  {
   "cell_type": "code",
   "execution_count": 3,
   "id": "d1a38a9c",
   "metadata": {
    "ExecuteTime": {
     "end_time": "2023-10-02T04:11:15.831445Z",
     "start_time": "2023-10-02T04:11:15.822338Z"
    }
   },
   "outputs": [
    {
     "data": {
      "text/html": [
       "<div>\n",
       "<style scoped>\n",
       "    .dataframe tbody tr th:only-of-type {\n",
       "        vertical-align: middle;\n",
       "    }\n",
       "\n",
       "    .dataframe tbody tr th {\n",
       "        vertical-align: top;\n",
       "    }\n",
       "\n",
       "    .dataframe thead th {\n",
       "        text-align: right;\n",
       "    }\n",
       "</style>\n",
       "<table border=\"1\" class=\"dataframe\">\n",
       "  <thead>\n",
       "    <tr style=\"text-align: right;\">\n",
       "      <th></th>\n",
       "      <th>age</th>\n",
       "      <th>workclass</th>\n",
       "      <th>education</th>\n",
       "      <th>marital-status</th>\n",
       "      <th>race</th>\n",
       "      <th>sex</th>\n",
       "      <th>hours-per-week</th>\n",
       "      <th>income</th>\n",
       "    </tr>\n",
       "  </thead>\n",
       "  <tbody>\n",
       "    <tr>\n",
       "      <th>0</th>\n",
       "      <td>39</td>\n",
       "      <td>Public</td>\n",
       "      <td>13</td>\n",
       "      <td>Single</td>\n",
       "      <td>White</td>\n",
       "      <td>Male</td>\n",
       "      <td>40</td>\n",
       "      <td>&lt;=50K</td>\n",
       "    </tr>\n",
       "    <tr>\n",
       "      <th>1</th>\n",
       "      <td>50</td>\n",
       "      <td>Self-emp</td>\n",
       "      <td>13</td>\n",
       "      <td>Married</td>\n",
       "      <td>White</td>\n",
       "      <td>Male</td>\n",
       "      <td>13</td>\n",
       "      <td>&lt;=50K</td>\n",
       "    </tr>\n",
       "    <tr>\n",
       "      <th>2</th>\n",
       "      <td>38</td>\n",
       "      <td>Private</td>\n",
       "      <td>9</td>\n",
       "      <td>Single</td>\n",
       "      <td>White</td>\n",
       "      <td>Male</td>\n",
       "      <td>40</td>\n",
       "      <td>&lt;=50K</td>\n",
       "    </tr>\n",
       "    <tr>\n",
       "      <th>3</th>\n",
       "      <td>53</td>\n",
       "      <td>Private</td>\n",
       "      <td>7</td>\n",
       "      <td>Married</td>\n",
       "      <td>Black</td>\n",
       "      <td>Male</td>\n",
       "      <td>40</td>\n",
       "      <td>&lt;=50K</td>\n",
       "    </tr>\n",
       "    <tr>\n",
       "      <th>4</th>\n",
       "      <td>28</td>\n",
       "      <td>Private</td>\n",
       "      <td>13</td>\n",
       "      <td>Married</td>\n",
       "      <td>Black</td>\n",
       "      <td>Female</td>\n",
       "      <td>40</td>\n",
       "      <td>&lt;=50K</td>\n",
       "    </tr>\n",
       "  </tbody>\n",
       "</table>\n",
       "</div>"
      ],
      "text/plain": [
       "   age workclass  education marital-status   race     sex  hours-per-week  \\\n",
       "0   39    Public         13         Single  White    Male              40   \n",
       "1   50  Self-emp         13        Married  White    Male              13   \n",
       "2   38   Private          9         Single  White    Male              40   \n",
       "3   53   Private          7        Married  Black    Male              40   \n",
       "4   28   Private         13        Married  Black  Female              40   \n",
       "\n",
       "  income  \n",
       "0  <=50K  \n",
       "1  <=50K  \n",
       "2  <=50K  \n",
       "3  <=50K  \n",
       "4  <=50K  "
      ]
     },
     "execution_count": 3,
     "metadata": {},
     "output_type": "execute_result"
    }
   ],
   "source": [
    "adlt_df.head()"
   ]
  },
  {
   "cell_type": "code",
   "execution_count": 4,
   "id": "7d06940d",
   "metadata": {
    "ExecuteTime": {
     "end_time": "2023-10-02T04:11:15.838355Z",
     "start_time": "2023-10-02T04:11:15.833686Z"
    }
   },
   "outputs": [
    {
     "data": {
      "text/plain": [
       "age                int64\n",
       "workclass         object\n",
       "education          int64\n",
       "marital-status    object\n",
       "race              object\n",
       "sex               object\n",
       "hours-per-week     int64\n",
       "income            object\n",
       "dtype: object"
      ]
     },
     "execution_count": 4,
     "metadata": {},
     "output_type": "execute_result"
    }
   ],
   "source": [
    "# data types\n",
    "adlt_df.dtypes"
   ]
  },
  {
   "cell_type": "code",
   "execution_count": 5,
   "id": "709a4858",
   "metadata": {
    "ExecuteTime": {
     "end_time": "2023-10-02T04:11:15.865536Z",
     "start_time": "2023-10-02T04:11:15.841939Z"
    }
   },
   "outputs": [
    {
     "data": {
      "text/html": [
       "<div>\n",
       "<style scoped>\n",
       "    .dataframe tbody tr th:only-of-type {\n",
       "        vertical-align: middle;\n",
       "    }\n",
       "\n",
       "    .dataframe tbody tr th {\n",
       "        vertical-align: top;\n",
       "    }\n",
       "\n",
       "    .dataframe thead th {\n",
       "        text-align: right;\n",
       "    }\n",
       "</style>\n",
       "<table border=\"1\" class=\"dataframe\">\n",
       "  <thead>\n",
       "    <tr style=\"text-align: right;\">\n",
       "      <th></th>\n",
       "      <th>age</th>\n",
       "      <th>education</th>\n",
       "      <th>hours-per-week</th>\n",
       "    </tr>\n",
       "  </thead>\n",
       "  <tbody>\n",
       "    <tr>\n",
       "      <th>count</th>\n",
       "      <td>9412.000000</td>\n",
       "      <td>9412.000000</td>\n",
       "      <td>9412.000000</td>\n",
       "    </tr>\n",
       "    <tr>\n",
       "      <th>mean</th>\n",
       "      <td>38.357310</td>\n",
       "      <td>10.125266</td>\n",
       "      <td>41.080217</td>\n",
       "    </tr>\n",
       "    <tr>\n",
       "      <th>std</th>\n",
       "      <td>12.962135</td>\n",
       "      <td>2.542118</td>\n",
       "      <td>11.884590</td>\n",
       "    </tr>\n",
       "    <tr>\n",
       "      <th>min</th>\n",
       "      <td>17.000000</td>\n",
       "      <td>1.000000</td>\n",
       "      <td>1.000000</td>\n",
       "    </tr>\n",
       "    <tr>\n",
       "      <th>25%</th>\n",
       "      <td>28.000000</td>\n",
       "      <td>9.000000</td>\n",
       "      <td>40.000000</td>\n",
       "    </tr>\n",
       "    <tr>\n",
       "      <th>50%</th>\n",
       "      <td>37.000000</td>\n",
       "      <td>10.000000</td>\n",
       "      <td>40.000000</td>\n",
       "    </tr>\n",
       "    <tr>\n",
       "      <th>75%</th>\n",
       "      <td>47.000000</td>\n",
       "      <td>13.000000</td>\n",
       "      <td>45.000000</td>\n",
       "    </tr>\n",
       "    <tr>\n",
       "      <th>max</th>\n",
       "      <td>90.000000</td>\n",
       "      <td>16.000000</td>\n",
       "      <td>99.000000</td>\n",
       "    </tr>\n",
       "  </tbody>\n",
       "</table>\n",
       "</div>"
      ],
      "text/plain": [
       "               age    education  hours-per-week\n",
       "count  9412.000000  9412.000000     9412.000000\n",
       "mean     38.357310    10.125266       41.080217\n",
       "std      12.962135     2.542118       11.884590\n",
       "min      17.000000     1.000000        1.000000\n",
       "25%      28.000000     9.000000       40.000000\n",
       "50%      37.000000    10.000000       40.000000\n",
       "75%      47.000000    13.000000       45.000000\n",
       "max      90.000000    16.000000       99.000000"
      ]
     },
     "execution_count": 5,
     "metadata": {},
     "output_type": "execute_result"
    }
   ],
   "source": [
    "# statistics of numeric features\n",
    "adlt_df.describe()"
   ]
  },
  {
   "cell_type": "code",
   "execution_count": 6,
   "id": "a23c91dc",
   "metadata": {
    "ExecuteTime": {
     "end_time": "2023-10-02T04:11:15.898043Z",
     "start_time": "2023-10-02T04:11:15.869959Z"
    }
   },
   "outputs": [
    {
     "data": {
      "text/plain": [
       "[workclass\n",
       " Private     6947\n",
       " Public      1317\n",
       " Self-emp    1148\n",
       " Name: count, dtype: int64,\n",
       " marital-status\n",
       " Married    4737\n",
       " Single     4675\n",
       " Name: count, dtype: int64,\n",
       " race\n",
       " White          8062\n",
       " Black           892\n",
       " Asian           291\n",
       " Amer-Indian      92\n",
       " Hispanic         75\n",
       " Name: count, dtype: int64,\n",
       " sex\n",
       " Male      6383\n",
       " Female    3029\n",
       " Name: count, dtype: int64,\n",
       " income\n",
       " <=50K    7093\n",
       " >50K     2319\n",
       " Name: count, dtype: int64]"
      ]
     },
     "execution_count": 6,
     "metadata": {},
     "output_type": "execute_result"
    }
   ],
   "source": [
    "# get frequency of categorical features from df\n",
    "[(adlt_df[cat_col].value_counts()) for cat_col in adlt_df.select_dtypes('object').columns]"
   ]
  },
  {
   "cell_type": "markdown",
   "id": "e6722c55",
   "metadata": {},
   "source": [
    "# Question 2"
   ]
  },
  {
   "cell_type": "markdown",
   "id": "d34f3e82",
   "metadata": {},
   "source": [
    "For the three numeric attributes (age, hours-per-week, education), display box plots that show the overall dispersion and skew in these variables. Next, create histograms for these three variables showing the overall data distribution in each. Finally, display a scatter plot of age (x-axis) vs. hours-per-week (y-axis)."
   ]
  },
  {
   "cell_type": "code",
   "execution_count": 7,
   "id": "25a843ef",
   "metadata": {
    "ExecuteTime": {
     "end_time": "2023-10-02T04:11:15.909225Z",
     "start_time": "2023-10-02T04:11:15.902529Z"
    }
   },
   "outputs": [],
   "source": [
    "# filter numeric dataframe\n",
    "num_df = adlt_df.select_dtypes('int')"
   ]
  },
  {
   "cell_type": "code",
   "execution_count": 8,
   "id": "cf39d288",
   "metadata": {
    "ExecuteTime": {
     "end_time": "2023-10-02T04:11:15.930836Z",
     "start_time": "2023-10-02T04:11:15.913385Z"
    }
   },
   "outputs": [
    {
     "data": {
      "text/html": [
       "<div>\n",
       "<style scoped>\n",
       "    .dataframe tbody tr th:only-of-type {\n",
       "        vertical-align: middle;\n",
       "    }\n",
       "\n",
       "    .dataframe tbody tr th {\n",
       "        vertical-align: top;\n",
       "    }\n",
       "\n",
       "    .dataframe thead th {\n",
       "        text-align: right;\n",
       "    }\n",
       "</style>\n",
       "<table border=\"1\" class=\"dataframe\">\n",
       "  <thead>\n",
       "    <tr style=\"text-align: right;\">\n",
       "      <th></th>\n",
       "      <th>age</th>\n",
       "      <th>education</th>\n",
       "      <th>hours-per-week</th>\n",
       "    </tr>\n",
       "  </thead>\n",
       "  <tbody>\n",
       "    <tr>\n",
       "      <th>0</th>\n",
       "      <td>39</td>\n",
       "      <td>13</td>\n",
       "      <td>40</td>\n",
       "    </tr>\n",
       "    <tr>\n",
       "      <th>1</th>\n",
       "      <td>50</td>\n",
       "      <td>13</td>\n",
       "      <td>13</td>\n",
       "    </tr>\n",
       "    <tr>\n",
       "      <th>2</th>\n",
       "      <td>38</td>\n",
       "      <td>9</td>\n",
       "      <td>40</td>\n",
       "    </tr>\n",
       "    <tr>\n",
       "      <th>3</th>\n",
       "      <td>53</td>\n",
       "      <td>7</td>\n",
       "      <td>40</td>\n",
       "    </tr>\n",
       "    <tr>\n",
       "      <th>4</th>\n",
       "      <td>28</td>\n",
       "      <td>13</td>\n",
       "      <td>40</td>\n",
       "    </tr>\n",
       "    <tr>\n",
       "      <th>...</th>\n",
       "      <td>...</td>\n",
       "      <td>...</td>\n",
       "      <td>...</td>\n",
       "    </tr>\n",
       "    <tr>\n",
       "      <th>9407</th>\n",
       "      <td>38</td>\n",
       "      <td>10</td>\n",
       "      <td>60</td>\n",
       "    </tr>\n",
       "    <tr>\n",
       "      <th>9408</th>\n",
       "      <td>25</td>\n",
       "      <td>9</td>\n",
       "      <td>8</td>\n",
       "    </tr>\n",
       "    <tr>\n",
       "      <th>9409</th>\n",
       "      <td>21</td>\n",
       "      <td>10</td>\n",
       "      <td>40</td>\n",
       "    </tr>\n",
       "    <tr>\n",
       "      <th>9410</th>\n",
       "      <td>38</td>\n",
       "      <td>2</td>\n",
       "      <td>53</td>\n",
       "    </tr>\n",
       "    <tr>\n",
       "      <th>9411</th>\n",
       "      <td>39</td>\n",
       "      <td>10</td>\n",
       "      <td>40</td>\n",
       "    </tr>\n",
       "  </tbody>\n",
       "</table>\n",
       "<p>9412 rows × 3 columns</p>\n",
       "</div>"
      ],
      "text/plain": [
       "      age  education  hours-per-week\n",
       "0      39         13              40\n",
       "1      50         13              13\n",
       "2      38          9              40\n",
       "3      53          7              40\n",
       "4      28         13              40\n",
       "...   ...        ...             ...\n",
       "9407   38         10              60\n",
       "9408   25          9               8\n",
       "9409   21         10              40\n",
       "9410   38          2              53\n",
       "9411   39         10              40\n",
       "\n",
       "[9412 rows x 3 columns]"
      ]
     },
     "execution_count": 8,
     "metadata": {},
     "output_type": "execute_result"
    }
   ],
   "source": [
    "num_df"
   ]
  },
  {
   "cell_type": "markdown",
   "id": "1e51e9c0",
   "metadata": {},
   "source": [
    "## Boxplots"
   ]
  },
  {
   "cell_type": "code",
   "execution_count": 9,
   "id": "ce34e656",
   "metadata": {
    "ExecuteTime": {
     "end_time": "2023-10-02T04:11:16.141034Z",
     "start_time": "2023-10-02T04:11:15.934525Z"
    }
   },
   "outputs": [
    {
     "data": {
      "image/png": "[encoded data removed]",
      "text/plain": [
       "<Figure size 1200x600 with 3 Axes>"
      ]
     },
     "metadata": {},
     "output_type": "display_data"
    }
   ],
   "source": [
    "# create subplots canvas\n",
    "plt.figure(figsize=(12, 6))\n",
    "ax1 = plt.subplot(2,3,1)\n",
    "ax2 = plt.subplot(2,3,2)\n",
    "ax3 = plt.subplot(2,3,3)\n",
    "\n",
    "## plotting boxplot to subplots\n",
    "ax1.boxplot(num_df.age, )\n",
    "ax1.set_title('Boxplot: age')\n",
    "# ax1.set_ylabel('Age')\n",
    "ax2.boxplot(num_df.education)\n",
    "ax2.set_title('Boxplot: education')\n",
    "# ax2.set_ylabel('education')\n",
    "ax3.boxplot(num_df['hours-per-week'])\n",
    "ax3.set_title('Boxplot: hours-per-week')\n",
    "# ax3.set_ylabel('hours-per-week')\n",
    "plt.show()"
   ]
  },
  {
   "cell_type": "markdown",
   "id": "424e1803",
   "metadata": {},
   "source": [
    "## Histogram"
   ]
  },
  {
   "cell_type": "code",
   "execution_count": 10,
   "id": "614ca7c1",
   "metadata": {
    "ExecuteTime": {
     "end_time": "2023-10-02T04:11:16.344441Z",
     "start_time": "2023-10-02T04:11:16.142166Z"
    }
   },
   "outputs": [
    {
     "data": {
      "image/png": "[encoded data removed]",
      "text/plain": [
       "<Figure size 1200x600 with 3 Axes>"
      ]
     },
     "metadata": {},
     "output_type": "display_data"
    }
   ],
   "source": [
    "# create subplots canvas\n",
    "plt.figure(figsize=(12, 6))\n",
    "ax1 = plt.subplot(2,3,1)\n",
    "ax2 = plt.subplot(2,3,2)\n",
    "ax3 = plt.subplot(2,3,3)\n",
    "\n",
    "## plotting histograms to subplots\n",
    "ax1.hist(num_df.age, )\n",
    "ax1.set_title('histogram: age')\n",
    "ax1.set_xlabel('Age')\n",
    "ax2.hist(num_df.education)\n",
    "ax2.set_title('histogram: education')\n",
    "ax2.set_xlabel('education')\n",
    "ax3.hist(num_df['hours-per-week'])\n",
    "ax3.set_title('histogram: hours-per-week')\n",
    "ax3.set_xlabel('hours-per-week')\n",
    "plt.show()"
   ]
  },
  {
   "cell_type": "markdown",
   "id": "fba3344c",
   "metadata": {},
   "source": [
    "## Scatter plot"
   ]
  },
  {
   "cell_type": "code",
   "execution_count": 11,
   "id": "cc817431",
   "metadata": {
    "ExecuteTime": {
     "end_time": "2023-10-02T04:11:16.467370Z",
     "start_time": "2023-10-02T04:11:16.345448Z"
    }
   },
   "outputs": [
    {
     "data": {
      "text/plain": [
       "Text(0.5, 1.0, 'Scatter plot Age vs Hours-per-week')"
      ]
     },
     "execution_count": 11,
     "metadata": {},
     "output_type": "execute_result"
    },
    {
     "data": {
      "image/png": "[encoded data removed]",
      "text/plain": [
       "<Figure size 800x400 with 1 Axes>"
      ]
     },
     "metadata": {},
     "output_type": "display_data"
    }
   ],
   "source": [
    "# scatter plot of age vs hours-per-week\n",
    "\n",
    "plt.figure(figsize=(8, 4))\n",
    "plt.scatter(x=num_df['age'], y=num_df['hours-per-week'])\n",
    "plt.xlabel('Age')\n",
    "plt.ylabel('Hours-per-week')\n",
    "plt.title('Scatter plot Age vs Hours-per-week')"
   ]
  },
  {
   "cell_type": "markdown",
   "id": "abbec77c",
   "metadata": {},
   "source": [
    "# Question 3"
   ]
  },
  {
   "cell_type": "markdown",
   "id": "d4ca984c",
   "metadata": {},
   "source": [
    "For the remaining categorical attributes create bar charts that show the distribution of category frequencies (e.g., married vs. single; private vs. public vs. self-emp; etc). Ideally, you should use bar charts in a single figure similar to this figure."
   ]
  },
  {
   "cell_type": "code",
   "execution_count": 12,
   "id": "5cdf0146",
   "metadata": {
    "ExecuteTime": {
     "end_time": "2023-10-02T04:11:16.471346Z",
     "start_time": "2023-10-02T04:11:16.468569Z"
    }
   },
   "outputs": [],
   "source": [
    "# filter categorical data\n",
    "cat_df = adlt_df.select_dtypes('object')"
   ]
  },
  {
   "cell_type": "code",
   "execution_count": 13,
   "id": "e1f28399",
   "metadata": {
    "ExecuteTime": {
     "end_time": "2023-10-02T04:11:16.478367Z",
     "start_time": "2023-10-02T04:11:16.473226Z"
    }
   },
   "outputs": [
    {
     "data": {
      "text/html": [
       "<div>\n",
       "<style scoped>\n",
       "    .dataframe tbody tr th:only-of-type {\n",
       "        vertical-align: middle;\n",
       "    }\n",
       "\n",
       "    .dataframe tbody tr th {\n",
       "        vertical-align: top;\n",
       "    }\n",
       "\n",
       "    .dataframe thead th {\n",
       "        text-align: right;\n",
       "    }\n",
       "</style>\n",
       "<table border=\"1\" class=\"dataframe\">\n",
       "  <thead>\n",
       "    <tr style=\"text-align: right;\">\n",
       "      <th></th>\n",
       "      <th>workclass</th>\n",
       "      <th>marital-status</th>\n",
       "      <th>race</th>\n",
       "      <th>sex</th>\n",
       "      <th>income</th>\n",
       "    </tr>\n",
       "  </thead>\n",
       "  <tbody>\n",
       "    <tr>\n",
       "      <th>0</th>\n",
       "      <td>Public</td>\n",
       "      <td>Single</td>\n",
       "      <td>White</td>\n",
       "      <td>Male</td>\n",
       "      <td>&lt;=50K</td>\n",
       "    </tr>\n",
       "    <tr>\n",
       "      <th>1</th>\n",
       "      <td>Self-emp</td>\n",
       "      <td>Married</td>\n",
       "      <td>White</td>\n",
       "      <td>Male</td>\n",
       "      <td>&lt;=50K</td>\n",
       "    </tr>\n",
       "    <tr>\n",
       "      <th>2</th>\n",
       "      <td>Private</td>\n",
       "      <td>Single</td>\n",
       "      <td>White</td>\n",
       "      <td>Male</td>\n",
       "      <td>&lt;=50K</td>\n",
       "    </tr>\n",
       "    <tr>\n",
       "      <th>3</th>\n",
       "      <td>Private</td>\n",
       "      <td>Married</td>\n",
       "      <td>Black</td>\n",
       "      <td>Male</td>\n",
       "      <td>&lt;=50K</td>\n",
       "    </tr>\n",
       "    <tr>\n",
       "      <th>4</th>\n",
       "      <td>Private</td>\n",
       "      <td>Married</td>\n",
       "      <td>Black</td>\n",
       "      <td>Female</td>\n",
       "      <td>&lt;=50K</td>\n",
       "    </tr>\n",
       "  </tbody>\n",
       "</table>\n",
       "</div>"
      ],
      "text/plain": [
       "  workclass marital-status   race     sex income\n",
       "0    Public         Single  White    Male  <=50K\n",
       "1  Self-emp        Married  White    Male  <=50K\n",
       "2   Private         Single  White    Male  <=50K\n",
       "3   Private        Married  Black    Male  <=50K\n",
       "4   Private        Married  Black  Female  <=50K"
      ]
     },
     "execution_count": 13,
     "metadata": {},
     "output_type": "execute_result"
    }
   ],
   "source": [
    "cat_df.head()"
   ]
  },
  {
   "cell_type": "code",
   "execution_count": 14,
   "id": "4288ea0a",
   "metadata": {
    "ExecuteTime": {
     "end_time": "2023-10-02T04:11:16.494730Z",
     "start_time": "2023-10-02T04:11:16.482927Z"
    },
    "scrolled": false
   },
   "outputs": [],
   "source": [
    "# create counts dataframe\n",
    "\n",
    "cnt_df = pd.DataFrame()\n",
    "for col in cat_df.columns:\n",
    "    tmp_df = pd.DataFrame(cat_df[col].value_counts()).reset_index().rename({f'{col}':'value'}, axis=1)\n",
    "    tmp_df['col_name'] = col\n",
    "    cnt_df = pd.concat([cnt_df, tmp_df], axis=0)"
   ]
  },
  {
   "cell_type": "code",
   "execution_count": 15,
   "id": "9f265493",
   "metadata": {
    "ExecuteTime": {
     "end_time": "2023-10-02T04:11:16.500203Z",
     "start_time": "2023-10-02T04:11:16.496725Z"
    }
   },
   "outputs": [],
   "source": [
    "# reset index\n",
    "cnt_df.reset_index(drop=True, inplace=True)"
   ]
  },
  {
   "cell_type": "code",
   "execution_count": 16,
   "id": "3230dd0e",
   "metadata": {
    "ExecuteTime": {
     "end_time": "2023-10-02T04:11:16.510884Z",
     "start_time": "2023-10-02T04:11:16.502243Z"
    }
   },
   "outputs": [
    {
     "data": {
      "text/html": [
       "<div>\n",
       "<style scoped>\n",
       "    .dataframe tbody tr th:only-of-type {\n",
       "        vertical-align: middle;\n",
       "    }\n",
       "\n",
       "    .dataframe tbody tr th {\n",
       "        vertical-align: top;\n",
       "    }\n",
       "\n",
       "    .dataframe thead th {\n",
       "        text-align: right;\n",
       "    }\n",
       "</style>\n",
       "<table border=\"1\" class=\"dataframe\">\n",
       "  <thead>\n",
       "    <tr style=\"text-align: right;\">\n",
       "      <th></th>\n",
       "      <th>value</th>\n",
       "      <th>count</th>\n",
       "      <th>col_name</th>\n",
       "    </tr>\n",
       "  </thead>\n",
       "  <tbody>\n",
       "    <tr>\n",
       "      <th>0</th>\n",
       "      <td>Private</td>\n",
       "      <td>6947</td>\n",
       "      <td>workclass</td>\n",
       "    </tr>\n",
       "    <tr>\n",
       "      <th>1</th>\n",
       "      <td>Public</td>\n",
       "      <td>1317</td>\n",
       "      <td>workclass</td>\n",
       "    </tr>\n",
       "    <tr>\n",
       "      <th>2</th>\n",
       "      <td>Self-emp</td>\n",
       "      <td>1148</td>\n",
       "      <td>workclass</td>\n",
       "    </tr>\n",
       "    <tr>\n",
       "      <th>3</th>\n",
       "      <td>Married</td>\n",
       "      <td>4737</td>\n",
       "      <td>marital-status</td>\n",
       "    </tr>\n",
       "    <tr>\n",
       "      <th>4</th>\n",
       "      <td>Single</td>\n",
       "      <td>4675</td>\n",
       "      <td>marital-status</td>\n",
       "    </tr>\n",
       "    <tr>\n",
       "      <th>5</th>\n",
       "      <td>White</td>\n",
       "      <td>8062</td>\n",
       "      <td>race</td>\n",
       "    </tr>\n",
       "    <tr>\n",
       "      <th>6</th>\n",
       "      <td>Black</td>\n",
       "      <td>892</td>\n",
       "      <td>race</td>\n",
       "    </tr>\n",
       "    <tr>\n",
       "      <th>7</th>\n",
       "      <td>Asian</td>\n",
       "      <td>291</td>\n",
       "      <td>race</td>\n",
       "    </tr>\n",
       "    <tr>\n",
       "      <th>8</th>\n",
       "      <td>Amer-Indian</td>\n",
       "      <td>92</td>\n",
       "      <td>race</td>\n",
       "    </tr>\n",
       "    <tr>\n",
       "      <th>9</th>\n",
       "      <td>Hispanic</td>\n",
       "      <td>75</td>\n",
       "      <td>race</td>\n",
       "    </tr>\n",
       "    <tr>\n",
       "      <th>10</th>\n",
       "      <td>Male</td>\n",
       "      <td>6383</td>\n",
       "      <td>sex</td>\n",
       "    </tr>\n",
       "    <tr>\n",
       "      <th>11</th>\n",
       "      <td>Female</td>\n",
       "      <td>3029</td>\n",
       "      <td>sex</td>\n",
       "    </tr>\n",
       "    <tr>\n",
       "      <th>12</th>\n",
       "      <td>&lt;=50K</td>\n",
       "      <td>7093</td>\n",
       "      <td>income</td>\n",
       "    </tr>\n",
       "    <tr>\n",
       "      <th>13</th>\n",
       "      <td>&gt;50K</td>\n",
       "      <td>2319</td>\n",
       "      <td>income</td>\n",
       "    </tr>\n",
       "  </tbody>\n",
       "</table>\n",
       "</div>"
      ],
      "text/plain": [
       "          value  count        col_name\n",
       "0       Private   6947       workclass\n",
       "1        Public   1317       workclass\n",
       "2      Self-emp   1148       workclass\n",
       "3       Married   4737  marital-status\n",
       "4        Single   4675  marital-status\n",
       "5         White   8062            race\n",
       "6         Black    892            race\n",
       "7         Asian    291            race\n",
       "8   Amer-Indian     92            race\n",
       "9      Hispanic     75            race\n",
       "10         Male   6383             sex\n",
       "11       Female   3029             sex\n",
       "12        <=50K   7093          income\n",
       "13         >50K   2319          income"
      ]
     },
     "execution_count": 16,
     "metadata": {},
     "output_type": "execute_result"
    }
   ],
   "source": [
    "cnt_df"
   ]
  },
  {
   "cell_type": "code",
   "execution_count": 17,
   "id": "5cb296f2",
   "metadata": {
    "ExecuteTime": {
     "end_time": "2023-10-02T04:11:16.852513Z",
     "start_time": "2023-10-02T04:11:16.514854Z"
    }
   },
   "outputs": [
    {
     "data": {
      "text/plain": [
       "<BarContainer object of 2 artists>"
      ]
     },
     "execution_count": 17,
     "metadata": {},
     "output_type": "execute_result"
    },
    {
     "data": {
      "image/png": "[encoded data removed]",
      "text/plain": [
       "<Figure size 1200x600 with 5 Axes>"
      ]
     },
     "metadata": {},
     "output_type": "display_data"
    }
   ],
   "source": [
    "# create subplots canvas\n",
    "plt.figure(figsize=(12, 6))\n",
    "ax1 = plt.subplot(2,3,1)\n",
    "ax2 = plt.subplot(2,3,2)\n",
    "ax3 = plt.subplot(2,3,3)\n",
    "ax4 = plt.subplot(2,3,4)\n",
    "ax5 = plt.subplot(2,3,5)\n",
    "\n",
    "## plotting barplots to subplots\n",
    "ax1.bar(cnt_df[cnt_df.col_name=='workclass']['value'], cnt_df[cnt_df.col_name=='workclass']['count'])\n",
    "ax2.bar(cnt_df[cnt_df.col_name=='marital-status']['value'], cnt_df[cnt_df.col_name=='marital-status']['count'])\n",
    "ax3.bar(cnt_df[cnt_df.col_name=='race']['value'], cnt_df[cnt_df.col_name=='race']['count'])\n",
    "ax4.bar(cnt_df[cnt_df.col_name=='sex']['value'], cnt_df[cnt_df.col_name=='sex']['count'])\n",
    "ax5.bar(cnt_df[cnt_df.col_name=='income']['value'], cnt_df[cnt_df.col_name=='income']['count'])\n"
   ]
  },
  {
   "cell_type": "markdown",
   "id": "369fd9d3",
   "metadata": {},
   "source": [
    "# Question 4"
   ]
  },
  {
   "cell_type": "markdown",
   "id": "8b6596c7",
   "metadata": {},
   "source": [
    "Perform a cross-tabulations of each of the workclass and race attributes with the income attribute. Show the resulting cross-tab tables as well as bar charts to visualize the relationships between these pairs of attributes. [Hint: you can use aggregation functions in Pandas such as groupby() and  cross-tab(), then either using Matplotlib directly or the plot() function in Pandas create the bar charts]. As an illustration, consider this graph depicting the cross-tabulation of sex with income. In the case of race vs. income cross-tab, create another chart comparing the percentages of each race category that fall in the low-income group."
   ]
  },
  {
   "cell_type": "code",
   "execution_count": 18,
   "id": "1277d300",
   "metadata": {
    "ExecuteTime": {
     "end_time": "2023-10-02T04:11:17.007604Z",
     "start_time": "2023-10-02T04:11:16.853576Z"
    }
   },
   "outputs": [
    {
     "data": {
      "image/png": "[encoded data removed]",
      "text/plain": [
       "<Figure size 1000x400 with 2 Axes>"
      ]
     },
     "metadata": {},
     "output_type": "display_data"
    }
   ],
   "source": [
    "# subplots canvas\n",
    "plt.figure(figsize=(10, 4))\n",
    "ax1 = plt.subplot(1,2,1)\n",
    "ax2 = plt.subplot(1,2,2)\n",
    "\n",
    "## plotting crosstab to subplots\n",
    "pd.crosstab(cat_df.workclass, cat_df.income).plot(kind='bar', ax=ax1)\n",
    "pd.crosstab(cat_df.race, cat_df.income).plot(kind='bar', ax=ax2)\n",
    "plt.show()"
   ]
  },
  {
   "cell_type": "code",
   "execution_count": 19,
   "id": "30f1f105",
   "metadata": {
    "ExecuteTime": {
     "end_time": "2023-10-02T04:11:17.014007Z",
     "start_time": "2023-10-02T04:11:17.008852Z"
    }
   },
   "outputs": [],
   "source": [
    "# count race by income group\n",
    "plt_df = cat_df.groupby(['income', 'race']).size().reset_index().rename({0:'count'}, axis=1)"
   ]
  },
  {
   "cell_type": "code",
   "execution_count": 20,
   "id": "5b7b9a89",
   "metadata": {
    "ExecuteTime": {
     "end_time": "2023-10-02T04:11:17.025875Z",
     "start_time": "2023-10-02T04:11:17.015813Z"
    }
   },
   "outputs": [
    {
     "data": {
      "text/html": [
       "<div>\n",
       "<style scoped>\n",
       "    .dataframe tbody tr th:only-of-type {\n",
       "        vertical-align: middle;\n",
       "    }\n",
       "\n",
       "    .dataframe tbody tr th {\n",
       "        vertical-align: top;\n",
       "    }\n",
       "\n",
       "    .dataframe thead th {\n",
       "        text-align: right;\n",
       "    }\n",
       "</style>\n",
       "<table border=\"1\" class=\"dataframe\">\n",
       "  <thead>\n",
       "    <tr style=\"text-align: right;\">\n",
       "      <th></th>\n",
       "      <th>income</th>\n",
       "      <th>race</th>\n",
       "      <th>count</th>\n",
       "    </tr>\n",
       "  </thead>\n",
       "  <tbody>\n",
       "    <tr>\n",
       "      <th>0</th>\n",
       "      <td>&lt;=50K</td>\n",
       "      <td>Amer-Indian</td>\n",
       "      <td>83</td>\n",
       "    </tr>\n",
       "    <tr>\n",
       "      <th>1</th>\n",
       "      <td>&lt;=50K</td>\n",
       "      <td>Asian</td>\n",
       "      <td>224</td>\n",
       "    </tr>\n",
       "    <tr>\n",
       "      <th>2</th>\n",
       "      <td>&lt;=50K</td>\n",
       "      <td>Black</td>\n",
       "      <td>773</td>\n",
       "    </tr>\n",
       "    <tr>\n",
       "      <th>3</th>\n",
       "      <td>&lt;=50K</td>\n",
       "      <td>Hispanic</td>\n",
       "      <td>69</td>\n",
       "    </tr>\n",
       "    <tr>\n",
       "      <th>4</th>\n",
       "      <td>&lt;=50K</td>\n",
       "      <td>White</td>\n",
       "      <td>5944</td>\n",
       "    </tr>\n",
       "    <tr>\n",
       "      <th>5</th>\n",
       "      <td>&gt;50K</td>\n",
       "      <td>Amer-Indian</td>\n",
       "      <td>9</td>\n",
       "    </tr>\n",
       "    <tr>\n",
       "      <th>6</th>\n",
       "      <td>&gt;50K</td>\n",
       "      <td>Asian</td>\n",
       "      <td>67</td>\n",
       "    </tr>\n",
       "    <tr>\n",
       "      <th>7</th>\n",
       "      <td>&gt;50K</td>\n",
       "      <td>Black</td>\n",
       "      <td>119</td>\n",
       "    </tr>\n",
       "    <tr>\n",
       "      <th>8</th>\n",
       "      <td>&gt;50K</td>\n",
       "      <td>Hispanic</td>\n",
       "      <td>6</td>\n",
       "    </tr>\n",
       "    <tr>\n",
       "      <th>9</th>\n",
       "      <td>&gt;50K</td>\n",
       "      <td>White</td>\n",
       "      <td>2118</td>\n",
       "    </tr>\n",
       "  </tbody>\n",
       "</table>\n",
       "</div>"
      ],
      "text/plain": [
       "  income         race  count\n",
       "0  <=50K  Amer-Indian     83\n",
       "1  <=50K        Asian    224\n",
       "2  <=50K        Black    773\n",
       "3  <=50K     Hispanic     69\n",
       "4  <=50K        White   5944\n",
       "5   >50K  Amer-Indian      9\n",
       "6   >50K        Asian     67\n",
       "7   >50K        Black    119\n",
       "8   >50K     Hispanic      6\n",
       "9   >50K        White   2118"
      ]
     },
     "execution_count": 20,
     "metadata": {},
     "output_type": "execute_result"
    }
   ],
   "source": [
    "plt_df"
   ]
  },
  {
   "cell_type": "code",
   "execution_count": 21,
   "id": "62f3e7c5",
   "metadata": {
    "ExecuteTime": {
     "end_time": "2023-10-02T04:11:17.031288Z",
     "start_time": "2023-10-02T04:11:17.027215Z"
    }
   },
   "outputs": [],
   "source": [
    "# get total counts of race\n",
    "plt_df['total_count'] = plt_df.race.map(dict(cat_df.race.value_counts()))"
   ]
  },
  {
   "cell_type": "code",
   "execution_count": 22,
   "id": "881ed3b2",
   "metadata": {
    "ExecuteTime": {
     "end_time": "2023-10-02T04:11:17.036281Z",
     "start_time": "2023-10-02T04:11:17.033306Z"
    }
   },
   "outputs": [],
   "source": [
    "# calculate percent race\n",
    "plt_df['race_percent'] = (plt_df['count']/plt_df['total_count'])*100"
   ]
  },
  {
   "cell_type": "code",
   "execution_count": 23,
   "id": "c2ed8fec",
   "metadata": {
    "ExecuteTime": {
     "end_time": "2023-10-02T04:11:17.197483Z",
     "start_time": "2023-10-02T04:11:17.037610Z"
    }
   },
   "outputs": [
    {
     "data": {
      "text/plain": [
       "Text(0.5, 1.0, 'Percentage of race in low-income group')"
      ]
     },
     "execution_count": 23,
     "metadata": {},
     "output_type": "execute_result"
    },
    {
     "data": {
      "image/png": "[encoded data removed]",
      "text/plain": [
       "<Figure size 800x400 with 1 Axes>"
      ]
     },
     "metadata": {},
     "output_type": "display_data"
    }
   ],
   "source": [
    "# plotting percentage of race by low income-group\n",
    "plt.figure(figsize=(8, 4))\n",
    "plt.bar(plt_df[plt_df.income=='<=50K']['race'], plt_df[plt_df.income=='<=50K']['race_percent'])\n",
    "plt.xlabel('Race')\n",
    "plt.ylabel('Percentage')\n",
    "plt.title('Percentage of race in low-income group')"
   ]
  },
  {
   "cell_type": "markdown",
   "id": "af2c934b",
   "metadata": {},
   "source": [
    "# Question 5"
   ]
  },
  {
   "cell_type": "markdown",
   "id": "234280ec",
   "metadata": {},
   "source": [
    "Compare and contrast the characteristics of the low-income and high-income categories across the different attributes. You may consider first creating separate subsets of the data based on the income categories and then characterizing each subset by observing summary statistics for each group across different variables. Discuss your observations focusing specifically on unique characteristics that seem to distinguish among the two groups. You may (though you are not required to) use charts or plots for visualizing the differences in your analysis."
   ]
  },
  {
   "cell_type": "code",
   "execution_count": 24,
   "id": "79055b7c",
   "metadata": {
    "ExecuteTime": {
     "end_time": "2023-10-02T04:11:17.205780Z",
     "start_time": "2023-10-02T04:11:17.198783Z"
    }
   },
   "outputs": [
    {
     "data": {
      "text/html": [
       "<div>\n",
       "<style scoped>\n",
       "    .dataframe tbody tr th:only-of-type {\n",
       "        vertical-align: middle;\n",
       "    }\n",
       "\n",
       "    .dataframe tbody tr th {\n",
       "        vertical-align: top;\n",
       "    }\n",
       "\n",
       "    .dataframe thead th {\n",
       "        text-align: right;\n",
       "    }\n",
       "</style>\n",
       "<table border=\"1\" class=\"dataframe\">\n",
       "  <thead>\n",
       "    <tr style=\"text-align: right;\">\n",
       "      <th></th>\n",
       "      <th>age</th>\n",
       "      <th>workclass</th>\n",
       "      <th>education</th>\n",
       "      <th>marital-status</th>\n",
       "      <th>race</th>\n",
       "      <th>sex</th>\n",
       "      <th>hours-per-week</th>\n",
       "      <th>income</th>\n",
       "    </tr>\n",
       "  </thead>\n",
       "  <tbody>\n",
       "    <tr>\n",
       "      <th>0</th>\n",
       "      <td>39</td>\n",
       "      <td>Public</td>\n",
       "      <td>13</td>\n",
       "      <td>Single</td>\n",
       "      <td>White</td>\n",
       "      <td>Male</td>\n",
       "      <td>40</td>\n",
       "      <td>&lt;=50K</td>\n",
       "    </tr>\n",
       "    <tr>\n",
       "      <th>1</th>\n",
       "      <td>50</td>\n",
       "      <td>Self-emp</td>\n",
       "      <td>13</td>\n",
       "      <td>Married</td>\n",
       "      <td>White</td>\n",
       "      <td>Male</td>\n",
       "      <td>13</td>\n",
       "      <td>&lt;=50K</td>\n",
       "    </tr>\n",
       "    <tr>\n",
       "      <th>2</th>\n",
       "      <td>38</td>\n",
       "      <td>Private</td>\n",
       "      <td>9</td>\n",
       "      <td>Single</td>\n",
       "      <td>White</td>\n",
       "      <td>Male</td>\n",
       "      <td>40</td>\n",
       "      <td>&lt;=50K</td>\n",
       "    </tr>\n",
       "    <tr>\n",
       "      <th>3</th>\n",
       "      <td>53</td>\n",
       "      <td>Private</td>\n",
       "      <td>7</td>\n",
       "      <td>Married</td>\n",
       "      <td>Black</td>\n",
       "      <td>Male</td>\n",
       "      <td>40</td>\n",
       "      <td>&lt;=50K</td>\n",
       "    </tr>\n",
       "    <tr>\n",
       "      <th>4</th>\n",
       "      <td>28</td>\n",
       "      <td>Private</td>\n",
       "      <td>13</td>\n",
       "      <td>Married</td>\n",
       "      <td>Black</td>\n",
       "      <td>Female</td>\n",
       "      <td>40</td>\n",
       "      <td>&lt;=50K</td>\n",
       "    </tr>\n",
       "  </tbody>\n",
       "</table>\n",
       "</div>"
      ],
      "text/plain": [
       "   age workclass  education marital-status   race     sex  hours-per-week  \\\n",
       "0   39    Public         13         Single  White    Male              40   \n",
       "1   50  Self-emp         13        Married  White    Male              13   \n",
       "2   38   Private          9         Single  White    Male              40   \n",
       "3   53   Private          7        Married  Black    Male              40   \n",
       "4   28   Private         13        Married  Black  Female              40   \n",
       "\n",
       "  income  \n",
       "0  <=50K  \n",
       "1  <=50K  \n",
       "2  <=50K  \n",
       "3  <=50K  \n",
       "4  <=50K  "
      ]
     },
     "execution_count": 24,
     "metadata": {},
     "output_type": "execute_result"
    }
   ],
   "source": [
    "adlt_df.head()"
   ]
  },
  {
   "cell_type": "code",
   "execution_count": 25,
   "id": "94d2bf12",
   "metadata": {
    "ExecuteTime": {
     "end_time": "2023-10-02T04:11:17.218391Z",
     "start_time": "2023-10-02T04:11:17.206912Z"
    }
   },
   "outputs": [],
   "source": [
    "# define q1, q3 quartile functions\n",
    "\n",
    "def q1(x):\n",
    "    return x.quantile(0.25)\n",
    "\n",
    "def q3(x):\n",
    "    return x.quantile(0.75)"
   ]
  },
  {
   "cell_type": "code",
   "execution_count": 26,
   "id": "c31daf6e",
   "metadata": {
    "ExecuteTime": {
     "end_time": "2023-10-02T04:11:17.240664Z",
     "start_time": "2023-10-02T04:11:17.219626Z"
    }
   },
   "outputs": [
    {
     "data": {
      "text/html": [
       "<div>\n",
       "<style scoped>\n",
       "    .dataframe tbody tr th:only-of-type {\n",
       "        vertical-align: middle;\n",
       "    }\n",
       "\n",
       "    .dataframe tbody tr th {\n",
       "        vertical-align: top;\n",
       "    }\n",
       "\n",
       "    .dataframe thead tr th {\n",
       "        text-align: left;\n",
       "    }\n",
       "</style>\n",
       "<table border=\"1\" class=\"dataframe\">\n",
       "  <thead>\n",
       "    <tr>\n",
       "      <th></th>\n",
       "      <th>income</th>\n",
       "      <th colspan=\"6\" halign=\"left\">age</th>\n",
       "      <th colspan=\"6\" halign=\"left\">education</th>\n",
       "      <th colspan=\"6\" halign=\"left\">hours-per-week</th>\n",
       "    </tr>\n",
       "    <tr>\n",
       "      <th></th>\n",
       "      <th></th>\n",
       "      <th>min</th>\n",
       "      <th>q1</th>\n",
       "      <th>mean</th>\n",
       "      <th>median</th>\n",
       "      <th>q3</th>\n",
       "      <th>max</th>\n",
       "      <th>min</th>\n",
       "      <th>q1</th>\n",
       "      <th>mean</th>\n",
       "      <th>median</th>\n",
       "      <th>q3</th>\n",
       "      <th>max</th>\n",
       "      <th>min</th>\n",
       "      <th>q1</th>\n",
       "      <th>mean</th>\n",
       "      <th>median</th>\n",
       "      <th>q3</th>\n",
       "      <th>max</th>\n",
       "    </tr>\n",
       "  </thead>\n",
       "  <tbody>\n",
       "    <tr>\n",
       "      <th>0</th>\n",
       "      <td>&lt;=50K</td>\n",
       "      <td>17</td>\n",
       "      <td>26.0</td>\n",
       "      <td>36.635979</td>\n",
       "      <td>35.0</td>\n",
       "      <td>45.0</td>\n",
       "      <td>90</td>\n",
       "      <td>1</td>\n",
       "      <td>9.0</td>\n",
       "      <td>9.646976</td>\n",
       "      <td>9.0</td>\n",
       "      <td>10.0</td>\n",
       "      <td>16</td>\n",
       "      <td>1</td>\n",
       "      <td>38.0</td>\n",
       "      <td>39.567038</td>\n",
       "      <td>40.0</td>\n",
       "      <td>40.0</td>\n",
       "      <td>99</td>\n",
       "    </tr>\n",
       "    <tr>\n",
       "      <th>1</th>\n",
       "      <td>&gt;50K</td>\n",
       "      <td>19</td>\n",
       "      <td>36.0</td>\n",
       "      <td>43.622251</td>\n",
       "      <td>43.0</td>\n",
       "      <td>50.0</td>\n",
       "      <td>90</td>\n",
       "      <td>2</td>\n",
       "      <td>9.0</td>\n",
       "      <td>11.588185</td>\n",
       "      <td>12.0</td>\n",
       "      <td>13.0</td>\n",
       "      <td>16</td>\n",
       "      <td>1</td>\n",
       "      <td>40.0</td>\n",
       "      <td>45.708495</td>\n",
       "      <td>40.0</td>\n",
       "      <td>50.0</td>\n",
       "      <td>99</td>\n",
       "    </tr>\n",
       "  </tbody>\n",
       "</table>\n",
       "</div>"
      ],
      "text/plain": [
       "  income age                                   education                  \\\n",
       "         min    q1       mean median    q3 max       min   q1       mean   \n",
       "0  <=50K  17  26.0  36.635979   35.0  45.0  90         1  9.0   9.646976   \n",
       "1   >50K  19  36.0  43.622251   43.0  50.0  90         2  9.0  11.588185   \n",
       "\n",
       "                   hours-per-week                                    \n",
       "  median    q3 max            min    q1       mean median    q3 max  \n",
       "0    9.0  10.0  16              1  38.0  39.567038   40.0  40.0  99  \n",
       "1   12.0  13.0  16              1  40.0  45.708495   40.0  50.0  99  "
      ]
     },
     "execution_count": 26,
     "metadata": {},
     "output_type": "execute_result"
    }
   ],
   "source": [
    "# get statistical attributes of numeric features by income group\n",
    "adlt_df.groupby(['income']).agg({'age':['min', q1, 'mean', 'median', q3, 'max'], \n",
    "                                'education': ['min', q1, 'mean', 'median', q3, 'max'], \n",
    "                                'hours-per-week': ['min', q1, 'mean', 'median', q3, 'max']}).reset_index()"
   ]
  },
  {
   "cell_type": "code",
   "execution_count": 27,
   "id": "161e7519",
   "metadata": {
    "ExecuteTime": {
     "end_time": "2023-10-02T04:11:17.247397Z",
     "start_time": "2023-10-02T04:11:17.241879Z"
    }
   },
   "outputs": [
    {
     "data": {
      "text/plain": [
       "income\n",
       "<=50K    7093\n",
       ">50K     2319\n",
       "Name: count, dtype: int64"
      ]
     },
     "execution_count": 27,
     "metadata": {},
     "output_type": "execute_result"
    }
   ],
   "source": [
    "adlt_df.income.value_counts()"
   ]
  },
  {
   "cell_type": "code",
   "execution_count": 28,
   "id": "977a0f72",
   "metadata": {
    "ExecuteTime": {
     "end_time": "2023-10-02T04:11:17.784348Z",
     "start_time": "2023-10-02T04:11:17.250705Z"
    }
   },
   "outputs": [
    {
     "data": {
      "text/plain": [
       "<Axes: title={'center': 'hours-per-week'}, xlabel='income'>"
      ]
     },
     "execution_count": 28,
     "metadata": {},
     "output_type": "execute_result"
    },
    {
     "data": {
      "image/png": "[encoded data removed]",
      "text/plain": [
       "<Figure size 1500x400 with 3 Axes>"
      ]
     },
     "metadata": {},
     "output_type": "display_data"
    }
   ],
   "source": [
    "## subplot canvas\n",
    "plt.figure(figsize=(15, 4))\n",
    "ax1 = plt.subplot(1,3,1)\n",
    "ax2 = plt.subplot(1,3,2)\n",
    "ax3 = plt.subplot(1,3,3)\n",
    "\n",
    "## plotting boxplots to subplots by income group\n",
    "adlt_df.boxplot(column='age', by='income', ax=ax1)\n",
    "adlt_df.boxplot(column='education', by='income', ax=ax2)\n",
    "adlt_df.boxplot(column='hours-per-week', by='income', ax=ax3)"
   ]
  },
  {
   "cell_type": "markdown",
   "id": "8d5c436b",
   "metadata": {},
   "source": [
    "From the chart above, there is a slight difference in both the income groups:\n",
    "- Average `age` of high-income group is slightly greater than that of low-income group. This can tell us that high-income group will have more work experience than low-income group.\n",
    "- Similarly, average `education` is also greater for high-income group. This explains that people with higher education will get more compensated.\n",
    "- While comparing the quartiles and median of `education`, it is clear that majority of data points are concentrated towards the lower values, dragging the median to lower side. This also might be because of higher data points presence in low-income group.\n",
    "-  Additionally, by looking at the median age and education, it tells us that even with the presence of outliers in the data, the median values vary for both income groups. It indicates that a substantial portion of the high-income group earns more than a substantial portion of the low-income group.\n"
   ]
  },
  {
   "cell_type": "code",
   "execution_count": 29,
   "id": "ead4f374",
   "metadata": {
    "ExecuteTime": {
     "end_time": "2023-10-02T04:11:17.792248Z",
     "start_time": "2023-10-02T04:11:17.785370Z"
    }
   },
   "outputs": [
    {
     "data": {
      "text/plain": [
       "sex     income\n",
       "Male    <=50K     4424\n",
       "Female  <=50K     2669\n",
       "Male    >50K      1959\n",
       "Female  >50K       360\n",
       "Name: count, dtype: int64"
      ]
     },
     "execution_count": 29,
     "metadata": {},
     "output_type": "execute_result"
    }
   ],
   "source": [
    "adlt_df[['sex', 'income']].value_counts()"
   ]
  },
  {
   "cell_type": "code",
   "execution_count": 30,
   "id": "62c658ea",
   "metadata": {
    "ExecuteTime": {
     "end_time": "2023-10-02T04:11:17.892691Z",
     "start_time": "2023-10-02T04:11:17.793320Z"
    }
   },
   "outputs": [
    {
     "data": {
      "text/plain": [
       "Text(0.5, 1.0, 'Sex ratio by income groups')"
      ]
     },
     "execution_count": 30,
     "metadata": {},
     "output_type": "execute_result"
    },
    {
     "data": {
      "image/png": "[encoded data removed]",
      "text/plain": [
       "<Figure size 640x480 with 1 Axes>"
      ]
     },
     "metadata": {},
     "output_type": "display_data"
    }
   ],
   "source": [
    "# crosstab of sex ratio by income group\n",
    "pd.crosstab(adlt_df.income, adlt_df.sex).plot(kind='bar')\n",
    "plt.title(\"Sex ratio by income groups\")"
   ]
  },
  {
   "cell_type": "markdown",
   "id": "f1f2bd21",
   "metadata": {},
   "source": [
    "From the chart above:\n",
    "- There are less women working in both the income group. \n",
    "- Also, workers in high income group is mush lower than low-income group. "
   ]
  },
  {
   "cell_type": "code",
   "execution_count": 31,
   "id": "5bf79a79",
   "metadata": {
    "ExecuteTime": {
     "end_time": "2023-10-02T04:11:18.144600Z",
     "start_time": "2023-10-02T04:11:17.894029Z"
    }
   },
   "outputs": [
    {
     "data": {
      "text/plain": [
       "Text(0.5, 1.0, 'Marital status by income groups')"
      ]
     },
     "execution_count": 31,
     "metadata": {},
     "output_type": "execute_result"
    },
    {
     "data": {
      "image/png": "[encoded data removed]",
      "text/plain": [
       "<Figure size 640x480 with 1 Axes>"
      ]
     },
     "metadata": {},
     "output_type": "display_data"
    }
   ],
   "source": [
    "# crosstab of marital status by income group\n",
    "pd.crosstab(adlt_df.income, adlt_df['marital-status']).plot(kind='bar')\n",
    "plt.title(\"Marital status by income groups\")"
   ]
  },
  {
   "cell_type": "markdown",
   "id": "77c73f07",
   "metadata": {},
   "source": [
    "In above chart:\n",
    "- Single people in low income group is much higher than high income group while high-income group have higher married people. This might be correlated to the age factor, given that, after attaining certain financial stability, people tend to get settled with family."
   ]
  },
  {
   "cell_type": "code",
   "execution_count": 32,
   "id": "21957d5e",
   "metadata": {
    "ExecuteTime": {
     "end_time": "2023-10-02T04:11:18.170217Z",
     "start_time": "2023-10-02T04:11:18.147470Z"
    }
   },
   "outputs": [
    {
     "data": {
      "text/html": [
       "<div>\n",
       "<style scoped>\n",
       "    .dataframe tbody tr th:only-of-type {\n",
       "        vertical-align: middle;\n",
       "    }\n",
       "\n",
       "    .dataframe tbody tr th {\n",
       "        vertical-align: top;\n",
       "    }\n",
       "\n",
       "    .dataframe thead th {\n",
       "        text-align: right;\n",
       "    }\n",
       "</style>\n",
       "<table border=\"1\" class=\"dataframe\">\n",
       "  <thead>\n",
       "    <tr style=\"text-align: right;\">\n",
       "      <th>race</th>\n",
       "      <th>Amer-Indian</th>\n",
       "      <th>Asian</th>\n",
       "      <th>Black</th>\n",
       "      <th>Hispanic</th>\n",
       "      <th>White</th>\n",
       "    </tr>\n",
       "    <tr>\n",
       "      <th>income</th>\n",
       "      <th></th>\n",
       "      <th></th>\n",
       "      <th></th>\n",
       "      <th></th>\n",
       "      <th></th>\n",
       "    </tr>\n",
       "  </thead>\n",
       "  <tbody>\n",
       "    <tr>\n",
       "      <th>&lt;=50K</th>\n",
       "      <td>83</td>\n",
       "      <td>224</td>\n",
       "      <td>773</td>\n",
       "      <td>69</td>\n",
       "      <td>5944</td>\n",
       "    </tr>\n",
       "    <tr>\n",
       "      <th>&gt;50K</th>\n",
       "      <td>9</td>\n",
       "      <td>67</td>\n",
       "      <td>119</td>\n",
       "      <td>6</td>\n",
       "      <td>2118</td>\n",
       "    </tr>\n",
       "  </tbody>\n",
       "</table>\n",
       "</div>"
      ],
      "text/plain": [
       "race    Amer-Indian  Asian  Black  Hispanic  White\n",
       "income                                            \n",
       "<=50K            83    224    773        69   5944\n",
       ">50K              9     67    119         6   2118"
      ]
     },
     "execution_count": 32,
     "metadata": {},
     "output_type": "execute_result"
    }
   ],
   "source": [
    "pd.crosstab(adlt_df.income, adlt_df['race'])"
   ]
  },
  {
   "cell_type": "code",
   "execution_count": 33,
   "id": "95e855c6",
   "metadata": {
    "ExecuteTime": {
     "end_time": "2023-10-02T04:11:18.368140Z",
     "start_time": "2023-10-02T04:11:18.174847Z"
    }
   },
   "outputs": [
    {
     "data": {
      "text/plain": [
       "Text(0.5, 1.0, 'Race by income groups')"
      ]
     },
     "execution_count": 33,
     "metadata": {},
     "output_type": "execute_result"
    },
    {
     "data": {
      "image/png": "[encoded data removed]",
      "text/plain": [
       "<Figure size 640x480 with 1 Axes>"
      ]
     },
     "metadata": {},
     "output_type": "display_data"
    }
   ],
   "source": [
    "# crosstab of race by income group\n",
    "pd.crosstab(adlt_df.income, adlt_df['race']).plot(kind='bar')\n",
    "plt.title(\"Race by income groups\")"
   ]
  },
  {
   "cell_type": "markdown",
   "id": "19efc5d8",
   "metadata": {},
   "source": [
    "From the chart above:\n",
    "- Looks like both high-income and low-income group have less number of hispanic community. "
   ]
  },
  {
   "cell_type": "markdown",
   "id": "33991a2d",
   "metadata": {},
   "source": [
    "In conclusion:\n",
    "- There is high imbalance in terms of data points in the income groups. This may lead to misleading insights.\n",
    "- Even though there is imbalance in the dataset, the difference between the two groups can be clearly seen in other characterstics like `age, education, race, sex, etc.` \n",
    "- It might be interesting to have the sector as another factor and compare the distribution to get an understanding on how other features behave in accordance with sector."
   ]
  },
  {
   "cell_type": "markdown",
   "id": "9ac2226c",
   "metadata": {},
   "source": [
    "# Question 6"
   ]
  },
  {
   "cell_type": "markdown",
   "id": "bc069ad2",
   "metadata": {},
   "source": [
    "Convert the data into the standard spreadsheet format. Note that this requires converting each categorical attribute into multiple binary (\"dummy\") attributes (one for each values of the categorical attribute) and assigning binary values corresponding to the presence or not presence of the attribute value in the original record). The numeric attributes should remain unchanged. Save this data in a new dataframe and show the top 10 rows in the new dataframe. Also save this new table into a local file called adult_numeric.csv."
   ]
  },
  {
   "cell_type": "code",
   "execution_count": 34,
   "id": "f2a499db",
   "metadata": {
    "ExecuteTime": {
     "end_time": "2023-10-02T04:11:18.372972Z",
     "start_time": "2023-10-02T04:11:18.370229Z"
    },
    "scrolled": true
   },
   "outputs": [],
   "source": [
    "# filter categorical and numeric dataframe\n",
    "num_df = adlt_df.select_dtypes(int)\n",
    "cat_df = adlt_df.select_dtypes(object)"
   ]
  },
  {
   "cell_type": "code",
   "execution_count": 35,
   "id": "b2a54730",
   "metadata": {
    "ExecuteTime": {
     "end_time": "2023-10-02T04:11:18.398615Z",
     "start_time": "2023-10-02T04:11:18.374692Z"
    }
   },
   "outputs": [],
   "source": [
    "# get dummy data from pd.get_dummies() function\n",
    "dummy_data = pd.get_dummies(cat_df, dtype=float)"
   ]
  },
  {
   "cell_type": "code",
   "execution_count": 36,
   "id": "276c2b3e",
   "metadata": {
    "ExecuteTime": {
     "end_time": "2023-10-02T04:11:18.410569Z",
     "start_time": "2023-10-02T04:11:18.401925Z"
    }
   },
   "outputs": [],
   "source": [
    "# combine two datasets\n",
    "final_num_dummy_df = pd.DataFrame()\n",
    "final_num_dummy_df = pd.concat([num_df, dummy_data], axis=1)"
   ]
  },
  {
   "cell_type": "code",
   "execution_count": 37,
   "id": "ed2695ea",
   "metadata": {
    "ExecuteTime": {
     "end_time": "2023-10-02T04:11:18.466171Z",
     "start_time": "2023-10-02T04:11:18.414862Z"
    }
   },
   "outputs": [
    {
     "data": {
      "text/html": [
       "<div>\n",
       "<style scoped>\n",
       "    .dataframe tbody tr th:only-of-type {\n",
       "        vertical-align: middle;\n",
       "    }\n",
       "\n",
       "    .dataframe tbody tr th {\n",
       "        vertical-align: top;\n",
       "    }\n",
       "\n",
       "    .dataframe thead th {\n",
       "        text-align: right;\n",
       "    }\n",
       "</style>\n",
       "<table border=\"1\" class=\"dataframe\">\n",
       "  <thead>\n",
       "    <tr style=\"text-align: right;\">\n",
       "      <th></th>\n",
       "      <th>age</th>\n",
       "      <th>education</th>\n",
       "      <th>hours-per-week</th>\n",
       "      <th>workclass_Private</th>\n",
       "      <th>workclass_Public</th>\n",
       "      <th>workclass_Self-emp</th>\n",
       "      <th>marital-status_Married</th>\n",
       "      <th>marital-status_Single</th>\n",
       "      <th>race_Amer-Indian</th>\n",
       "      <th>race_Asian</th>\n",
       "      <th>race_Black</th>\n",
       "      <th>race_Hispanic</th>\n",
       "      <th>race_White</th>\n",
       "      <th>sex_Female</th>\n",
       "      <th>sex_Male</th>\n",
       "      <th>income_&lt;=50K</th>\n",
       "      <th>income_&gt;50K</th>\n",
       "    </tr>\n",
       "  </thead>\n",
       "  <tbody>\n",
       "    <tr>\n",
       "      <th>0</th>\n",
       "      <td>39</td>\n",
       "      <td>13</td>\n",
       "      <td>40</td>\n",
       "      <td>0.0</td>\n",
       "      <td>1.0</td>\n",
       "      <td>0.0</td>\n",
       "      <td>0.0</td>\n",
       "      <td>1.0</td>\n",
       "      <td>0.0</td>\n",
       "      <td>0.0</td>\n",
       "      <td>0.0</td>\n",
       "      <td>0.0</td>\n",
       "      <td>1.0</td>\n",
       "      <td>0.0</td>\n",
       "      <td>1.0</td>\n",
       "      <td>1.0</td>\n",
       "      <td>0.0</td>\n",
       "    </tr>\n",
       "    <tr>\n",
       "      <th>1</th>\n",
       "      <td>50</td>\n",
       "      <td>13</td>\n",
       "      <td>13</td>\n",
       "      <td>0.0</td>\n",
       "      <td>0.0</td>\n",
       "      <td>1.0</td>\n",
       "      <td>1.0</td>\n",
       "      <td>0.0</td>\n",
       "      <td>0.0</td>\n",
       "      <td>0.0</td>\n",
       "      <td>0.0</td>\n",
       "      <td>0.0</td>\n",
       "      <td>1.0</td>\n",
       "      <td>0.0</td>\n",
       "      <td>1.0</td>\n",
       "      <td>1.0</td>\n",
       "      <td>0.0</td>\n",
       "    </tr>\n",
       "    <tr>\n",
       "      <th>2</th>\n",
       "      <td>38</td>\n",
       "      <td>9</td>\n",
       "      <td>40</td>\n",
       "      <td>1.0</td>\n",
       "      <td>0.0</td>\n",
       "      <td>0.0</td>\n",
       "      <td>0.0</td>\n",
       "      <td>1.0</td>\n",
       "      <td>0.0</td>\n",
       "      <td>0.0</td>\n",
       "      <td>0.0</td>\n",
       "      <td>0.0</td>\n",
       "      <td>1.0</td>\n",
       "      <td>0.0</td>\n",
       "      <td>1.0</td>\n",
       "      <td>1.0</td>\n",
       "      <td>0.0</td>\n",
       "    </tr>\n",
       "    <tr>\n",
       "      <th>3</th>\n",
       "      <td>53</td>\n",
       "      <td>7</td>\n",
       "      <td>40</td>\n",
       "      <td>1.0</td>\n",
       "      <td>0.0</td>\n",
       "      <td>0.0</td>\n",
       "      <td>1.0</td>\n",
       "      <td>0.0</td>\n",
       "      <td>0.0</td>\n",
       "      <td>0.0</td>\n",
       "      <td>1.0</td>\n",
       "      <td>0.0</td>\n",
       "      <td>0.0</td>\n",
       "      <td>0.0</td>\n",
       "      <td>1.0</td>\n",
       "      <td>1.0</td>\n",
       "      <td>0.0</td>\n",
       "    </tr>\n",
       "    <tr>\n",
       "      <th>4</th>\n",
       "      <td>28</td>\n",
       "      <td>13</td>\n",
       "      <td>40</td>\n",
       "      <td>1.0</td>\n",
       "      <td>0.0</td>\n",
       "      <td>0.0</td>\n",
       "      <td>1.0</td>\n",
       "      <td>0.0</td>\n",
       "      <td>0.0</td>\n",
       "      <td>0.0</td>\n",
       "      <td>1.0</td>\n",
       "      <td>0.0</td>\n",
       "      <td>0.0</td>\n",
       "      <td>1.0</td>\n",
       "      <td>0.0</td>\n",
       "      <td>1.0</td>\n",
       "      <td>0.0</td>\n",
       "    </tr>\n",
       "    <tr>\n",
       "      <th>5</th>\n",
       "      <td>37</td>\n",
       "      <td>14</td>\n",
       "      <td>40</td>\n",
       "      <td>1.0</td>\n",
       "      <td>0.0</td>\n",
       "      <td>0.0</td>\n",
       "      <td>1.0</td>\n",
       "      <td>0.0</td>\n",
       "      <td>0.0</td>\n",
       "      <td>0.0</td>\n",
       "      <td>0.0</td>\n",
       "      <td>0.0</td>\n",
       "      <td>1.0</td>\n",
       "      <td>1.0</td>\n",
       "      <td>0.0</td>\n",
       "      <td>1.0</td>\n",
       "      <td>0.0</td>\n",
       "    </tr>\n",
       "    <tr>\n",
       "      <th>6</th>\n",
       "      <td>49</td>\n",
       "      <td>5</td>\n",
       "      <td>16</td>\n",
       "      <td>1.0</td>\n",
       "      <td>0.0</td>\n",
       "      <td>0.0</td>\n",
       "      <td>1.0</td>\n",
       "      <td>0.0</td>\n",
       "      <td>0.0</td>\n",
       "      <td>0.0</td>\n",
       "      <td>1.0</td>\n",
       "      <td>0.0</td>\n",
       "      <td>0.0</td>\n",
       "      <td>1.0</td>\n",
       "      <td>0.0</td>\n",
       "      <td>1.0</td>\n",
       "      <td>0.0</td>\n",
       "    </tr>\n",
       "    <tr>\n",
       "      <th>7</th>\n",
       "      <td>52</td>\n",
       "      <td>9</td>\n",
       "      <td>45</td>\n",
       "      <td>0.0</td>\n",
       "      <td>0.0</td>\n",
       "      <td>1.0</td>\n",
       "      <td>1.0</td>\n",
       "      <td>0.0</td>\n",
       "      <td>0.0</td>\n",
       "      <td>0.0</td>\n",
       "      <td>0.0</td>\n",
       "      <td>0.0</td>\n",
       "      <td>1.0</td>\n",
       "      <td>0.0</td>\n",
       "      <td>1.0</td>\n",
       "      <td>0.0</td>\n",
       "      <td>1.0</td>\n",
       "    </tr>\n",
       "    <tr>\n",
       "      <th>8</th>\n",
       "      <td>31</td>\n",
       "      <td>14</td>\n",
       "      <td>50</td>\n",
       "      <td>1.0</td>\n",
       "      <td>0.0</td>\n",
       "      <td>0.0</td>\n",
       "      <td>0.0</td>\n",
       "      <td>1.0</td>\n",
       "      <td>0.0</td>\n",
       "      <td>0.0</td>\n",
       "      <td>0.0</td>\n",
       "      <td>0.0</td>\n",
       "      <td>1.0</td>\n",
       "      <td>1.0</td>\n",
       "      <td>0.0</td>\n",
       "      <td>0.0</td>\n",
       "      <td>1.0</td>\n",
       "    </tr>\n",
       "    <tr>\n",
       "      <th>9</th>\n",
       "      <td>42</td>\n",
       "      <td>13</td>\n",
       "      <td>40</td>\n",
       "      <td>1.0</td>\n",
       "      <td>0.0</td>\n",
       "      <td>0.0</td>\n",
       "      <td>1.0</td>\n",
       "      <td>0.0</td>\n",
       "      <td>0.0</td>\n",
       "      <td>0.0</td>\n",
       "      <td>0.0</td>\n",
       "      <td>0.0</td>\n",
       "      <td>1.0</td>\n",
       "      <td>0.0</td>\n",
       "      <td>1.0</td>\n",
       "      <td>0.0</td>\n",
       "      <td>1.0</td>\n",
       "    </tr>\n",
       "  </tbody>\n",
       "</table>\n",
       "</div>"
      ],
      "text/plain": [
       "   age  education  hours-per-week  workclass_Private  workclass_Public  \\\n",
       "0   39         13              40                0.0               1.0   \n",
       "1   50         13              13                0.0               0.0   \n",
       "2   38          9              40                1.0               0.0   \n",
       "3   53          7              40                1.0               0.0   \n",
       "4   28         13              40                1.0               0.0   \n",
       "5   37         14              40                1.0               0.0   \n",
       "6   49          5              16                1.0               0.0   \n",
       "7   52          9              45                0.0               0.0   \n",
       "8   31         14              50                1.0               0.0   \n",
       "9   42         13              40                1.0               0.0   \n",
       "\n",
       "   workclass_Self-emp  marital-status_Married  marital-status_Single  \\\n",
       "0                 0.0                     0.0                    1.0   \n",
       "1                 1.0                     1.0                    0.0   \n",
       "2                 0.0                     0.0                    1.0   \n",
       "3                 0.0                     1.0                    0.0   \n",
       "4                 0.0                     1.0                    0.0   \n",
       "5                 0.0                     1.0                    0.0   \n",
       "6                 0.0                     1.0                    0.0   \n",
       "7                 1.0                     1.0                    0.0   \n",
       "8                 0.0                     0.0                    1.0   \n",
       "9                 0.0                     1.0                    0.0   \n",
       "\n",
       "   race_Amer-Indian  race_Asian  race_Black  race_Hispanic  race_White  \\\n",
       "0               0.0         0.0         0.0            0.0         1.0   \n",
       "1               0.0         0.0         0.0            0.0         1.0   \n",
       "2               0.0         0.0         0.0            0.0         1.0   \n",
       "3               0.0         0.0         1.0            0.0         0.0   \n",
       "4               0.0         0.0         1.0            0.0         0.0   \n",
       "5               0.0         0.0         0.0            0.0         1.0   \n",
       "6               0.0         0.0         1.0            0.0         0.0   \n",
       "7               0.0         0.0         0.0            0.0         1.0   \n",
       "8               0.0         0.0         0.0            0.0         1.0   \n",
       "9               0.0         0.0         0.0            0.0         1.0   \n",
       "\n",
       "   sex_Female  sex_Male  income_<=50K  income_>50K  \n",
       "0         0.0       1.0           1.0          0.0  \n",
       "1         0.0       1.0           1.0          0.0  \n",
       "2         0.0       1.0           1.0          0.0  \n",
       "3         0.0       1.0           1.0          0.0  \n",
       "4         1.0       0.0           1.0          0.0  \n",
       "5         1.0       0.0           1.0          0.0  \n",
       "6         1.0       0.0           1.0          0.0  \n",
       "7         0.0       1.0           0.0          1.0  \n",
       "8         1.0       0.0           0.0          1.0  \n",
       "9         0.0       1.0           0.0          1.0  "
      ]
     },
     "execution_count": 37,
     "metadata": {},
     "output_type": "execute_result"
    }
   ],
   "source": [
    "# show first 10 rows\n",
    "final_num_dummy_df.head(10)"
   ]
  },
  {
   "cell_type": "code",
   "execution_count": 38,
   "id": "484a3e0d",
   "metadata": {
    "ExecuteTime": {
     "end_time": "2023-10-02T04:11:18.567449Z",
     "start_time": "2023-10-02T04:11:18.469886Z"
    }
   },
   "outputs": [],
   "source": [
    "# save the dataset\n",
    "final_num_dummy_df.to_csv('../results/adult_numeric.csv', index=None)"
   ]
  },
  {
   "cell_type": "markdown",
   "id": "f08b319b",
   "metadata": {},
   "source": [
    "# Question 7"
   ]
  },
  {
   "cell_type": "markdown",
   "id": "60a4b161",
   "metadata": {},
   "source": [
    "Using the numeric data set with the dummy variables (of the previous part), perform basic correlation analysis among the attributes. You need to construct a complete Correlation Matrix (with rows and columns corresponding to each variable). [Hint: you can create the correlation matrix by using the corr() function in Pandas or corrcoef function in NumPy]. Next, using your correlation matrix, display in decreasing order of correlations, all attributes and their correlations to education. Repeat this step to display correlations with the attribute income_<=50K. Briefly discuss your general observations about this sample of adult population based on this correlation analysis."
   ]
  },
  {
   "cell_type": "code",
   "execution_count": 39,
   "id": "284b1214",
   "metadata": {
    "ExecuteTime": {
     "end_time": "2023-10-02T04:11:18.584212Z",
     "start_time": "2023-10-02T04:11:18.569749Z"
    }
   },
   "outputs": [],
   "source": [
    "# create correlation matrix\n",
    "corr_df = pd.DataFrame(final_num_dummy_df.corr())"
   ]
  },
  {
   "cell_type": "code",
   "execution_count": 40,
   "id": "43bb150c",
   "metadata": {
    "ExecuteTime": {
     "end_time": "2023-10-02T04:11:18.608553Z",
     "start_time": "2023-10-02T04:11:18.586859Z"
    }
   },
   "outputs": [
    {
     "data": {
      "text/html": [
       "<div>\n",
       "<style scoped>\n",
       "    .dataframe tbody tr th:only-of-type {\n",
       "        vertical-align: middle;\n",
       "    }\n",
       "\n",
       "    .dataframe tbody tr th {\n",
       "        vertical-align: top;\n",
       "    }\n",
       "\n",
       "    .dataframe thead th {\n",
       "        text-align: right;\n",
       "    }\n",
       "</style>\n",
       "<table border=\"1\" class=\"dataframe\">\n",
       "  <thead>\n",
       "    <tr style=\"text-align: right;\">\n",
       "      <th></th>\n",
       "      <th>age</th>\n",
       "      <th>education</th>\n",
       "      <th>hours-per-week</th>\n",
       "      <th>workclass_Private</th>\n",
       "      <th>workclass_Public</th>\n",
       "      <th>workclass_Self-emp</th>\n",
       "      <th>marital-status_Married</th>\n",
       "      <th>marital-status_Single</th>\n",
       "      <th>race_Amer-Indian</th>\n",
       "      <th>race_Asian</th>\n",
       "      <th>race_Black</th>\n",
       "      <th>race_Hispanic</th>\n",
       "      <th>race_White</th>\n",
       "      <th>sex_Female</th>\n",
       "      <th>sex_Male</th>\n",
       "      <th>income_&lt;=50K</th>\n",
       "      <th>income_&gt;50K</th>\n",
       "    </tr>\n",
       "  </thead>\n",
       "  <tbody>\n",
       "    <tr>\n",
       "      <th>age</th>\n",
       "      <td>1.000000</td>\n",
       "      <td>0.034733</td>\n",
       "      <td>0.103170</td>\n",
       "      <td>-0.202982</td>\n",
       "      <td>0.080254</td>\n",
       "      <td>0.187633</td>\n",
       "      <td>0.381168</td>\n",
       "      <td>-0.381168</td>\n",
       "      <td>-0.010904</td>\n",
       "      <td>-0.008097</td>\n",
       "      <td>-0.008668</td>\n",
       "      <td>-0.031973</td>\n",
       "      <td>0.022413</td>\n",
       "      <td>-0.071804</td>\n",
       "      <td>0.071804</td>\n",
       "      <td>-0.232261</td>\n",
       "      <td>0.232261</td>\n",
       "    </tr>\n",
       "    <tr>\n",
       "      <th>education</th>\n",
       "      <td>0.034733</td>\n",
       "      <td>1.000000</td>\n",
       "      <td>0.141730</td>\n",
       "      <td>-0.154977</td>\n",
       "      <td>0.154462</td>\n",
       "      <td>0.044472</td>\n",
       "      <td>0.050627</td>\n",
       "      <td>-0.050627</td>\n",
       "      <td>-0.039308</td>\n",
       "      <td>0.057360</td>\n",
       "      <td>-0.069029</td>\n",
       "      <td>-0.044845</td>\n",
       "      <td>0.051765</td>\n",
       "      <td>-0.008180</td>\n",
       "      <td>0.008180</td>\n",
       "      <td>-0.329066</td>\n",
       "      <td>0.329066</td>\n",
       "    </tr>\n",
       "    <tr>\n",
       "      <th>hours-per-week</th>\n",
       "      <td>0.103170</td>\n",
       "      <td>0.141730</td>\n",
       "      <td>1.000000</td>\n",
       "      <td>-0.097753</td>\n",
       "      <td>-0.021407</td>\n",
       "      <td>0.154025</td>\n",
       "      <td>0.183944</td>\n",
       "      <td>-0.183944</td>\n",
       "      <td>0.002964</td>\n",
       "      <td>0.000550</td>\n",
       "      <td>-0.071442</td>\n",
       "      <td>0.011964</td>\n",
       "      <td>0.055561</td>\n",
       "      <td>-0.221588</td>\n",
       "      <td>0.221588</td>\n",
       "      <td>-0.222686</td>\n",
       "      <td>0.222686</td>\n",
       "    </tr>\n",
       "    <tr>\n",
       "      <th>workclass_Private</th>\n",
       "      <td>-0.202982</td>\n",
       "      <td>-0.154977</td>\n",
       "      <td>-0.097753</td>\n",
       "      <td>1.000000</td>\n",
       "      <td>-0.677134</td>\n",
       "      <td>-0.625700</td>\n",
       "      <td>-0.121014</td>\n",
       "      <td>0.121014</td>\n",
       "      <td>-0.007136</td>\n",
       "      <td>-0.015060</td>\n",
       "      <td>0.004632</td>\n",
       "      <td>0.023490</td>\n",
       "      <td>-0.000389</td>\n",
       "      <td>0.072569</td>\n",
       "      <td>-0.072569</td>\n",
       "      <td>0.116453</td>\n",
       "      <td>-0.116453</td>\n",
       "    </tr>\n",
       "    <tr>\n",
       "      <th>workclass_Public</th>\n",
       "      <td>0.080254</td>\n",
       "      <td>0.154462</td>\n",
       "      <td>-0.021407</td>\n",
       "      <td>-0.677134</td>\n",
       "      <td>1.000000</td>\n",
       "      <td>-0.150335</td>\n",
       "      <td>-0.002351</td>\n",
       "      <td>0.002351</td>\n",
       "      <td>0.022185</td>\n",
       "      <td>0.012883</td>\n",
       "      <td>0.070250</td>\n",
       "      <td>-0.018927</td>\n",
       "      <td>-0.066491</td>\n",
       "      <td>0.045338</td>\n",
       "      <td>-0.045338</td>\n",
       "      <td>-0.047981</td>\n",
       "      <td>0.047981</td>\n",
       "    </tr>\n",
       "    <tr>\n",
       "      <th>workclass_Self-emp</th>\n",
       "      <td>0.187633</td>\n",
       "      <td>0.044472</td>\n",
       "      <td>0.154025</td>\n",
       "      <td>-0.625700</td>\n",
       "      <td>-0.150335</td>\n",
       "      <td>1.000000</td>\n",
       "      <td>0.165075</td>\n",
       "      <td>-0.165075</td>\n",
       "      <td>-0.013931</td>\n",
       "      <td>0.006576</td>\n",
       "      <td>-0.080694</td>\n",
       "      <td>-0.011495</td>\n",
       "      <td>0.071008</td>\n",
       "      <td>-0.145559</td>\n",
       "      <td>0.145559</td>\n",
       "      <td>-0.105593</td>\n",
       "      <td>0.105593</td>\n",
       "    </tr>\n",
       "    <tr>\n",
       "      <th>marital-status_Married</th>\n",
       "      <td>0.381168</td>\n",
       "      <td>0.050627</td>\n",
       "      <td>0.183944</td>\n",
       "      <td>-0.121014</td>\n",
       "      <td>-0.002351</td>\n",
       "      <td>0.165075</td>\n",
       "      <td>1.000000</td>\n",
       "      <td>-1.000000</td>\n",
       "      <td>-0.013614</td>\n",
       "      <td>0.017852</td>\n",
       "      <td>-0.104427</td>\n",
       "      <td>0.000605</td>\n",
       "      <td>0.082114</td>\n",
       "      <td>-0.357736</td>\n",
       "      <td>0.357736</td>\n",
       "      <td>-0.414173</td>\n",
       "      <td>0.414173</td>\n",
       "    </tr>\n",
       "    <tr>\n",
       "      <th>marital-status_Single</th>\n",
       "      <td>-0.381168</td>\n",
       "      <td>-0.050627</td>\n",
       "      <td>-0.183944</td>\n",
       "      <td>0.121014</td>\n",
       "      <td>0.002351</td>\n",
       "      <td>-0.165075</td>\n",
       "      <td>-1.000000</td>\n",
       "      <td>1.000000</td>\n",
       "      <td>0.013614</td>\n",
       "      <td>-0.017852</td>\n",
       "      <td>0.104427</td>\n",
       "      <td>-0.000605</td>\n",
       "      <td>-0.082114</td>\n",
       "      <td>0.357736</td>\n",
       "      <td>-0.357736</td>\n",
       "      <td>0.414173</td>\n",
       "      <td>-0.414173</td>\n",
       "    </tr>\n",
       "    <tr>\n",
       "      <th>race_Amer-Indian</th>\n",
       "      <td>-0.010904</td>\n",
       "      <td>-0.039308</td>\n",
       "      <td>0.002964</td>\n",
       "      <td>-0.007136</td>\n",
       "      <td>0.022185</td>\n",
       "      <td>-0.013931</td>\n",
       "      <td>-0.013614</td>\n",
       "      <td>0.013614</td>\n",
       "      <td>1.000000</td>\n",
       "      <td>-0.017746</td>\n",
       "      <td>-0.032148</td>\n",
       "      <td>-0.008905</td>\n",
       "      <td>-0.242795</td>\n",
       "      <td>0.021711</td>\n",
       "      <td>-0.021711</td>\n",
       "      <td>0.034254</td>\n",
       "      <td>-0.034254</td>\n",
       "    </tr>\n",
       "    <tr>\n",
       "      <th>race_Asian</th>\n",
       "      <td>-0.008097</td>\n",
       "      <td>0.057360</td>\n",
       "      <td>0.000550</td>\n",
       "      <td>-0.015060</td>\n",
       "      <td>0.012883</td>\n",
       "      <td>0.006576</td>\n",
       "      <td>0.017852</td>\n",
       "      <td>-0.017852</td>\n",
       "      <td>-0.017746</td>\n",
       "      <td>1.000000</td>\n",
       "      <td>-0.057795</td>\n",
       "      <td>-0.016009</td>\n",
       "      <td>-0.436496</td>\n",
       "      <td>0.001773</td>\n",
       "      <td>-0.001773</td>\n",
       "      <td>0.006693</td>\n",
       "      <td>-0.006693</td>\n",
       "    </tr>\n",
       "    <tr>\n",
       "      <th>race_Black</th>\n",
       "      <td>-0.008668</td>\n",
       "      <td>-0.069029</td>\n",
       "      <td>-0.071442</td>\n",
       "      <td>0.004632</td>\n",
       "      <td>0.070250</td>\n",
       "      <td>-0.080694</td>\n",
       "      <td>-0.104427</td>\n",
       "      <td>0.104427</td>\n",
       "      <td>-0.032148</td>\n",
       "      <td>-0.057795</td>\n",
       "      <td>1.000000</td>\n",
       "      <td>-0.028999</td>\n",
       "      <td>-0.790710</td>\n",
       "      <td>0.106323</td>\n",
       "      <td>-0.106323</td>\n",
       "      <td>0.084836</td>\n",
       "      <td>-0.084836</td>\n",
       "    </tr>\n",
       "    <tr>\n",
       "      <th>race_Hispanic</th>\n",
       "      <td>-0.031973</td>\n",
       "      <td>-0.044845</td>\n",
       "      <td>0.011964</td>\n",
       "      <td>0.023490</td>\n",
       "      <td>-0.018927</td>\n",
       "      <td>-0.011495</td>\n",
       "      <td>0.000605</td>\n",
       "      <td>-0.000605</td>\n",
       "      <td>-0.008905</td>\n",
       "      <td>-0.016009</td>\n",
       "      <td>-0.028999</td>\n",
       "      <td>1.000000</td>\n",
       "      <td>-0.219019</td>\n",
       "      <td>0.004766</td>\n",
       "      <td>-0.004766</td>\n",
       "      <td>0.034607</td>\n",
       "      <td>-0.034607</td>\n",
       "    </tr>\n",
       "    <tr>\n",
       "      <th>race_White</th>\n",
       "      <td>0.022413</td>\n",
       "      <td>0.051765</td>\n",
       "      <td>0.055561</td>\n",
       "      <td>-0.000389</td>\n",
       "      <td>-0.066491</td>\n",
       "      <td>0.071008</td>\n",
       "      <td>0.082114</td>\n",
       "      <td>-0.082114</td>\n",
       "      <td>-0.242795</td>\n",
       "      <td>-0.436496</td>\n",
       "      <td>-0.790710</td>\n",
       "      <td>-0.219019</td>\n",
       "      <td>1.000000</td>\n",
       "      <td>-0.097025</td>\n",
       "      <td>0.097025</td>\n",
       "      <td>-0.092589</td>\n",
       "      <td>0.092589</td>\n",
       "    </tr>\n",
       "    <tr>\n",
       "      <th>sex_Female</th>\n",
       "      <td>-0.071804</td>\n",
       "      <td>-0.008180</td>\n",
       "      <td>-0.221588</td>\n",
       "      <td>0.072569</td>\n",
       "      <td>0.045338</td>\n",
       "      <td>-0.145559</td>\n",
       "      <td>-0.357736</td>\n",
       "      <td>0.357736</td>\n",
       "      <td>0.021711</td>\n",
       "      <td>0.001773</td>\n",
       "      <td>0.106323</td>\n",
       "      <td>0.004766</td>\n",
       "      <td>-0.097025</td>\n",
       "      <td>1.000000</td>\n",
       "      <td>-1.000000</td>\n",
       "      <td>0.203886</td>\n",
       "      <td>-0.203886</td>\n",
       "    </tr>\n",
       "    <tr>\n",
       "      <th>sex_Male</th>\n",
       "      <td>0.071804</td>\n",
       "      <td>0.008180</td>\n",
       "      <td>0.221588</td>\n",
       "      <td>-0.072569</td>\n",
       "      <td>-0.045338</td>\n",
       "      <td>0.145559</td>\n",
       "      <td>0.357736</td>\n",
       "      <td>-0.357736</td>\n",
       "      <td>-0.021711</td>\n",
       "      <td>-0.001773</td>\n",
       "      <td>-0.106323</td>\n",
       "      <td>-0.004766</td>\n",
       "      <td>0.097025</td>\n",
       "      <td>-1.000000</td>\n",
       "      <td>1.000000</td>\n",
       "      <td>-0.203886</td>\n",
       "      <td>0.203886</td>\n",
       "    </tr>\n",
       "    <tr>\n",
       "      <th>income_&lt;=50K</th>\n",
       "      <td>-0.232261</td>\n",
       "      <td>-0.329066</td>\n",
       "      <td>-0.222686</td>\n",
       "      <td>0.116453</td>\n",
       "      <td>-0.047981</td>\n",
       "      <td>-0.105593</td>\n",
       "      <td>-0.414173</td>\n",
       "      <td>0.414173</td>\n",
       "      <td>0.034254</td>\n",
       "      <td>0.006693</td>\n",
       "      <td>0.084836</td>\n",
       "      <td>0.034607</td>\n",
       "      <td>-0.092589</td>\n",
       "      <td>0.203886</td>\n",
       "      <td>-0.203886</td>\n",
       "      <td>1.000000</td>\n",
       "      <td>-1.000000</td>\n",
       "    </tr>\n",
       "    <tr>\n",
       "      <th>income_&gt;50K</th>\n",
       "      <td>0.232261</td>\n",
       "      <td>0.329066</td>\n",
       "      <td>0.222686</td>\n",
       "      <td>-0.116453</td>\n",
       "      <td>0.047981</td>\n",
       "      <td>0.105593</td>\n",
       "      <td>0.414173</td>\n",
       "      <td>-0.414173</td>\n",
       "      <td>-0.034254</td>\n",
       "      <td>-0.006693</td>\n",
       "      <td>-0.084836</td>\n",
       "      <td>-0.034607</td>\n",
       "      <td>0.092589</td>\n",
       "      <td>-0.203886</td>\n",
       "      <td>0.203886</td>\n",
       "      <td>-1.000000</td>\n",
       "      <td>1.000000</td>\n",
       "    </tr>\n",
       "  </tbody>\n",
       "</table>\n",
       "</div>"
      ],
      "text/plain": [
       "                             age  education  hours-per-week  \\\n",
       "age                     1.000000   0.034733        0.103170   \n",
       "education               0.034733   1.000000        0.141730   \n",
       "hours-per-week          0.103170   0.141730        1.000000   \n",
       "workclass_Private      -0.202982  -0.154977       -0.097753   \n",
       "workclass_Public        0.080254   0.154462       -0.021407   \n",
       "workclass_Self-emp      0.187633   0.044472        0.154025   \n",
       "marital-status_Married  0.381168   0.050627        0.183944   \n",
       "marital-status_Single  -0.381168  -0.050627       -0.183944   \n",
       "race_Amer-Indian       -0.010904  -0.039308        0.002964   \n",
       "race_Asian             -0.008097   0.057360        0.000550   \n",
       "race_Black             -0.008668  -0.069029       -0.071442   \n",
       "race_Hispanic          -0.031973  -0.044845        0.011964   \n",
       "race_White              0.022413   0.051765        0.055561   \n",
       "sex_Female             -0.071804  -0.008180       -0.221588   \n",
       "sex_Male                0.071804   0.008180        0.221588   \n",
       "income_<=50K           -0.232261  -0.329066       -0.222686   \n",
       "income_>50K             0.232261   0.329066        0.222686   \n",
       "\n",
       "                        workclass_Private  workclass_Public  \\\n",
       "age                             -0.202982          0.080254   \n",
       "education                       -0.154977          0.154462   \n",
       "hours-per-week                  -0.097753         -0.021407   \n",
       "workclass_Private                1.000000         -0.677134   \n",
       "workclass_Public                -0.677134          1.000000   \n",
       "workclass_Self-emp              -0.625700         -0.150335   \n",
       "marital-status_Married          -0.121014         -0.002351   \n",
       "marital-status_Single            0.121014          0.002351   \n",
       "race_Amer-Indian                -0.007136          0.022185   \n",
       "race_Asian                      -0.015060          0.012883   \n",
       "race_Black                       0.004632          0.070250   \n",
       "race_Hispanic                    0.023490         -0.018927   \n",
       "race_White                      -0.000389         -0.066491   \n",
       "sex_Female                       0.072569          0.045338   \n",
       "sex_Male                        -0.072569         -0.045338   \n",
       "income_<=50K                     0.116453         -0.047981   \n",
       "income_>50K                     -0.116453          0.047981   \n",
       "\n",
       "                        workclass_Self-emp  marital-status_Married  \\\n",
       "age                               0.187633                0.381168   \n",
       "education                         0.044472                0.050627   \n",
       "hours-per-week                    0.154025                0.183944   \n",
       "workclass_Private                -0.625700               -0.121014   \n",
       "workclass_Public                 -0.150335               -0.002351   \n",
       "workclass_Self-emp                1.000000                0.165075   \n",
       "marital-status_Married            0.165075                1.000000   \n",
       "marital-status_Single            -0.165075               -1.000000   \n",
       "race_Amer-Indian                 -0.013931               -0.013614   \n",
       "race_Asian                        0.006576                0.017852   \n",
       "race_Black                       -0.080694               -0.104427   \n",
       "race_Hispanic                    -0.011495                0.000605   \n",
       "race_White                        0.071008                0.082114   \n",
       "sex_Female                       -0.145559               -0.357736   \n",
       "sex_Male                          0.145559                0.357736   \n",
       "income_<=50K                     -0.105593               -0.414173   \n",
       "income_>50K                       0.105593                0.414173   \n",
       "\n",
       "                        marital-status_Single  race_Amer-Indian  race_Asian  \\\n",
       "age                                 -0.381168         -0.010904   -0.008097   \n",
       "education                           -0.050627         -0.039308    0.057360   \n",
       "hours-per-week                      -0.183944          0.002964    0.000550   \n",
       "workclass_Private                    0.121014         -0.007136   -0.015060   \n",
       "workclass_Public                     0.002351          0.022185    0.012883   \n",
       "workclass_Self-emp                  -0.165075         -0.013931    0.006576   \n",
       "marital-status_Married              -1.000000         -0.013614    0.017852   \n",
       "marital-status_Single                1.000000          0.013614   -0.017852   \n",
       "race_Amer-Indian                     0.013614          1.000000   -0.017746   \n",
       "race_Asian                          -0.017852         -0.017746    1.000000   \n",
       "race_Black                           0.104427         -0.032148   -0.057795   \n",
       "race_Hispanic                       -0.000605         -0.008905   -0.016009   \n",
       "race_White                          -0.082114         -0.242795   -0.436496   \n",
       "sex_Female                           0.357736          0.021711    0.001773   \n",
       "sex_Male                            -0.357736         -0.021711   -0.001773   \n",
       "income_<=50K                         0.414173          0.034254    0.006693   \n",
       "income_>50K                         -0.414173         -0.034254   -0.006693   \n",
       "\n",
       "                        race_Black  race_Hispanic  race_White  sex_Female  \\\n",
       "age                      -0.008668      -0.031973    0.022413   -0.071804   \n",
       "education                -0.069029      -0.044845    0.051765   -0.008180   \n",
       "hours-per-week           -0.071442       0.011964    0.055561   -0.221588   \n",
       "workclass_Private         0.004632       0.023490   -0.000389    0.072569   \n",
       "workclass_Public          0.070250      -0.018927   -0.066491    0.045338   \n",
       "workclass_Self-emp       -0.080694      -0.011495    0.071008   -0.145559   \n",
       "marital-status_Married   -0.104427       0.000605    0.082114   -0.357736   \n",
       "marital-status_Single     0.104427      -0.000605   -0.082114    0.357736   \n",
       "race_Amer-Indian         -0.032148      -0.008905   -0.242795    0.021711   \n",
       "race_Asian               -0.057795      -0.016009   -0.436496    0.001773   \n",
       "race_Black                1.000000      -0.028999   -0.790710    0.106323   \n",
       "race_Hispanic            -0.028999       1.000000   -0.219019    0.004766   \n",
       "race_White               -0.790710      -0.219019    1.000000   -0.097025   \n",
       "sex_Female                0.106323       0.004766   -0.097025    1.000000   \n",
       "sex_Male                 -0.106323      -0.004766    0.097025   -1.000000   \n",
       "income_<=50K              0.084836       0.034607   -0.092589    0.203886   \n",
       "income_>50K              -0.084836      -0.034607    0.092589   -0.203886   \n",
       "\n",
       "                        sex_Male  income_<=50K  income_>50K  \n",
       "age                     0.071804     -0.232261     0.232261  \n",
       "education               0.008180     -0.329066     0.329066  \n",
       "hours-per-week          0.221588     -0.222686     0.222686  \n",
       "workclass_Private      -0.072569      0.116453    -0.116453  \n",
       "workclass_Public       -0.045338     -0.047981     0.047981  \n",
       "workclass_Self-emp      0.145559     -0.105593     0.105593  \n",
       "marital-status_Married  0.357736     -0.414173     0.414173  \n",
       "marital-status_Single  -0.357736      0.414173    -0.414173  \n",
       "race_Amer-Indian       -0.021711      0.034254    -0.034254  \n",
       "race_Asian             -0.001773      0.006693    -0.006693  \n",
       "race_Black             -0.106323      0.084836    -0.084836  \n",
       "race_Hispanic          -0.004766      0.034607    -0.034607  \n",
       "race_White              0.097025     -0.092589     0.092589  \n",
       "sex_Female             -1.000000      0.203886    -0.203886  \n",
       "sex_Male                1.000000     -0.203886     0.203886  \n",
       "income_<=50K           -0.203886      1.000000    -1.000000  \n",
       "income_>50K             0.203886     -1.000000     1.000000  "
      ]
     },
     "execution_count": 40,
     "metadata": {},
     "output_type": "execute_result"
    }
   ],
   "source": [
    "corr_df"
   ]
  },
  {
   "cell_type": "code",
   "execution_count": 41,
   "id": "85ecb750",
   "metadata": {
    "ExecuteTime": {
     "end_time": "2023-10-02T04:11:18.634038Z",
     "start_time": "2023-10-02T04:11:18.620166Z"
    }
   },
   "outputs": [
    {
     "data": {
      "text/html": [
       "<div>\n",
       "<style scoped>\n",
       "    .dataframe tbody tr th:only-of-type {\n",
       "        vertical-align: middle;\n",
       "    }\n",
       "\n",
       "    .dataframe tbody tr th {\n",
       "        vertical-align: top;\n",
       "    }\n",
       "\n",
       "    .dataframe thead th {\n",
       "        text-align: right;\n",
       "    }\n",
       "</style>\n",
       "<table border=\"1\" class=\"dataframe\">\n",
       "  <thead>\n",
       "    <tr style=\"text-align: right;\">\n",
       "      <th></th>\n",
       "      <th>education</th>\n",
       "    </tr>\n",
       "  </thead>\n",
       "  <tbody>\n",
       "    <tr>\n",
       "      <th>education</th>\n",
       "      <td>1.000000</td>\n",
       "    </tr>\n",
       "    <tr>\n",
       "      <th>income_&gt;50K</th>\n",
       "      <td>0.329066</td>\n",
       "    </tr>\n",
       "    <tr>\n",
       "      <th>workclass_Public</th>\n",
       "      <td>0.154462</td>\n",
       "    </tr>\n",
       "    <tr>\n",
       "      <th>hours-per-week</th>\n",
       "      <td>0.141730</td>\n",
       "    </tr>\n",
       "    <tr>\n",
       "      <th>race_Asian</th>\n",
       "      <td>0.057360</td>\n",
       "    </tr>\n",
       "    <tr>\n",
       "      <th>race_White</th>\n",
       "      <td>0.051765</td>\n",
       "    </tr>\n",
       "    <tr>\n",
       "      <th>marital-status_Married</th>\n",
       "      <td>0.050627</td>\n",
       "    </tr>\n",
       "    <tr>\n",
       "      <th>workclass_Self-emp</th>\n",
       "      <td>0.044472</td>\n",
       "    </tr>\n",
       "    <tr>\n",
       "      <th>age</th>\n",
       "      <td>0.034733</td>\n",
       "    </tr>\n",
       "    <tr>\n",
       "      <th>sex_Male</th>\n",
       "      <td>0.008180</td>\n",
       "    </tr>\n",
       "    <tr>\n",
       "      <th>sex_Female</th>\n",
       "      <td>-0.008180</td>\n",
       "    </tr>\n",
       "    <tr>\n",
       "      <th>race_Amer-Indian</th>\n",
       "      <td>-0.039308</td>\n",
       "    </tr>\n",
       "    <tr>\n",
       "      <th>race_Hispanic</th>\n",
       "      <td>-0.044845</td>\n",
       "    </tr>\n",
       "    <tr>\n",
       "      <th>marital-status_Single</th>\n",
       "      <td>-0.050627</td>\n",
       "    </tr>\n",
       "    <tr>\n",
       "      <th>race_Black</th>\n",
       "      <td>-0.069029</td>\n",
       "    </tr>\n",
       "    <tr>\n",
       "      <th>workclass_Private</th>\n",
       "      <td>-0.154977</td>\n",
       "    </tr>\n",
       "    <tr>\n",
       "      <th>income_&lt;=50K</th>\n",
       "      <td>-0.329066</td>\n",
       "    </tr>\n",
       "  </tbody>\n",
       "</table>\n",
       "</div>"
      ],
      "text/plain": [
       "                        education\n",
       "education                1.000000\n",
       "income_>50K              0.329066\n",
       "workclass_Public         0.154462\n",
       "hours-per-week           0.141730\n",
       "race_Asian               0.057360\n",
       "race_White               0.051765\n",
       "marital-status_Married   0.050627\n",
       "workclass_Self-emp       0.044472\n",
       "age                      0.034733\n",
       "sex_Male                 0.008180\n",
       "sex_Female              -0.008180\n",
       "race_Amer-Indian        -0.039308\n",
       "race_Hispanic           -0.044845\n",
       "marital-status_Single   -0.050627\n",
       "race_Black              -0.069029\n",
       "workclass_Private       -0.154977\n",
       "income_<=50K            -0.329066"
      ]
     },
     "execution_count": 41,
     "metadata": {},
     "output_type": "execute_result"
    }
   ],
   "source": [
    "# correlations of all attributes and their correlations to education\n",
    "corr_df[['education']].sort_values('education', ascending=False)"
   ]
  },
  {
   "cell_type": "code",
   "execution_count": 42,
   "id": "130e3d8b",
   "metadata": {
    "ExecuteTime": {
     "end_time": "2023-10-02T04:11:18.648611Z",
     "start_time": "2023-10-02T04:11:18.636760Z"
    }
   },
   "outputs": [
    {
     "data": {
      "text/html": [
       "<div>\n",
       "<style scoped>\n",
       "    .dataframe tbody tr th:only-of-type {\n",
       "        vertical-align: middle;\n",
       "    }\n",
       "\n",
       "    .dataframe tbody tr th {\n",
       "        vertical-align: top;\n",
       "    }\n",
       "\n",
       "    .dataframe thead th {\n",
       "        text-align: right;\n",
       "    }\n",
       "</style>\n",
       "<table border=\"1\" class=\"dataframe\">\n",
       "  <thead>\n",
       "    <tr style=\"text-align: right;\">\n",
       "      <th></th>\n",
       "      <th>income_&lt;=50K</th>\n",
       "    </tr>\n",
       "  </thead>\n",
       "  <tbody>\n",
       "    <tr>\n",
       "      <th>income_&lt;=50K</th>\n",
       "      <td>1.000000</td>\n",
       "    </tr>\n",
       "    <tr>\n",
       "      <th>marital-status_Single</th>\n",
       "      <td>0.414173</td>\n",
       "    </tr>\n",
       "    <tr>\n",
       "      <th>sex_Female</th>\n",
       "      <td>0.203886</td>\n",
       "    </tr>\n",
       "    <tr>\n",
       "      <th>workclass_Private</th>\n",
       "      <td>0.116453</td>\n",
       "    </tr>\n",
       "    <tr>\n",
       "      <th>race_Black</th>\n",
       "      <td>0.084836</td>\n",
       "    </tr>\n",
       "    <tr>\n",
       "      <th>race_Hispanic</th>\n",
       "      <td>0.034607</td>\n",
       "    </tr>\n",
       "    <tr>\n",
       "      <th>race_Amer-Indian</th>\n",
       "      <td>0.034254</td>\n",
       "    </tr>\n",
       "    <tr>\n",
       "      <th>race_Asian</th>\n",
       "      <td>0.006693</td>\n",
       "    </tr>\n",
       "    <tr>\n",
       "      <th>workclass_Public</th>\n",
       "      <td>-0.047981</td>\n",
       "    </tr>\n",
       "    <tr>\n",
       "      <th>race_White</th>\n",
       "      <td>-0.092589</td>\n",
       "    </tr>\n",
       "    <tr>\n",
       "      <th>workclass_Self-emp</th>\n",
       "      <td>-0.105593</td>\n",
       "    </tr>\n",
       "    <tr>\n",
       "      <th>sex_Male</th>\n",
       "      <td>-0.203886</td>\n",
       "    </tr>\n",
       "    <tr>\n",
       "      <th>hours-per-week</th>\n",
       "      <td>-0.222686</td>\n",
       "    </tr>\n",
       "    <tr>\n",
       "      <th>age</th>\n",
       "      <td>-0.232261</td>\n",
       "    </tr>\n",
       "    <tr>\n",
       "      <th>education</th>\n",
       "      <td>-0.329066</td>\n",
       "    </tr>\n",
       "    <tr>\n",
       "      <th>marital-status_Married</th>\n",
       "      <td>-0.414173</td>\n",
       "    </tr>\n",
       "    <tr>\n",
       "      <th>income_&gt;50K</th>\n",
       "      <td>-1.000000</td>\n",
       "    </tr>\n",
       "  </tbody>\n",
       "</table>\n",
       "</div>"
      ],
      "text/plain": [
       "                        income_<=50K\n",
       "income_<=50K                1.000000\n",
       "marital-status_Single       0.414173\n",
       "sex_Female                  0.203886\n",
       "workclass_Private           0.116453\n",
       "race_Black                  0.084836\n",
       "race_Hispanic               0.034607\n",
       "race_Amer-Indian            0.034254\n",
       "race_Asian                  0.006693\n",
       "workclass_Public           -0.047981\n",
       "race_White                 -0.092589\n",
       "workclass_Self-emp         -0.105593\n",
       "sex_Male                   -0.203886\n",
       "hours-per-week             -0.222686\n",
       "age                        -0.232261\n",
       "education                  -0.329066\n",
       "marital-status_Married     -0.414173\n",
       "income_>50K                -1.000000"
      ]
     },
     "execution_count": 42,
     "metadata": {},
     "output_type": "execute_result"
    }
   ],
   "source": [
    "# correlations with the attribute income_<=50K.\n",
    "corr_df[['income_<=50K']].sort_values('income_<=50K', ascending=False)"
   ]
  },
  {
   "cell_type": "markdown",
   "id": "6770d690",
   "metadata": {},
   "source": [
    "From the correlation tables above:\n",
    "- `income_>50K` and `education` are positively correlated. This is self-explanatory given that higher education will lead to higher compensations. \n",
    "- There is very slight correlation between `education` and `sex_Male`. This correlation is very weak, which might be surprising given that we'd expect some level of correlation between the two. \n",
    "- `income_<=50K` and `marital-status_Single` are highly correlated. This is due to the correlation of age and marital-status. As people during young age tend to be single and may belong to low income group.\n",
    "- Contrarily, `income_<=50K` and `marital-status_Married` are negatively correlated. This again supports our assumption of correlation of age and marital-status."
   ]
  },
  {
   "cell_type": "markdown",
   "id": "4a62222c",
   "metadata": {},
   "source": [
    "# Question 8"
   ]
  },
  {
   "cell_type": "markdown",
   "id": "193e4367",
   "metadata": {},
   "source": [
    "Discretize the age attribute into 3 categories (corresponding to \"young\", \"mid-age\", and \"old\"). Do not change the original age attribute or add the discretized age to the table. Create a new dataframe with the numeric and the discretized age attributes as two columns and display the top 10 rows of the new dataframe."
   ]
  },
  {
   "cell_type": "code",
   "execution_count": 43,
   "id": "9d9ce58b",
   "metadata": {
    "ExecuteTime": {
     "end_time": "2023-10-02T04:11:18.657160Z",
     "start_time": "2023-10-02T04:11:18.652427Z"
    }
   },
   "outputs": [],
   "source": [
    "# create bins and labels for 3 age categories\n",
    "bins = [0, 30, 50, 90]\n",
    "labels = ['Young', 'Mid-Age', 'Old']"
   ]
  },
  {
   "cell_type": "code",
   "execution_count": 44,
   "id": "154beb38",
   "metadata": {
    "ExecuteTime": {
     "end_time": "2023-10-02T04:11:18.664609Z",
     "start_time": "2023-10-02T04:11:18.660885Z"
    }
   },
   "outputs": [],
   "source": [
    "# numeric data\n",
    "num_df = adlt_df.select_dtypes(int)"
   ]
  },
  {
   "cell_type": "code",
   "execution_count": 45,
   "id": "7e2ee938",
   "metadata": {
    "ExecuteTime": {
     "end_time": "2023-10-02T04:11:18.673009Z",
     "start_time": "2023-10-02T04:11:18.667589Z"
    }
   },
   "outputs": [],
   "source": [
    "# map labels to age using pd.cut()\n",
    "num_df['age_group'] = pd.cut(num_df.age, bins=bins, labels=labels)"
   ]
  },
  {
   "cell_type": "code",
   "execution_count": 46,
   "id": "ee831957",
   "metadata": {
    "ExecuteTime": {
     "end_time": "2023-10-02T04:11:18.682675Z",
     "start_time": "2023-10-02T04:11:18.674947Z"
    }
   },
   "outputs": [
    {
     "data": {
      "text/html": [
       "<div>\n",
       "<style scoped>\n",
       "    .dataframe tbody tr th:only-of-type {\n",
       "        vertical-align: middle;\n",
       "    }\n",
       "\n",
       "    .dataframe tbody tr th {\n",
       "        vertical-align: top;\n",
       "    }\n",
       "\n",
       "    .dataframe thead th {\n",
       "        text-align: right;\n",
       "    }\n",
       "</style>\n",
       "<table border=\"1\" class=\"dataframe\">\n",
       "  <thead>\n",
       "    <tr style=\"text-align: right;\">\n",
       "      <th></th>\n",
       "      <th>age</th>\n",
       "      <th>education</th>\n",
       "      <th>hours-per-week</th>\n",
       "      <th>age_group</th>\n",
       "    </tr>\n",
       "  </thead>\n",
       "  <tbody>\n",
       "    <tr>\n",
       "      <th>0</th>\n",
       "      <td>39</td>\n",
       "      <td>13</td>\n",
       "      <td>40</td>\n",
       "      <td>Mid-Age</td>\n",
       "    </tr>\n",
       "    <tr>\n",
       "      <th>1</th>\n",
       "      <td>50</td>\n",
       "      <td>13</td>\n",
       "      <td>13</td>\n",
       "      <td>Mid-Age</td>\n",
       "    </tr>\n",
       "    <tr>\n",
       "      <th>2</th>\n",
       "      <td>38</td>\n",
       "      <td>9</td>\n",
       "      <td>40</td>\n",
       "      <td>Mid-Age</td>\n",
       "    </tr>\n",
       "    <tr>\n",
       "      <th>3</th>\n",
       "      <td>53</td>\n",
       "      <td>7</td>\n",
       "      <td>40</td>\n",
       "      <td>Old</td>\n",
       "    </tr>\n",
       "    <tr>\n",
       "      <th>4</th>\n",
       "      <td>28</td>\n",
       "      <td>13</td>\n",
       "      <td>40</td>\n",
       "      <td>Young</td>\n",
       "    </tr>\n",
       "    <tr>\n",
       "      <th>5</th>\n",
       "      <td>37</td>\n",
       "      <td>14</td>\n",
       "      <td>40</td>\n",
       "      <td>Mid-Age</td>\n",
       "    </tr>\n",
       "    <tr>\n",
       "      <th>6</th>\n",
       "      <td>49</td>\n",
       "      <td>5</td>\n",
       "      <td>16</td>\n",
       "      <td>Mid-Age</td>\n",
       "    </tr>\n",
       "    <tr>\n",
       "      <th>7</th>\n",
       "      <td>52</td>\n",
       "      <td>9</td>\n",
       "      <td>45</td>\n",
       "      <td>Old</td>\n",
       "    </tr>\n",
       "    <tr>\n",
       "      <th>8</th>\n",
       "      <td>31</td>\n",
       "      <td>14</td>\n",
       "      <td>50</td>\n",
       "      <td>Mid-Age</td>\n",
       "    </tr>\n",
       "    <tr>\n",
       "      <th>9</th>\n",
       "      <td>42</td>\n",
       "      <td>13</td>\n",
       "      <td>40</td>\n",
       "      <td>Mid-Age</td>\n",
       "    </tr>\n",
       "  </tbody>\n",
       "</table>\n",
       "</div>"
      ],
      "text/plain": [
       "   age  education  hours-per-week age_group\n",
       "0   39         13              40   Mid-Age\n",
       "1   50         13              13   Mid-Age\n",
       "2   38          9              40   Mid-Age\n",
       "3   53          7              40       Old\n",
       "4   28         13              40     Young\n",
       "5   37         14              40   Mid-Age\n",
       "6   49          5              16   Mid-Age\n",
       "7   52          9              45       Old\n",
       "8   31         14              50   Mid-Age\n",
       "9   42         13              40   Mid-Age"
      ]
     },
     "execution_count": 46,
     "metadata": {},
     "output_type": "execute_result"
    }
   ],
   "source": [
    "num_df.head(10)"
   ]
  },
  {
   "cell_type": "markdown",
   "id": "b83fff3e",
   "metadata": {},
   "source": [
    "# Question 9"
   ]
  },
  {
   "cell_type": "markdown",
   "id": "10dbcdc9",
   "metadata": {},
   "source": [
    "Use Min-Max Normalization to transform the values of the attribute hours-per-week the range 0.0-1.0 (without changing the original data). Next, perform zscore normalization to standardize the values of all numeric attributes (age, hours-per-week, education). The latter step should be performed on all three attributes at the same time instead of one-by-one (you may wish to first create a separate dataframe with only these attributes and perform the operation on the whole dataframe. Note: for this problem, you should write your own code to perform the normalization; do not use pre-existing functions such as scikit-learn's MinMaxScaler(). Finally, show the top 10 rows of the three versions of the hours-per-week attribute (original, normalized, and standardized) side-by-side in a new dataframe."
   ]
  },
  {
   "cell_type": "markdown",
   "id": "6498d2f8",
   "metadata": {},
   "source": [
    "## Min-Max Normalization"
   ]
  },
  {
   "cell_type": "code",
   "execution_count": 47,
   "id": "7442e3b9",
   "metadata": {
    "ExecuteTime": {
     "end_time": "2023-10-02T04:11:18.688083Z",
     "start_time": "2023-10-02T04:11:18.685103Z"
    }
   },
   "outputs": [],
   "source": [
    "# numeric dataframe\n",
    "num_df = adlt_df.select_dtypes(int)"
   ]
  },
  {
   "cell_type": "code",
   "execution_count": 48,
   "id": "ecb3ca57",
   "metadata": {
    "ExecuteTime": {
     "end_time": "2023-10-02T04:11:18.694256Z",
     "start_time": "2023-10-02T04:11:18.690298Z"
    }
   },
   "outputs": [],
   "source": [
    "def minMaxNormalization(col):\n",
    "    \"\"\"\n",
    "        Function to perform Min-Max Normalization on numeric feature\n",
    "        args:\n",
    "            col_name: column name (must be Series)\n",
    "        return:\n",
    "            norm_vals: normalized values\n",
    "    \"\"\"\n",
    "    # get min max values\n",
    "    max_value = col.max()\n",
    "    min_value = col.min()\n",
    "    \n",
    "    #  Min-max normalization on the column\n",
    "    norm_vals = (col - min_value) / (max_value - min_value)\n",
    "    \n",
    "    return norm_vals"
   ]
  },
  {
   "cell_type": "code",
   "execution_count": 49,
   "id": "6bed9499",
   "metadata": {
    "ExecuteTime": {
     "end_time": "2023-10-02T04:11:18.699983Z",
     "start_time": "2023-10-02T04:11:18.696319Z"
    }
   },
   "outputs": [],
   "source": [
    "num_df['hours-per-week-min_max_norm'] = minMaxNormalization(num_df['hours-per-week'])"
   ]
  },
  {
   "cell_type": "code",
   "execution_count": 50,
   "id": "120580a7",
   "metadata": {
    "ExecuteTime": {
     "end_time": "2023-10-02T04:11:18.704350Z",
     "start_time": "2023-10-02T04:11:18.701393Z"
    }
   },
   "outputs": [],
   "source": [
    "def zScoreNormalization(num_df):\n",
    "    \"\"\"\n",
    "        Function to perform Z-score normalization on dataframe\n",
    "        args:\n",
    "            num_df: dataframe (must contain all numeric features)\n",
    "        return:\n",
    "            znorm_df: z score normalized dataframe\n",
    "    \"\"\"\n",
    "    for col in num_df.columns:\n",
    "        mean_val = num_df[col].mean()\n",
    "        sd_val = num_df[col].std()\n",
    "        num_df[f'{col}_znorm'] = (num_df[col] - mean_val) / sd_val\n",
    "    \n",
    "    return num_df"
   ]
  },
  {
   "cell_type": "code",
   "execution_count": 51,
   "id": "9f57e6d4",
   "metadata": {
    "ExecuteTime": {
     "end_time": "2023-10-02T04:11:18.711073Z",
     "start_time": "2023-10-02T04:11:18.705779Z"
    }
   },
   "outputs": [],
   "source": [
    "final_norm_df = zScoreNormalization(num_df)"
   ]
  },
  {
   "cell_type": "code",
   "execution_count": 52,
   "id": "c019280b",
   "metadata": {
    "ExecuteTime": {
     "end_time": "2023-10-02T04:11:18.714386Z",
     "start_time": "2023-10-02T04:11:18.712187Z"
    }
   },
   "outputs": [],
   "source": [
    "req_col_list = ['hours-per-week', 'hours-per-week-min_max_norm', 'hours-per-week_znorm']"
   ]
  },
  {
   "cell_type": "code",
   "execution_count": 53,
   "id": "ebf9eb73",
   "metadata": {
    "ExecuteTime": {
     "end_time": "2023-10-02T04:11:18.719735Z",
     "start_time": "2023-10-02T04:11:18.716175Z"
    }
   },
   "outputs": [],
   "source": [
    "norm_out_df = pd.DataFrame()\n",
    "norm_out_df = final_norm_df[req_col_list]"
   ]
  },
  {
   "cell_type": "code",
   "execution_count": 54,
   "id": "cdedbe0f",
   "metadata": {
    "ExecuteTime": {
     "end_time": "2023-10-02T04:11:18.726894Z",
     "start_time": "2023-10-02T04:11:18.721020Z"
    }
   },
   "outputs": [
    {
     "data": {
      "text/html": [
       "<div>\n",
       "<style scoped>\n",
       "    .dataframe tbody tr th:only-of-type {\n",
       "        vertical-align: middle;\n",
       "    }\n",
       "\n",
       "    .dataframe tbody tr th {\n",
       "        vertical-align: top;\n",
       "    }\n",
       "\n",
       "    .dataframe thead th {\n",
       "        text-align: right;\n",
       "    }\n",
       "</style>\n",
       "<table border=\"1\" class=\"dataframe\">\n",
       "  <thead>\n",
       "    <tr style=\"text-align: right;\">\n",
       "      <th></th>\n",
       "      <th>hours-per-week</th>\n",
       "      <th>hours-per-week-min_max_norm</th>\n",
       "      <th>hours-per-week_znorm</th>\n",
       "    </tr>\n",
       "  </thead>\n",
       "  <tbody>\n",
       "    <tr>\n",
       "      <th>0</th>\n",
       "      <td>40</td>\n",
       "      <td>0.397959</td>\n",
       "      <td>-0.090892</td>\n",
       "    </tr>\n",
       "    <tr>\n",
       "      <th>1</th>\n",
       "      <td>13</td>\n",
       "      <td>0.122449</td>\n",
       "      <td>-2.362742</td>\n",
       "    </tr>\n",
       "    <tr>\n",
       "      <th>2</th>\n",
       "      <td>40</td>\n",
       "      <td>0.397959</td>\n",
       "      <td>-0.090892</td>\n",
       "    </tr>\n",
       "    <tr>\n",
       "      <th>3</th>\n",
       "      <td>40</td>\n",
       "      <td>0.397959</td>\n",
       "      <td>-0.090892</td>\n",
       "    </tr>\n",
       "    <tr>\n",
       "      <th>4</th>\n",
       "      <td>40</td>\n",
       "      <td>0.397959</td>\n",
       "      <td>-0.090892</td>\n",
       "    </tr>\n",
       "    <tr>\n",
       "      <th>5</th>\n",
       "      <td>40</td>\n",
       "      <td>0.397959</td>\n",
       "      <td>-0.090892</td>\n",
       "    </tr>\n",
       "    <tr>\n",
       "      <th>6</th>\n",
       "      <td>16</td>\n",
       "      <td>0.153061</td>\n",
       "      <td>-2.110314</td>\n",
       "    </tr>\n",
       "    <tr>\n",
       "      <th>7</th>\n",
       "      <td>45</td>\n",
       "      <td>0.448980</td>\n",
       "      <td>0.329821</td>\n",
       "    </tr>\n",
       "    <tr>\n",
       "      <th>8</th>\n",
       "      <td>50</td>\n",
       "      <td>0.500000</td>\n",
       "      <td>0.750534</td>\n",
       "    </tr>\n",
       "    <tr>\n",
       "      <th>9</th>\n",
       "      <td>40</td>\n",
       "      <td>0.397959</td>\n",
       "      <td>-0.090892</td>\n",
       "    </tr>\n",
       "  </tbody>\n",
       "</table>\n",
       "</div>"
      ],
      "text/plain": [
       "   hours-per-week  hours-per-week-min_max_norm  hours-per-week_znorm\n",
       "0              40                     0.397959             -0.090892\n",
       "1              13                     0.122449             -2.362742\n",
       "2              40                     0.397959             -0.090892\n",
       "3              40                     0.397959             -0.090892\n",
       "4              40                     0.397959             -0.090892\n",
       "5              40                     0.397959             -0.090892\n",
       "6              16                     0.153061             -2.110314\n",
       "7              45                     0.448980              0.329821\n",
       "8              50                     0.500000              0.750534\n",
       "9              40                     0.397959             -0.090892"
      ]
     },
     "execution_count": 54,
     "metadata": {},
     "output_type": "execute_result"
    }
   ],
   "source": [
    "norm_out_df.head(10)"
   ]
  },
  {
   "cell_type": "markdown",
   "id": "84478516",
   "metadata": {},
   "source": [
    "# Question 10"
   ]
  },
  {
   "cell_type": "markdown",
   "id": "32b65359",
   "metadata": {},
   "source": [
    "Now download a modified version of the data  (adult-modified-missing-vals.csv) that contains missing values. \n",
    "- Using Pandas determine all the attributes with missing values and the number of missing values for each such attribute. \n",
    "- Show all the instances in the data that contain a missing value. \n",
    "- Fill the missing values for all numeric attributes using the mean value for the attribute. \n",
    "- After filling in the missing numeric values, drop all rows where a categorical attribute contains a missing value. \n",
    "- Show that the final resulting table does not contain missing values."
   ]
  },
  {
   "cell_type": "markdown",
   "id": "c848a344",
   "metadata": {},
   "source": [
    "## a. Using Pandas determine all the attributes with missing values and the number of missing values for each such attribute. "
   ]
  },
  {
   "cell_type": "code",
   "execution_count": 55,
   "id": "ba83a486",
   "metadata": {
    "ExecuteTime": {
     "end_time": "2023-10-02T04:11:18.734942Z",
     "start_time": "2023-10-02T04:11:18.727956Z"
    }
   },
   "outputs": [],
   "source": [
    "# read new file (with missing vals)\n",
    "adlt_missing_df = pd.read_csv('../data/adult-modified-missing-vals.csv', na_values='?')"
   ]
  },
  {
   "cell_type": "code",
   "execution_count": 56,
   "id": "a8686bcb",
   "metadata": {
    "ExecuteTime": {
     "end_time": "2023-10-02T04:11:18.751793Z",
     "start_time": "2023-10-02T04:11:18.736915Z"
    }
   },
   "outputs": [
    {
     "name": "stdout",
     "output_type": "stream",
     "text": [
      "<class 'pandas.core.frame.DataFrame'>\n",
      "RangeIndex: 10000 entries, 0 to 9999\n",
      "Data columns (total 8 columns):\n",
      " #   Column          Non-Null Count  Dtype  \n",
      "---  ------          --------------  -----  \n",
      " 0   age             9802 non-null   float64\n",
      " 1   workclass       9412 non-null   object \n",
      " 2   education       10000 non-null  int64  \n",
      " 3   marital-status  10000 non-null  object \n",
      " 4   race            10000 non-null  object \n",
      " 5   sex             10000 non-null  object \n",
      " 6   hours-per-week  10000 non-null  int64  \n",
      " 7   income          10000 non-null  object \n",
      "dtypes: float64(1), int64(2), object(5)\n",
      "memory usage: 625.1+ KB\n"
     ]
    }
   ],
   "source": [
    "adlt_missing_df.info()"
   ]
  },
  {
   "cell_type": "code",
   "execution_count": 57,
   "id": "c8322341",
   "metadata": {
    "ExecuteTime": {
     "end_time": "2023-10-02T04:11:18.769962Z",
     "start_time": "2023-10-02T04:11:18.754357Z"
    }
   },
   "outputs": [
    {
     "data": {
      "text/html": [
       "<div>\n",
       "<style scoped>\n",
       "    .dataframe tbody tr th:only-of-type {\n",
       "        vertical-align: middle;\n",
       "    }\n",
       "\n",
       "    .dataframe tbody tr th {\n",
       "        vertical-align: top;\n",
       "    }\n",
       "\n",
       "    .dataframe thead th {\n",
       "        text-align: right;\n",
       "    }\n",
       "</style>\n",
       "<table border=\"1\" class=\"dataframe\">\n",
       "  <thead>\n",
       "    <tr style=\"text-align: right;\">\n",
       "      <th></th>\n",
       "      <th>age</th>\n",
       "      <th>workclass</th>\n",
       "      <th>education</th>\n",
       "      <th>marital-status</th>\n",
       "      <th>race</th>\n",
       "      <th>sex</th>\n",
       "      <th>hours-per-week</th>\n",
       "      <th>income</th>\n",
       "    </tr>\n",
       "  </thead>\n",
       "  <tbody>\n",
       "    <tr>\n",
       "      <th>0</th>\n",
       "      <td>39.0</td>\n",
       "      <td>Public</td>\n",
       "      <td>13</td>\n",
       "      <td>Single</td>\n",
       "      <td>White</td>\n",
       "      <td>Male</td>\n",
       "      <td>40</td>\n",
       "      <td>&lt;=50K</td>\n",
       "    </tr>\n",
       "    <tr>\n",
       "      <th>1</th>\n",
       "      <td>50.0</td>\n",
       "      <td>Self-emp</td>\n",
       "      <td>13</td>\n",
       "      <td>Married</td>\n",
       "      <td>White</td>\n",
       "      <td>Male</td>\n",
       "      <td>13</td>\n",
       "      <td>&lt;=50K</td>\n",
       "    </tr>\n",
       "    <tr>\n",
       "      <th>2</th>\n",
       "      <td>38.0</td>\n",
       "      <td>Private</td>\n",
       "      <td>9</td>\n",
       "      <td>Single</td>\n",
       "      <td>White</td>\n",
       "      <td>Male</td>\n",
       "      <td>40</td>\n",
       "      <td>&lt;=50K</td>\n",
       "    </tr>\n",
       "    <tr>\n",
       "      <th>3</th>\n",
       "      <td>53.0</td>\n",
       "      <td>Private</td>\n",
       "      <td>7</td>\n",
       "      <td>Married</td>\n",
       "      <td>Black</td>\n",
       "      <td>Male</td>\n",
       "      <td>40</td>\n",
       "      <td>&lt;=50K</td>\n",
       "    </tr>\n",
       "    <tr>\n",
       "      <th>4</th>\n",
       "      <td>28.0</td>\n",
       "      <td>Private</td>\n",
       "      <td>13</td>\n",
       "      <td>Married</td>\n",
       "      <td>Black</td>\n",
       "      <td>Female</td>\n",
       "      <td>40</td>\n",
       "      <td>&lt;=50K</td>\n",
       "    </tr>\n",
       "    <tr>\n",
       "      <th>...</th>\n",
       "      <td>...</td>\n",
       "      <td>...</td>\n",
       "      <td>...</td>\n",
       "      <td>...</td>\n",
       "      <td>...</td>\n",
       "      <td>...</td>\n",
       "      <td>...</td>\n",
       "      <td>...</td>\n",
       "    </tr>\n",
       "    <tr>\n",
       "      <th>9995</th>\n",
       "      <td>38.0</td>\n",
       "      <td>Private</td>\n",
       "      <td>10</td>\n",
       "      <td>Married</td>\n",
       "      <td>White</td>\n",
       "      <td>Male</td>\n",
       "      <td>60</td>\n",
       "      <td>&gt;50K</td>\n",
       "    </tr>\n",
       "    <tr>\n",
       "      <th>9996</th>\n",
       "      <td>25.0</td>\n",
       "      <td>Private</td>\n",
       "      <td>9</td>\n",
       "      <td>Single</td>\n",
       "      <td>White</td>\n",
       "      <td>Female</td>\n",
       "      <td>8</td>\n",
       "      <td>&lt;=50K</td>\n",
       "    </tr>\n",
       "    <tr>\n",
       "      <th>9997</th>\n",
       "      <td>21.0</td>\n",
       "      <td>Private</td>\n",
       "      <td>10</td>\n",
       "      <td>Single</td>\n",
       "      <td>Black</td>\n",
       "      <td>Male</td>\n",
       "      <td>40</td>\n",
       "      <td>&lt;=50K</td>\n",
       "    </tr>\n",
       "    <tr>\n",
       "      <th>9998</th>\n",
       "      <td>NaN</td>\n",
       "      <td>Private</td>\n",
       "      <td>2</td>\n",
       "      <td>Married</td>\n",
       "      <td>White</td>\n",
       "      <td>Male</td>\n",
       "      <td>53</td>\n",
       "      <td>&lt;=50K</td>\n",
       "    </tr>\n",
       "    <tr>\n",
       "      <th>9999</th>\n",
       "      <td>39.0</td>\n",
       "      <td>Private</td>\n",
       "      <td>10</td>\n",
       "      <td>Single</td>\n",
       "      <td>White</td>\n",
       "      <td>Female</td>\n",
       "      <td>40</td>\n",
       "      <td>&lt;=50K</td>\n",
       "    </tr>\n",
       "  </tbody>\n",
       "</table>\n",
       "<p>10000 rows × 8 columns</p>\n",
       "</div>"
      ],
      "text/plain": [
       "       age workclass  education marital-status   race     sex  hours-per-week  \\\n",
       "0     39.0    Public         13         Single  White    Male              40   \n",
       "1     50.0  Self-emp         13        Married  White    Male              13   \n",
       "2     38.0   Private          9         Single  White    Male              40   \n",
       "3     53.0   Private          7        Married  Black    Male              40   \n",
       "4     28.0   Private         13        Married  Black  Female              40   \n",
       "...    ...       ...        ...            ...    ...     ...             ...   \n",
       "9995  38.0   Private         10        Married  White    Male              60   \n",
       "9996  25.0   Private          9         Single  White  Female               8   \n",
       "9997  21.0   Private         10         Single  Black    Male              40   \n",
       "9998   NaN   Private          2        Married  White    Male              53   \n",
       "9999  39.0   Private         10         Single  White  Female              40   \n",
       "\n",
       "     income  \n",
       "0     <=50K  \n",
       "1     <=50K  \n",
       "2     <=50K  \n",
       "3     <=50K  \n",
       "4     <=50K  \n",
       "...     ...  \n",
       "9995   >50K  \n",
       "9996  <=50K  \n",
       "9997  <=50K  \n",
       "9998  <=50K  \n",
       "9999  <=50K  \n",
       "\n",
       "[10000 rows x 8 columns]"
      ]
     },
     "execution_count": 57,
     "metadata": {},
     "output_type": "execute_result"
    }
   ],
   "source": [
    "adlt_missing_df"
   ]
  },
  {
   "cell_type": "code",
   "execution_count": 58,
   "id": "7f24cdac",
   "metadata": {
    "ExecuteTime": {
     "end_time": "2023-10-02T04:11:18.783608Z",
     "start_time": "2023-10-02T04:11:18.772782Z"
    }
   },
   "outputs": [
    {
     "data": {
      "text/plain": [
       "age               198\n",
       "workclass         588\n",
       "education           0\n",
       "marital-status      0\n",
       "race                0\n",
       "sex                 0\n",
       "hours-per-week      0\n",
       "income              0\n",
       "dtype: int64"
      ]
     },
     "execution_count": 58,
     "metadata": {},
     "output_type": "execute_result"
    }
   ],
   "source": [
    "adlt_missing_df.isna().sum()"
   ]
  },
  {
   "cell_type": "markdown",
   "id": "0508f829",
   "metadata": {},
   "source": [
    "## b. Show all the instances in the data that contain a missing value. "
   ]
  },
  {
   "cell_type": "code",
   "execution_count": 59,
   "id": "e5839f61",
   "metadata": {
    "ExecuteTime": {
     "end_time": "2023-10-02T04:11:18.807106Z",
     "start_time": "2023-10-02T04:11:18.787220Z"
    }
   },
   "outputs": [
    {
     "data": {
      "text/html": [
       "<div>\n",
       "<style scoped>\n",
       "    .dataframe tbody tr th:only-of-type {\n",
       "        vertical-align: middle;\n",
       "    }\n",
       "\n",
       "    .dataframe tbody tr th {\n",
       "        vertical-align: top;\n",
       "    }\n",
       "\n",
       "    .dataframe thead th {\n",
       "        text-align: right;\n",
       "    }\n",
       "</style>\n",
       "<table border=\"1\" class=\"dataframe\">\n",
       "  <thead>\n",
       "    <tr style=\"text-align: right;\">\n",
       "      <th></th>\n",
       "      <th>age</th>\n",
       "      <th>workclass</th>\n",
       "      <th>education</th>\n",
       "      <th>marital-status</th>\n",
       "      <th>race</th>\n",
       "      <th>sex</th>\n",
       "      <th>hours-per-week</th>\n",
       "      <th>income</th>\n",
       "    </tr>\n",
       "  </thead>\n",
       "  <tbody>\n",
       "    <tr>\n",
       "      <th>19</th>\n",
       "      <td>NaN</td>\n",
       "      <td>Self-emp</td>\n",
       "      <td>14</td>\n",
       "      <td>Single</td>\n",
       "      <td>White</td>\n",
       "      <td>Female</td>\n",
       "      <td>45</td>\n",
       "      <td>&gt;50K</td>\n",
       "    </tr>\n",
       "    <tr>\n",
       "      <th>27</th>\n",
       "      <td>NaN</td>\n",
       "      <td>NaN</td>\n",
       "      <td>10</td>\n",
       "      <td>Married</td>\n",
       "      <td>Asian</td>\n",
       "      <td>Male</td>\n",
       "      <td>60</td>\n",
       "      <td>&gt;50K</td>\n",
       "    </tr>\n",
       "    <tr>\n",
       "      <th>40</th>\n",
       "      <td>NaN</td>\n",
       "      <td>Private</td>\n",
       "      <td>5</td>\n",
       "      <td>Married</td>\n",
       "      <td>White</td>\n",
       "      <td>Male</td>\n",
       "      <td>43</td>\n",
       "      <td>&lt;=50K</td>\n",
       "    </tr>\n",
       "    <tr>\n",
       "      <th>61</th>\n",
       "      <td>32.0</td>\n",
       "      <td>NaN</td>\n",
       "      <td>4</td>\n",
       "      <td>Married</td>\n",
       "      <td>White</td>\n",
       "      <td>Male</td>\n",
       "      <td>40</td>\n",
       "      <td>&lt;=50K</td>\n",
       "    </tr>\n",
       "    <tr>\n",
       "      <th>65</th>\n",
       "      <td>NaN</td>\n",
       "      <td>Private</td>\n",
       "      <td>9</td>\n",
       "      <td>Married</td>\n",
       "      <td>White</td>\n",
       "      <td>Male</td>\n",
       "      <td>40</td>\n",
       "      <td>&lt;=50K</td>\n",
       "    </tr>\n",
       "    <tr>\n",
       "      <th>...</th>\n",
       "      <td>...</td>\n",
       "      <td>...</td>\n",
       "      <td>...</td>\n",
       "      <td>...</td>\n",
       "      <td>...</td>\n",
       "      <td>...</td>\n",
       "      <td>...</td>\n",
       "      <td>...</td>\n",
       "    </tr>\n",
       "    <tr>\n",
       "      <th>9965</th>\n",
       "      <td>NaN</td>\n",
       "      <td>Private</td>\n",
       "      <td>10</td>\n",
       "      <td>Married</td>\n",
       "      <td>Amer-Indian</td>\n",
       "      <td>Female</td>\n",
       "      <td>40</td>\n",
       "      <td>&lt;=50K</td>\n",
       "    </tr>\n",
       "    <tr>\n",
       "      <th>9966</th>\n",
       "      <td>NaN</td>\n",
       "      <td>Private</td>\n",
       "      <td>13</td>\n",
       "      <td>Married</td>\n",
       "      <td>White</td>\n",
       "      <td>Male</td>\n",
       "      <td>50</td>\n",
       "      <td>&gt;50K</td>\n",
       "    </tr>\n",
       "    <tr>\n",
       "      <th>9987</th>\n",
       "      <td>67.0</td>\n",
       "      <td>NaN</td>\n",
       "      <td>4</td>\n",
       "      <td>Married</td>\n",
       "      <td>White</td>\n",
       "      <td>Male</td>\n",
       "      <td>40</td>\n",
       "      <td>&lt;=50K</td>\n",
       "    </tr>\n",
       "    <tr>\n",
       "      <th>9993</th>\n",
       "      <td>NaN</td>\n",
       "      <td>Private</td>\n",
       "      <td>9</td>\n",
       "      <td>Married</td>\n",
       "      <td>White</td>\n",
       "      <td>Female</td>\n",
       "      <td>15</td>\n",
       "      <td>&lt;=50K</td>\n",
       "    </tr>\n",
       "    <tr>\n",
       "      <th>9998</th>\n",
       "      <td>NaN</td>\n",
       "      <td>Private</td>\n",
       "      <td>2</td>\n",
       "      <td>Married</td>\n",
       "      <td>White</td>\n",
       "      <td>Male</td>\n",
       "      <td>53</td>\n",
       "      <td>&lt;=50K</td>\n",
       "    </tr>\n",
       "  </tbody>\n",
       "</table>\n",
       "<p>777 rows × 8 columns</p>\n",
       "</div>"
      ],
      "text/plain": [
       "       age workclass  education marital-status         race     sex  \\\n",
       "19     NaN  Self-emp         14         Single        White  Female   \n",
       "27     NaN       NaN         10        Married        Asian    Male   \n",
       "40     NaN   Private          5        Married        White    Male   \n",
       "61    32.0       NaN          4        Married        White    Male   \n",
       "65     NaN   Private          9        Married        White    Male   \n",
       "...    ...       ...        ...            ...          ...     ...   \n",
       "9965   NaN   Private         10        Married  Amer-Indian  Female   \n",
       "9966   NaN   Private         13        Married        White    Male   \n",
       "9987  67.0       NaN          4        Married        White    Male   \n",
       "9993   NaN   Private          9        Married        White  Female   \n",
       "9998   NaN   Private          2        Married        White    Male   \n",
       "\n",
       "      hours-per-week income  \n",
       "19                45   >50K  \n",
       "27                60   >50K  \n",
       "40                43  <=50K  \n",
       "61                40  <=50K  \n",
       "65                40  <=50K  \n",
       "...              ...    ...  \n",
       "9965              40  <=50K  \n",
       "9966              50   >50K  \n",
       "9987              40  <=50K  \n",
       "9993              15  <=50K  \n",
       "9998              53  <=50K  \n",
       "\n",
       "[777 rows x 8 columns]"
      ]
     },
     "execution_count": 59,
     "metadata": {},
     "output_type": "execute_result"
    }
   ],
   "source": [
    "adlt_missing_df[adlt_missing_df.isnull().any(axis = 1)]"
   ]
  },
  {
   "cell_type": "markdown",
   "id": "49932ffa",
   "metadata": {},
   "source": [
    "## c. Fill the missing values for all numeric attributes using the mean value for the attribute."
   ]
  },
  {
   "cell_type": "code",
   "execution_count": 60,
   "id": "c6a73cdd",
   "metadata": {
    "ExecuteTime": {
     "end_time": "2023-10-02T04:11:18.815376Z",
     "start_time": "2023-10-02T04:11:18.809591Z"
    }
   },
   "outputs": [],
   "source": [
    "# only age column which is numeric has missing value\n",
    "## mean age\n",
    "avg_age = adlt_missing_df['age'].mean()\n",
    "adlt_missing_df['age'] = adlt_missing_df.age.fillna(avg_age)"
   ]
  },
  {
   "cell_type": "markdown",
   "id": "5148fc41",
   "metadata": {},
   "source": [
    "## d. After filling in the missing numeric values, drop all rows where a categorical attribute contains a missing value. "
   ]
  },
  {
   "cell_type": "code",
   "execution_count": 61,
   "id": "9a38cb59",
   "metadata": {
    "ExecuteTime": {
     "end_time": "2023-10-02T04:11:18.829323Z",
     "start_time": "2023-10-02T04:11:18.818589Z"
    }
   },
   "outputs": [
    {
     "data": {
      "text/plain": [
       "age                 0\n",
       "workclass         588\n",
       "education           0\n",
       "marital-status      0\n",
       "race                0\n",
       "sex                 0\n",
       "hours-per-week      0\n",
       "income              0\n",
       "dtype: int64"
      ]
     },
     "execution_count": 61,
     "metadata": {},
     "output_type": "execute_result"
    }
   ],
   "source": [
    "adlt_missing_df.isna().sum()"
   ]
  },
  {
   "cell_type": "code",
   "execution_count": 62,
   "id": "0a2387e3",
   "metadata": {
    "ExecuteTime": {
     "end_time": "2023-10-02T04:11:18.840495Z",
     "start_time": "2023-10-02T04:11:18.832388Z"
    }
   },
   "outputs": [],
   "source": [
    "# filter out rows with missing values\n",
    "\n",
    "adlt_missing_df = adlt_missing_df[~adlt_missing_df.workclass.isna()]"
   ]
  },
  {
   "cell_type": "code",
   "execution_count": 63,
   "id": "7fb6cdbd",
   "metadata": {
    "ExecuteTime": {
     "end_time": "2023-10-02T04:11:18.855210Z",
     "start_time": "2023-10-02T04:11:18.844012Z"
    }
   },
   "outputs": [
    {
     "data": {
      "text/plain": [
       "age               0\n",
       "workclass         0\n",
       "education         0\n",
       "marital-status    0\n",
       "race              0\n",
       "sex               0\n",
       "hours-per-week    0\n",
       "income            0\n",
       "dtype: int64"
      ]
     },
     "execution_count": 63,
     "metadata": {},
     "output_type": "execute_result"
    }
   ],
   "source": [
    "adlt_missing_df.isna().sum()"
   ]
  },
  {
   "cell_type": "markdown",
   "id": "8e0db5ab",
   "metadata": {},
   "source": [
    "## e. Show that the final resulting table does not contain missing values."
   ]
  },
  {
   "cell_type": "code",
   "execution_count": 64,
   "id": "5776c02b",
   "metadata": {
    "ExecuteTime": {
     "end_time": "2023-10-02T04:11:18.877072Z",
     "start_time": "2023-10-02T04:11:18.857932Z"
    }
   },
   "outputs": [
    {
     "data": {
      "text/html": [
       "<div>\n",
       "<style scoped>\n",
       "    .dataframe tbody tr th:only-of-type {\n",
       "        vertical-align: middle;\n",
       "    }\n",
       "\n",
       "    .dataframe tbody tr th {\n",
       "        vertical-align: top;\n",
       "    }\n",
       "\n",
       "    .dataframe thead th {\n",
       "        text-align: right;\n",
       "    }\n",
       "</style>\n",
       "<table border=\"1\" class=\"dataframe\">\n",
       "  <thead>\n",
       "    <tr style=\"text-align: right;\">\n",
       "      <th></th>\n",
       "      <th>age</th>\n",
       "      <th>workclass</th>\n",
       "      <th>education</th>\n",
       "      <th>marital-status</th>\n",
       "      <th>race</th>\n",
       "      <th>sex</th>\n",
       "      <th>hours-per-week</th>\n",
       "      <th>income</th>\n",
       "    </tr>\n",
       "  </thead>\n",
       "  <tbody>\n",
       "    <tr>\n",
       "      <th>0</th>\n",
       "      <td>39.000000</td>\n",
       "      <td>Public</td>\n",
       "      <td>13</td>\n",
       "      <td>Single</td>\n",
       "      <td>White</td>\n",
       "      <td>Male</td>\n",
       "      <td>40</td>\n",
       "      <td>&lt;=50K</td>\n",
       "    </tr>\n",
       "    <tr>\n",
       "      <th>1</th>\n",
       "      <td>50.000000</td>\n",
       "      <td>Self-emp</td>\n",
       "      <td>13</td>\n",
       "      <td>Married</td>\n",
       "      <td>White</td>\n",
       "      <td>Male</td>\n",
       "      <td>13</td>\n",
       "      <td>&lt;=50K</td>\n",
       "    </tr>\n",
       "    <tr>\n",
       "      <th>2</th>\n",
       "      <td>38.000000</td>\n",
       "      <td>Private</td>\n",
       "      <td>9</td>\n",
       "      <td>Single</td>\n",
       "      <td>White</td>\n",
       "      <td>Male</td>\n",
       "      <td>40</td>\n",
       "      <td>&lt;=50K</td>\n",
       "    </tr>\n",
       "    <tr>\n",
       "      <th>3</th>\n",
       "      <td>53.000000</td>\n",
       "      <td>Private</td>\n",
       "      <td>7</td>\n",
       "      <td>Married</td>\n",
       "      <td>Black</td>\n",
       "      <td>Male</td>\n",
       "      <td>40</td>\n",
       "      <td>&lt;=50K</td>\n",
       "    </tr>\n",
       "    <tr>\n",
       "      <th>4</th>\n",
       "      <td>28.000000</td>\n",
       "      <td>Private</td>\n",
       "      <td>13</td>\n",
       "      <td>Married</td>\n",
       "      <td>Black</td>\n",
       "      <td>Female</td>\n",
       "      <td>40</td>\n",
       "      <td>&lt;=50K</td>\n",
       "    </tr>\n",
       "    <tr>\n",
       "      <th>...</th>\n",
       "      <td>...</td>\n",
       "      <td>...</td>\n",
       "      <td>...</td>\n",
       "      <td>...</td>\n",
       "      <td>...</td>\n",
       "      <td>...</td>\n",
       "      <td>...</td>\n",
       "      <td>...</td>\n",
       "    </tr>\n",
       "    <tr>\n",
       "      <th>9995</th>\n",
       "      <td>38.000000</td>\n",
       "      <td>Private</td>\n",
       "      <td>10</td>\n",
       "      <td>Married</td>\n",
       "      <td>White</td>\n",
       "      <td>Male</td>\n",
       "      <td>60</td>\n",
       "      <td>&gt;50K</td>\n",
       "    </tr>\n",
       "    <tr>\n",
       "      <th>9996</th>\n",
       "      <td>25.000000</td>\n",
       "      <td>Private</td>\n",
       "      <td>9</td>\n",
       "      <td>Single</td>\n",
       "      <td>White</td>\n",
       "      <td>Female</td>\n",
       "      <td>8</td>\n",
       "      <td>&lt;=50K</td>\n",
       "    </tr>\n",
       "    <tr>\n",
       "      <th>9997</th>\n",
       "      <td>21.000000</td>\n",
       "      <td>Private</td>\n",
       "      <td>10</td>\n",
       "      <td>Single</td>\n",
       "      <td>Black</td>\n",
       "      <td>Male</td>\n",
       "      <td>40</td>\n",
       "      <td>&lt;=50K</td>\n",
       "    </tr>\n",
       "    <tr>\n",
       "      <th>9998</th>\n",
       "      <td>38.449806</td>\n",
       "      <td>Private</td>\n",
       "      <td>2</td>\n",
       "      <td>Married</td>\n",
       "      <td>White</td>\n",
       "      <td>Male</td>\n",
       "      <td>53</td>\n",
       "      <td>&lt;=50K</td>\n",
       "    </tr>\n",
       "    <tr>\n",
       "      <th>9999</th>\n",
       "      <td>39.000000</td>\n",
       "      <td>Private</td>\n",
       "      <td>10</td>\n",
       "      <td>Single</td>\n",
       "      <td>White</td>\n",
       "      <td>Female</td>\n",
       "      <td>40</td>\n",
       "      <td>&lt;=50K</td>\n",
       "    </tr>\n",
       "  </tbody>\n",
       "</table>\n",
       "<p>9412 rows × 8 columns</p>\n",
       "</div>"
      ],
      "text/plain": [
       "            age workclass  education marital-status   race     sex  \\\n",
       "0     39.000000    Public         13         Single  White    Male   \n",
       "1     50.000000  Self-emp         13        Married  White    Male   \n",
       "2     38.000000   Private          9         Single  White    Male   \n",
       "3     53.000000   Private          7        Married  Black    Male   \n",
       "4     28.000000   Private         13        Married  Black  Female   \n",
       "...         ...       ...        ...            ...    ...     ...   \n",
       "9995  38.000000   Private         10        Married  White    Male   \n",
       "9996  25.000000   Private          9         Single  White  Female   \n",
       "9997  21.000000   Private         10         Single  Black    Male   \n",
       "9998  38.449806   Private          2        Married  White    Male   \n",
       "9999  39.000000   Private         10         Single  White  Female   \n",
       "\n",
       "      hours-per-week income  \n",
       "0                 40  <=50K  \n",
       "1                 13  <=50K  \n",
       "2                 40  <=50K  \n",
       "3                 40  <=50K  \n",
       "4                 40  <=50K  \n",
       "...              ...    ...  \n",
       "9995              60   >50K  \n",
       "9996               8  <=50K  \n",
       "9997              40  <=50K  \n",
       "9998              53  <=50K  \n",
       "9999              40  <=50K  \n",
       "\n",
       "[9412 rows x 8 columns]"
      ]
     },
     "execution_count": 64,
     "metadata": {},
     "output_type": "execute_result"
    }
   ],
   "source": [
    "adlt_missing_df"
   ]
  },
  {
   "cell_type": "code",
   "execution_count": 65,
   "id": "b92ae0b8",
   "metadata": {
    "ExecuteTime": {
     "end_time": "2023-10-02T04:11:18.887354Z",
     "start_time": "2023-10-02T04:11:18.880486Z"
    }
   },
   "outputs": [
    {
     "data": {
      "text/plain": [
       "age               0\n",
       "workclass         0\n",
       "education         0\n",
       "marital-status    0\n",
       "race              0\n",
       "sex               0\n",
       "hours-per-week    0\n",
       "income            0\n",
       "dtype: int64"
      ]
     },
     "execution_count": 65,
     "metadata": {},
     "output_type": "execute_result"
    }
   ],
   "source": [
    "# check missing value count\n",
    "adlt_missing_df.isna().sum()"
   ]
  },
  {
   "cell_type": "code",
   "execution_count": 66,
   "id": "af42b20f",
   "metadata": {
    "ExecuteTime": {
     "end_time": "2023-10-02T04:11:18.900946Z",
     "start_time": "2023-10-02T04:11:18.889538Z"
    }
   },
   "outputs": [
    {
     "data": {
      "text/html": [
       "<div>\n",
       "<style scoped>\n",
       "    .dataframe tbody tr th:only-of-type {\n",
       "        vertical-align: middle;\n",
       "    }\n",
       "\n",
       "    .dataframe tbody tr th {\n",
       "        vertical-align: top;\n",
       "    }\n",
       "\n",
       "    .dataframe thead th {\n",
       "        text-align: right;\n",
       "    }\n",
       "</style>\n",
       "<table border=\"1\" class=\"dataframe\">\n",
       "  <thead>\n",
       "    <tr style=\"text-align: right;\">\n",
       "      <th></th>\n",
       "      <th>age</th>\n",
       "      <th>workclass</th>\n",
       "      <th>education</th>\n",
       "      <th>marital-status</th>\n",
       "      <th>race</th>\n",
       "      <th>sex</th>\n",
       "      <th>hours-per-week</th>\n",
       "      <th>income</th>\n",
       "    </tr>\n",
       "  </thead>\n",
       "  <tbody>\n",
       "  </tbody>\n",
       "</table>\n",
       "</div>"
      ],
      "text/plain": [
       "Empty DataFrame\n",
       "Columns: [age, workclass, education, marital-status, race, sex, hours-per-week, income]\n",
       "Index: []"
      ]
     },
     "execution_count": 66,
     "metadata": {},
     "output_type": "execute_result"
    }
   ],
   "source": [
    "# check for rows with missing values\n",
    "\n",
    "adlt_missing_df[adlt_missing_df.isna().any(axis=1)]"
   ]
  }
 ],
 "metadata": {
  "kernelspec": {
   "display_name": "Python 3 (ipykernel)",
   "language": "python",
   "name": "python3"
  },
  "language_info": {
   "codemirror_mode": {
    "name": "ipython",
    "version": 3
   },
   "file_extension": ".py",
   "mimetype": "text/x-python",
   "name": "python",
   "nbconvert_exporter": "python",
   "pygments_lexer": "ipython3",
   "version": "3.10.12"
  },
  "toc": {
   "base_numbering": 1,
   "nav_menu": {},
   "number_sections": true,
   "sideBar": true,
   "skip_h1_title": false,
   "title_cell": "Table of Contents",
   "title_sidebar": "Contents",
   "toc_cell": false,
   "toc_position": {
    "height": "calc(100% - 180px)",
    "left": "10px",
    "top": "150px",
    "width": "218.2px"
   },
   "toc_section_display": true,
   "toc_window_display": true
  }
 },
 "nbformat": 4,
 "nbformat_minor": 5
}
