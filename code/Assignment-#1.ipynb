{
 "cells": [
  {
   "cell_type": "markdown",
   "id": "0676e652",
   "metadata": {},
   "source": [
    "## import libs\n"
   ]
  },
  {
   "cell_type": "code",
   "execution_count": 2,
   "id": "badfdda5",
   "metadata": {
    "ExecuteTime": {
     "end_time": "2023-09-30T16:32:12.624241Z",
     "start_time": "2023-09-30T16:32:12.284875Z"
    }
   },
   "outputs": [],
   "source": [
    "import pandas as pd\n",
    "import numpy as np\n",
    "import matplotlib.pyplot as plt"
   ]
  },
  {
   "cell_type": "markdown",
   "id": "b3c64546",
   "metadata": {},
   "source": [
    "# Question 1"
   ]
  },
  {
   "cell_type": "markdown",
   "id": "9aa7309b",
   "metadata": {},
   "source": [
    "Download the data set `adult-modified.csv` and load it into an appropriate data structure such as a Pandas dataframe. Explore the general characteristics of the data as a whole: examine the means, standard deviations, and other statistics associated with the numeric attributes and frequencies associated with categorical attributes."
   ]
  },
  {
   "cell_type": "code",
   "execution_count": 3,
   "id": "11b973a5",
   "metadata": {
    "ExecuteTime": {
     "end_time": "2023-09-30T16:33:58.753283Z",
     "start_time": "2023-09-30T16:33:58.732152Z"
    }
   },
   "outputs": [],
   "source": [
    "adlt_df = pd.read_csv('../data/adult-modified.csv')"
   ]
  },
  {
   "cell_type": "code",
   "execution_count": 4,
   "id": "d1a38a9c",
   "metadata": {
    "ExecuteTime": {
     "end_time": "2023-09-30T16:34:02.765302Z",
     "start_time": "2023-09-30T16:34:02.707536Z"
    }
   },
   "outputs": [
    {
     "data": {
      "text/html": [
       "<div>\n",
       "<style scoped>\n",
       "    .dataframe tbody tr th:only-of-type {\n",
       "        vertical-align: middle;\n",
       "    }\n",
       "\n",
       "    .dataframe tbody tr th {\n",
       "        vertical-align: top;\n",
       "    }\n",
       "\n",
       "    .dataframe thead th {\n",
       "        text-align: right;\n",
       "    }\n",
       "</style>\n",
       "<table border=\"1\" class=\"dataframe\">\n",
       "  <thead>\n",
       "    <tr style=\"text-align: right;\">\n",
       "      <th></th>\n",
       "      <th>age</th>\n",
       "      <th>workclass</th>\n",
       "      <th>education</th>\n",
       "      <th>marital-status</th>\n",
       "      <th>race</th>\n",
       "      <th>sex</th>\n",
       "      <th>hours-per-week</th>\n",
       "      <th>income</th>\n",
       "    </tr>\n",
       "  </thead>\n",
       "  <tbody>\n",
       "    <tr>\n",
       "      <th>0</th>\n",
       "      <td>39</td>\n",
       "      <td>Public</td>\n",
       "      <td>13</td>\n",
       "      <td>Single</td>\n",
       "      <td>White</td>\n",
       "      <td>Male</td>\n",
       "      <td>40</td>\n",
       "      <td>&lt;=50K</td>\n",
       "    </tr>\n",
       "    <tr>\n",
       "      <th>1</th>\n",
       "      <td>50</td>\n",
       "      <td>Self-emp</td>\n",
       "      <td>13</td>\n",
       "      <td>Married</td>\n",
       "      <td>White</td>\n",
       "      <td>Male</td>\n",
       "      <td>13</td>\n",
       "      <td>&lt;=50K</td>\n",
       "    </tr>\n",
       "    <tr>\n",
       "      <th>2</th>\n",
       "      <td>38</td>\n",
       "      <td>Private</td>\n",
       "      <td>9</td>\n",
       "      <td>Single</td>\n",
       "      <td>White</td>\n",
       "      <td>Male</td>\n",
       "      <td>40</td>\n",
       "      <td>&lt;=50K</td>\n",
       "    </tr>\n",
       "    <tr>\n",
       "      <th>3</th>\n",
       "      <td>53</td>\n",
       "      <td>Private</td>\n",
       "      <td>7</td>\n",
       "      <td>Married</td>\n",
       "      <td>Black</td>\n",
       "      <td>Male</td>\n",
       "      <td>40</td>\n",
       "      <td>&lt;=50K</td>\n",
       "    </tr>\n",
       "    <tr>\n",
       "      <th>4</th>\n",
       "      <td>28</td>\n",
       "      <td>Private</td>\n",
       "      <td>13</td>\n",
       "      <td>Married</td>\n",
       "      <td>Black</td>\n",
       "      <td>Female</td>\n",
       "      <td>40</td>\n",
       "      <td>&lt;=50K</td>\n",
       "    </tr>\n",
       "  </tbody>\n",
       "</table>\n",
       "</div>"
      ],
      "text/plain": [
       "   age workclass  education marital-status   race     sex  hours-per-week  \\\n",
       "0   39    Public         13         Single  White    Male              40   \n",
       "1   50  Self-emp         13        Married  White    Male              13   \n",
       "2   38   Private          9         Single  White    Male              40   \n",
       "3   53   Private          7        Married  Black    Male              40   \n",
       "4   28   Private         13        Married  Black  Female              40   \n",
       "\n",
       "  income  \n",
       "0  <=50K  \n",
       "1  <=50K  \n",
       "2  <=50K  \n",
       "3  <=50K  \n",
       "4  <=50K  "
      ]
     },
     "execution_count": 4,
     "metadata": {},
     "output_type": "execute_result"
    }
   ],
   "source": [
    "adlt_df.head()"
   ]
  },
  {
   "cell_type": "code",
   "execution_count": 5,
   "id": "7d06940d",
   "metadata": {
    "ExecuteTime": {
     "end_time": "2023-09-30T16:34:06.932407Z",
     "start_time": "2023-09-30T16:34:06.924637Z"
    }
   },
   "outputs": [
    {
     "data": {
      "text/plain": [
       "age                int64\n",
       "workclass         object\n",
       "education          int64\n",
       "marital-status    object\n",
       "race              object\n",
       "sex               object\n",
       "hours-per-week     int64\n",
       "income            object\n",
       "dtype: object"
      ]
     },
     "execution_count": 5,
     "metadata": {},
     "output_type": "execute_result"
    }
   ],
   "source": [
    "adlt_df.dtypes"
   ]
  },
  {
   "cell_type": "code",
   "execution_count": 6,
   "id": "709a4858",
   "metadata": {
    "ExecuteTime": {
     "end_time": "2023-09-30T16:34:38.303191Z",
     "start_time": "2023-09-30T16:34:38.269379Z"
    }
   },
   "outputs": [
    {
     "data": {
      "text/html": [
       "<div>\n",
       "<style scoped>\n",
       "    .dataframe tbody tr th:only-of-type {\n",
       "        vertical-align: middle;\n",
       "    }\n",
       "\n",
       "    .dataframe tbody tr th {\n",
       "        vertical-align: top;\n",
       "    }\n",
       "\n",
       "    .dataframe thead th {\n",
       "        text-align: right;\n",
       "    }\n",
       "</style>\n",
       "<table border=\"1\" class=\"dataframe\">\n",
       "  <thead>\n",
       "    <tr style=\"text-align: right;\">\n",
       "      <th></th>\n",
       "      <th>age</th>\n",
       "      <th>education</th>\n",
       "      <th>hours-per-week</th>\n",
       "    </tr>\n",
       "  </thead>\n",
       "  <tbody>\n",
       "    <tr>\n",
       "      <th>count</th>\n",
       "      <td>9412.000000</td>\n",
       "      <td>9412.000000</td>\n",
       "      <td>9412.000000</td>\n",
       "    </tr>\n",
       "    <tr>\n",
       "      <th>mean</th>\n",
       "      <td>38.357310</td>\n",
       "      <td>10.125266</td>\n",
       "      <td>41.080217</td>\n",
       "    </tr>\n",
       "    <tr>\n",
       "      <th>std</th>\n",
       "      <td>12.962135</td>\n",
       "      <td>2.542118</td>\n",
       "      <td>11.884590</td>\n",
       "    </tr>\n",
       "    <tr>\n",
       "      <th>min</th>\n",
       "      <td>17.000000</td>\n",
       "      <td>1.000000</td>\n",
       "      <td>1.000000</td>\n",
       "    </tr>\n",
       "    <tr>\n",
       "      <th>25%</th>\n",
       "      <td>28.000000</td>\n",
       "      <td>9.000000</td>\n",
       "      <td>40.000000</td>\n",
       "    </tr>\n",
       "    <tr>\n",
       "      <th>50%</th>\n",
       "      <td>37.000000</td>\n",
       "      <td>10.000000</td>\n",
       "      <td>40.000000</td>\n",
       "    </tr>\n",
       "    <tr>\n",
       "      <th>75%</th>\n",
       "      <td>47.000000</td>\n",
       "      <td>13.000000</td>\n",
       "      <td>45.000000</td>\n",
       "    </tr>\n",
       "    <tr>\n",
       "      <th>max</th>\n",
       "      <td>90.000000</td>\n",
       "      <td>16.000000</td>\n",
       "      <td>99.000000</td>\n",
       "    </tr>\n",
       "  </tbody>\n",
       "</table>\n",
       "</div>"
      ],
      "text/plain": [
       "               age    education  hours-per-week\n",
       "count  9412.000000  9412.000000     9412.000000\n",
       "mean     38.357310    10.125266       41.080217\n",
       "std      12.962135     2.542118       11.884590\n",
       "min      17.000000     1.000000        1.000000\n",
       "25%      28.000000     9.000000       40.000000\n",
       "50%      37.000000    10.000000       40.000000\n",
       "75%      47.000000    13.000000       45.000000\n",
       "max      90.000000    16.000000       99.000000"
      ]
     },
     "execution_count": 6,
     "metadata": {},
     "output_type": "execute_result"
    }
   ],
   "source": [
    "adlt_df.describe()"
   ]
  },
  {
   "cell_type": "code",
   "execution_count": 25,
   "id": "a23c91dc",
   "metadata": {
    "ExecuteTime": {
     "end_time": "2023-09-30T16:42:09.434003Z",
     "start_time": "2023-09-30T16:42:09.413620Z"
    }
   },
   "outputs": [
    {
     "data": {
      "text/plain": [
       "[workclass\n",
       " Private     6947\n",
       " Public      1317\n",
       " Self-emp    1148\n",
       " Name: count, dtype: int64,\n",
       " marital-status\n",
       " Married    4737\n",
       " Single     4675\n",
       " Name: count, dtype: int64,\n",
       " race\n",
       " White          8062\n",
       " Black           892\n",
       " Asian           291\n",
       " Amer-Indian      92\n",
       " Hispanic         75\n",
       " Name: count, dtype: int64,\n",
       " sex\n",
       " Male      6383\n",
       " Female    3029\n",
       " Name: count, dtype: int64,\n",
       " income\n",
       " <=50K    7093\n",
       " >50K     2319\n",
       " Name: count, dtype: int64]"
      ]
     },
     "execution_count": 25,
     "metadata": {},
     "output_type": "execute_result"
    }
   ],
   "source": [
    "# get frequency of categorical features from df\n",
    "[(adlt_df[cat_col].value_counts()) for cat_col in adlt_df.select_dtypes('object').columns]"
   ]
  },
  {
   "cell_type": "markdown",
   "id": "e6722c55",
   "metadata": {},
   "source": [
    "# Question 2"
   ]
  },
  {
   "cell_type": "markdown",
   "id": "d34f3e82",
   "metadata": {},
   "source": [
    "For the three numeric attributes (age, hours-per-week, education), display box plots that show the overall dispersion and skew in these variables. Next, create histograms for these three variables showing the overall data distribution in each. Finally, display a scatter plot of age (x-axis) vs. hours-per-week (y-axis)."
   ]
  },
  {
   "cell_type": "code",
   "execution_count": 26,
   "id": "25a843ef",
   "metadata": {
    "ExecuteTime": {
     "end_time": "2023-09-30T16:43:21.657220Z",
     "start_time": "2023-09-30T16:43:21.651555Z"
    }
   },
   "outputs": [],
   "source": [
    "# filter numeric dataframe\n",
    "num_df = adlt_df.select_dtypes('int')"
   ]
  },
  {
   "cell_type": "code",
   "execution_count": 50,
   "id": "cf39d288",
   "metadata": {
    "ExecuteTime": {
     "end_time": "2023-09-30T16:54:54.952219Z",
     "start_time": "2023-09-30T16:54:54.939619Z"
    }
   },
   "outputs": [
    {
     "data": {
      "text/html": [
       "<div>\n",
       "<style scoped>\n",
       "    .dataframe tbody tr th:only-of-type {\n",
       "        vertical-align: middle;\n",
       "    }\n",
       "\n",
       "    .dataframe tbody tr th {\n",
       "        vertical-align: top;\n",
       "    }\n",
       "\n",
       "    .dataframe thead th {\n",
       "        text-align: right;\n",
       "    }\n",
       "</style>\n",
       "<table border=\"1\" class=\"dataframe\">\n",
       "  <thead>\n",
       "    <tr style=\"text-align: right;\">\n",
       "      <th></th>\n",
       "      <th>age</th>\n",
       "      <th>education</th>\n",
       "      <th>hours-per-week</th>\n",
       "    </tr>\n",
       "  </thead>\n",
       "  <tbody>\n",
       "    <tr>\n",
       "      <th>0</th>\n",
       "      <td>39</td>\n",
       "      <td>13</td>\n",
       "      <td>40</td>\n",
       "    </tr>\n",
       "    <tr>\n",
       "      <th>1</th>\n",
       "      <td>50</td>\n",
       "      <td>13</td>\n",
       "      <td>13</td>\n",
       "    </tr>\n",
       "    <tr>\n",
       "      <th>2</th>\n",
       "      <td>38</td>\n",
       "      <td>9</td>\n",
       "      <td>40</td>\n",
       "    </tr>\n",
       "    <tr>\n",
       "      <th>3</th>\n",
       "      <td>53</td>\n",
       "      <td>7</td>\n",
       "      <td>40</td>\n",
       "    </tr>\n",
       "    <tr>\n",
       "      <th>4</th>\n",
       "      <td>28</td>\n",
       "      <td>13</td>\n",
       "      <td>40</td>\n",
       "    </tr>\n",
       "    <tr>\n",
       "      <th>...</th>\n",
       "      <td>...</td>\n",
       "      <td>...</td>\n",
       "      <td>...</td>\n",
       "    </tr>\n",
       "    <tr>\n",
       "      <th>9407</th>\n",
       "      <td>38</td>\n",
       "      <td>10</td>\n",
       "      <td>60</td>\n",
       "    </tr>\n",
       "    <tr>\n",
       "      <th>9408</th>\n",
       "      <td>25</td>\n",
       "      <td>9</td>\n",
       "      <td>8</td>\n",
       "    </tr>\n",
       "    <tr>\n",
       "      <th>9409</th>\n",
       "      <td>21</td>\n",
       "      <td>10</td>\n",
       "      <td>40</td>\n",
       "    </tr>\n",
       "    <tr>\n",
       "      <th>9410</th>\n",
       "      <td>38</td>\n",
       "      <td>2</td>\n",
       "      <td>53</td>\n",
       "    </tr>\n",
       "    <tr>\n",
       "      <th>9411</th>\n",
       "      <td>39</td>\n",
       "      <td>10</td>\n",
       "      <td>40</td>\n",
       "    </tr>\n",
       "  </tbody>\n",
       "</table>\n",
       "<p>9412 rows × 3 columns</p>\n",
       "</div>"
      ],
      "text/plain": [
       "      age  education  hours-per-week\n",
       "0      39         13              40\n",
       "1      50         13              13\n",
       "2      38          9              40\n",
       "3      53          7              40\n",
       "4      28         13              40\n",
       "...   ...        ...             ...\n",
       "9407   38         10              60\n",
       "9408   25          9               8\n",
       "9409   21         10              40\n",
       "9410   38          2              53\n",
       "9411   39         10              40\n",
       "\n",
       "[9412 rows x 3 columns]"
      ]
     },
     "execution_count": 50,
     "metadata": {},
     "output_type": "execute_result"
    }
   ],
   "source": [
    "num_df"
   ]
  },
  {
   "cell_type": "code",
   "execution_count": 70,
   "id": "ce34e656",
   "metadata": {
    "ExecuteTime": {
     "end_time": "2023-09-30T17:11:17.608259Z",
     "start_time": "2023-09-30T17:11:17.365671Z"
    }
   },
   "outputs": [
    {
     "data": {
      "image/png": "[encoded data removed]",
      "text/plain": [
       "<Figure size 1200x600 with 3 Axes>"
      ]
     },
     "metadata": {},
     "output_type": "display_data"
    }
   ],
   "source": [
    "plt.figure(figsize=(12, 6))\n",
    "ax1 = plt.subplot(2,3,1)\n",
    "ax2 = plt.subplot(2,3,2)\n",
    "ax3 = plt.subplot(2,3,3)\n",
    "\n",
    "\n",
    "ax1.boxplot(num_df.age, )\n",
    "ax1.set_title('Boxplot: age')\n",
    "ax1.set_ylabel('Age')\n",
    "ax2.boxplot(num_df.education)\n",
    "ax2.set_title('Boxplot: education')\n",
    "ax2.set_ylabel('education')\n",
    "ax3.boxplot(num_df['hours-per-week'])\n",
    "ax3.set_title('Boxplot: hours-per-week')\n",
    "ax3.set_ylabel('hours-per-week')\n",
    "plt.show()"
   ]
  },
  {
   "cell_type": "code",
   "execution_count": 60,
   "id": "614ca7c1",
   "metadata": {
    "ExecuteTime": {
     "end_time": "2023-09-30T17:07:28.908051Z",
     "start_time": "2023-09-30T17:07:28.636921Z"
    }
   },
   "outputs": [
    {
     "data": {
      "image/png": "[encoded data removed]",
      "text/plain": [
       "<Figure size 1200x600 with 3 Axes>"
      ]
     },
     "metadata": {},
     "output_type": "display_data"
    }
   ],
   "source": [
    "plt.figure(figsize=(12, 6))\n",
    "ax1 = plt.subplot(2,3,1)\n",
    "ax2 = plt.subplot(2,3,2)\n",
    "ax3 = plt.subplot(2,3,3)\n",
    "\n",
    "\n",
    "ax1.hist(num_df.age, )\n",
    "ax1.set_title('histogram: age')\n",
    "ax1.set_xlabel('Age')\n",
    "ax2.hist(num_df.education)\n",
    "ax2.set_title('histogram: education')\n",
    "ax2.set_xlabel('education')\n",
    "ax3.hist(num_df['hours-per-week'])\n",
    "ax3.set_title('histogram: hours-per-week')\n",
    "ax3.set_xlabel('hours-per-week')\n",
    "plt.show()"
   ]
  },
  {
   "cell_type": "markdown",
   "id": "abbec77c",
   "metadata": {},
   "source": []
  }
 ],
 "metadata": {
  "kernelspec": {
   "display_name": "Python 3 (ipykernel)",
   "language": "python",
   "name": "python3"
  },
  "language_info": {
   "codemirror_mode": {
    "name": "ipython",
    "version": 3
   },
   "file_extension": ".py",
   "mimetype": "text/x-python",
   "name": "python",
   "nbconvert_exporter": "python",
   "pygments_lexer": "ipython3",
   "version": "3.10.12"
  },
  "toc": {
   "base_numbering": 1,
   "nav_menu": {},
   "number_sections": true,
   "sideBar": true,
   "skip_h1_title": false,
   "title_cell": "Table of Contents",
   "title_sidebar": "Contents",
   "toc_cell": false,
   "toc_position": {
    "height": "calc(100% - 180px)",
    "left": "10px",
    "top": "150px",
    "width": "239.2px"
   },
   "toc_section_display": true,
   "toc_window_display": false
  }
 },
 "nbformat": 4,
 "nbformat_minor": 5
}
