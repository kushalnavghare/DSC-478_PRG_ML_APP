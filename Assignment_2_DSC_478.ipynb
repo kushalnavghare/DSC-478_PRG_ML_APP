{
  "nbformat": 4,
  "nbformat_minor": 0,
  "metadata": {
    "colab": {
      "provenance": [],
      "toc_visible": true,
      "gpuType": "T4",
      "mount_file_id": "19UGr1fq7ZYHtzBWBLhyUgl8oZhQcxKpP",
      "authorship_tag": "ABX9TyNe3sZPFg0IjLBVuYddc5md",
      "include_colab_link": true
    },
    "kernelspec": {
      "name": "python3",
      "display_name": "Python 3"
    },
    "language_info": {
      "name": "python"
    },
    "accelerator": "GPU"
  },
  "cells": [
    {
      "cell_type": "markdown",
      "metadata": {
        "id": "view-in-github",
        "colab_type": "text"
      },
      "source": [
        "<a href=\"https://colab.research.google.com/github/kushalnavghare/DSC-478_PRG_ML_APP/blob/main/Assignment_2_DSC_478.ipynb\" target=\"_parent\"><img src=\"https://colab.research.google.com/assets/colab-badge.svg\" alt=\"Open In Colab\"/></a>"
      ]
    },
    {
      "cell_type": "markdown",
      "source": [
        "# Assignment 2\n",
        "## Name: Kushal Navghare\n",
        "## Student ID: 2116916"
      ],
      "metadata": {
        "id": "bZbEPPYn1CZF"
      }
    },
    {
      "cell_type": "markdown",
      "source": [
        "For this assignment you will experiment with various classification models using subsets of some real-world data sets. In particular, you will use the K-Nearest-Neighbor algorithm to classify text documents, experiment with and compare classifiers that are part of the scikit-learn machine learning package for Python, and use some additional preprocessing capabilities of pandas and scikit-learn packages."
      ],
      "metadata": {
        "id": "K3tVX5Gk1Lc3"
      }
    },
    {
      "cell_type": "code",
      "source": [
        "from google.colab import drive\n",
        "drive.mount('/content/drive')"
      ],
      "metadata": {
        "colab": {
          "base_uri": "https://localhost:8080/"
        },
        "id": "o1rJx9aN2vSu",
        "outputId": "8c80d053-7fe2-4df9-ad19-d234749d8cd0"
      },
      "execution_count": 116,
      "outputs": [
        {
          "output_type": "stream",
          "name": "stdout",
          "text": [
            "Drive already mounted at /content/drive; to attempt to forcibly remount, call drive.mount(\"/content/drive\", force_remount=True).\n"
          ]
        }
      ]
    },
    {
      "cell_type": "code",
      "source": [
        "%cd drive/MyDrive/DSC-478_PRG_ML_APPS"
      ],
      "metadata": {
        "colab": {
          "base_uri": "https://localhost:8080/"
        },
        "id": "-7NwkqfX2xbx",
        "outputId": "67ffffc0-89ee-4a23-95d1-0275c40bd1b0"
      },
      "execution_count": 117,
      "outputs": [
        {
          "output_type": "stream",
          "name": "stdout",
          "text": [
            "[Errno 2] No such file or directory: 'drive/MyDrive/DSC-478_PRG_ML_APPS'\n",
            "/content/drive/MyDrive/DSC-478_PRG_ML_APPS\n"
          ]
        }
      ]
    },
    {
      "cell_type": "code",
      "source": [
        "%pwd"
      ],
      "metadata": {
        "colab": {
          "base_uri": "https://localhost:8080/",
          "height": 36
        },
        "id": "vG4d9igyis-O",
        "outputId": "23477a0d-7756-4e40-8de5-f945c8b3eb1a"
      },
      "execution_count": 118,
      "outputs": [
        {
          "output_type": "execute_result",
          "data": {
            "text/plain": [
              "'/content/drive/My Drive/DSC-478_PRG_ML_APPS'"
            ],
            "application/vnd.google.colaboratory.intrinsic+json": {
              "type": "string"
            }
          },
          "metadata": {},
          "execution_count": 118
        }
      ]
    },
    {
      "cell_type": "markdown",
      "source": [
        "# 1.\tK-Nearest-Neighbor (KNN) classification on Newsgroups [Dataset: [newsgroups.zip](https://http://facweb.cs.depaul.edu/mobasher/classes/CSC478/Data/newsgroups.zip)]"
      ],
      "metadata": {
        "id": "QZZWQEir1Zja"
      }
    },
    {
      "cell_type": "markdown",
      "source": [
        "Your tasks in this problem are the following [Note: for this problem you should not use scikit-learn for classification, but implement your own KNN classifier. You may use Pandas, NumPy, standard Python libraries, and Matplotlib.]"
      ],
      "metadata": {
        "id": "rvLb3mAl29VC"
      }
    },
    {
      "cell_type": "code",
      "source": [
        "import pandas as pd\n",
        "import numpy as np\n",
        "import matplotlib.pyplot as plt"
      ],
      "metadata": {
        "id": "MfPa27dG4ysL"
      },
      "execution_count": 119,
      "outputs": []
    },
    {
      "cell_type": "code",
      "source": [
        "import warnings\n",
        "warnings.filterwarnings(action='ignore')"
      ],
      "metadata": {
        "id": "CBHj9Scs43vh"
      },
      "execution_count": 120,
      "outputs": []
    },
    {
      "cell_type": "markdown",
      "source": [
        "## a\n",
        "Load the data sets, including the train and test matrices as well as the train and test labels. Show the top 20 terms in the decreasing order of total training frequency (total number of occurences of the term across all documents in the training data). Then plot the distribtution of term frequencies in the training data (using a line plot similar to class examples).\n",
        "\n"
      ],
      "metadata": {
        "id": "N4SY7ZBl4kb_"
      }
    },
    {
      "cell_type": "code",
      "execution_count": 121,
      "metadata": {
        "id": "WcFDjype0nV8"
      },
      "outputs": [],
      "source": [
        "# read the data\n",
        "raw_train_matrix = pd.read_table('data/trainMatrixModified.txt', header=None)\n",
        "raw_test_matrix = pd.read_table('data/testMatrixModified.txt', header=None)\n",
        "\n",
        "# labels\n",
        "train_labels = pd.read_table('data/trainClasses.txt', header=None)\n",
        "test_labels = pd.read_table('data/testClasses.txt', header=None)\n",
        "\n",
        "# headers\n",
        "headers = pd.read_table('data/modifiedterms.txt', header=None)"
      ]
    },
    {
      "cell_type": "code",
      "source": [
        "len(train_labels), len(test_labels)"
      ],
      "metadata": {
        "colab": {
          "base_uri": "https://localhost:8080/"
        },
        "id": "UcFG_3OI6Zbi",
        "outputId": "81861091-4601-46a8-b7e7-8fa6ad2834f7"
      },
      "execution_count": 122,
      "outputs": [
        {
          "output_type": "execute_result",
          "data": {
            "text/plain": [
              "(800, 200)"
            ]
          },
          "metadata": {},
          "execution_count": 122
        }
      ]
    },
    {
      "cell_type": "code",
      "source": [
        "len(raw_train_matrix), len(raw_test_matrix)"
      ],
      "metadata": {
        "colab": {
          "base_uri": "https://localhost:8080/"
        },
        "id": "Yi6ilfPO7e7K",
        "outputId": "bc3844cd-f3a8-4a43-a549-fb6623f0427d"
      },
      "execution_count": 123,
      "outputs": [
        {
          "output_type": "execute_result",
          "data": {
            "text/plain": [
              "(5500, 5500)"
            ]
          },
          "metadata": {},
          "execution_count": 123
        }
      ]
    },
    {
      "cell_type": "code",
      "source": [
        "# # we'll assign words to row index\n",
        "raw_train_matrix.index = headers[0]\n",
        "raw_test_matrix.index = headers[0]"
      ],
      "metadata": {
        "id": "PlGJ3Z15AZ9B"
      },
      "execution_count": 124,
      "outputs": []
    },
    {
      "cell_type": "code",
      "source": [
        "raw_train_matrix.head()"
      ],
      "metadata": {
        "colab": {
          "base_uri": "https://localhost:8080/",
          "height": 266
        },
        "id": "Z5K8kSnu2vgo",
        "outputId": "69c1d458-2050-4275-b08f-fdebba5bfaa1"
      },
      "execution_count": 125,
      "outputs": [
        {
          "output_type": "execute_result",
          "data": {
            "text/plain": [
              "         0    1    2    3    4    5    6    7    8    9    ...  790  791  792  \\\n",
              "0                                                          ...                  \n",
              "david    2.0  0.0  0.0  2.0  2.0  0.0  0.0  0.0  0.0  0.0  ...  0.0  0.0  0.0   \n",
              "rex      2.0  0.0  0.0  0.0  0.0  0.0  0.0  0.0  0.0  0.0  ...  0.0  0.0  3.0   \n",
              "wood     2.0  0.0  0.0  0.0  0.0  0.0  0.0  0.0  0.0  0.0  ...  0.0  0.0  0.0   \n",
              "subject  1.0  1.0  1.0  1.0  1.0  1.0  2.0  1.0  1.0  1.0  ...  1.0  1.0  1.0   \n",
              "call     8.0  1.0  0.0  0.0  0.0  0.0  0.0  0.0  0.0  0.0  ...  0.0  0.0  2.0   \n",
              "\n",
              "         793  794  795  796  797  798  799  \n",
              "0                                           \n",
              "david    0.0  0.0  0.0  0.0  0.0  0.0  0.0  \n",
              "rex      0.0  0.0  0.0  0.0  0.0  0.0  0.0  \n",
              "wood     0.0  0.0  0.0  0.0  0.0  0.0  0.0  \n",
              "subject  1.0  1.0  1.0  1.0  1.0  1.0  1.0  \n",
              "call     0.0  0.0  0.0  0.0  0.0  0.0  1.0  \n",
              "\n",
              "[5 rows x 800 columns]"
            ],
            "text/html": [
              "\n",
              "  <div id=\"df-95e13e28-9e56-4d1d-b9ee-104d483bd850\" class=\"colab-df-container\">\n",
              "    <div>\n",
              "<style scoped>\n",
              "    .dataframe tbody tr th:only-of-type {\n",
              "        vertical-align: middle;\n",
              "    }\n",
              "\n",
              "    .dataframe tbody tr th {\n",
              "        vertical-align: top;\n",
              "    }\n",
              "\n",
              "    .dataframe thead th {\n",
              "        text-align: right;\n",
              "    }\n",
              "</style>\n",
              "<table border=\"1\" class=\"dataframe\">\n",
              "  <thead>\n",
              "    <tr style=\"text-align: right;\">\n",
              "      <th></th>\n",
              "      <th>0</th>\n",
              "      <th>1</th>\n",
              "      <th>2</th>\n",
              "      <th>3</th>\n",
              "      <th>4</th>\n",
              "      <th>5</th>\n",
              "      <th>6</th>\n",
              "      <th>7</th>\n",
              "      <th>8</th>\n",
              "      <th>9</th>\n",
              "      <th>...</th>\n",
              "      <th>790</th>\n",
              "      <th>791</th>\n",
              "      <th>792</th>\n",
              "      <th>793</th>\n",
              "      <th>794</th>\n",
              "      <th>795</th>\n",
              "      <th>796</th>\n",
              "      <th>797</th>\n",
              "      <th>798</th>\n",
              "      <th>799</th>\n",
              "    </tr>\n",
              "    <tr>\n",
              "      <th>0</th>\n",
              "      <th></th>\n",
              "      <th></th>\n",
              "      <th></th>\n",
              "      <th></th>\n",
              "      <th></th>\n",
              "      <th></th>\n",
              "      <th></th>\n",
              "      <th></th>\n",
              "      <th></th>\n",
              "      <th></th>\n",
              "      <th></th>\n",
              "      <th></th>\n",
              "      <th></th>\n",
              "      <th></th>\n",
              "      <th></th>\n",
              "      <th></th>\n",
              "      <th></th>\n",
              "      <th></th>\n",
              "      <th></th>\n",
              "      <th></th>\n",
              "      <th></th>\n",
              "    </tr>\n",
              "  </thead>\n",
              "  <tbody>\n",
              "    <tr>\n",
              "      <th>david</th>\n",
              "      <td>2.0</td>\n",
              "      <td>0.0</td>\n",
              "      <td>0.0</td>\n",
              "      <td>2.0</td>\n",
              "      <td>2.0</td>\n",
              "      <td>0.0</td>\n",
              "      <td>0.0</td>\n",
              "      <td>0.0</td>\n",
              "      <td>0.0</td>\n",
              "      <td>0.0</td>\n",
              "      <td>...</td>\n",
              "      <td>0.0</td>\n",
              "      <td>0.0</td>\n",
              "      <td>0.0</td>\n",
              "      <td>0.0</td>\n",
              "      <td>0.0</td>\n",
              "      <td>0.0</td>\n",
              "      <td>0.0</td>\n",
              "      <td>0.0</td>\n",
              "      <td>0.0</td>\n",
              "      <td>0.0</td>\n",
              "    </tr>\n",
              "    <tr>\n",
              "      <th>rex</th>\n",
              "      <td>2.0</td>\n",
              "      <td>0.0</td>\n",
              "      <td>0.0</td>\n",
              "      <td>0.0</td>\n",
              "      <td>0.0</td>\n",
              "      <td>0.0</td>\n",
              "      <td>0.0</td>\n",
              "      <td>0.0</td>\n",
              "      <td>0.0</td>\n",
              "      <td>0.0</td>\n",
              "      <td>...</td>\n",
              "      <td>0.0</td>\n",
              "      <td>0.0</td>\n",
              "      <td>3.0</td>\n",
              "      <td>0.0</td>\n",
              "      <td>0.0</td>\n",
              "      <td>0.0</td>\n",
              "      <td>0.0</td>\n",
              "      <td>0.0</td>\n",
              "      <td>0.0</td>\n",
              "      <td>0.0</td>\n",
              "    </tr>\n",
              "    <tr>\n",
              "      <th>wood</th>\n",
              "      <td>2.0</td>\n",
              "      <td>0.0</td>\n",
              "      <td>0.0</td>\n",
              "      <td>0.0</td>\n",
              "      <td>0.0</td>\n",
              "      <td>0.0</td>\n",
              "      <td>0.0</td>\n",
              "      <td>0.0</td>\n",
              "      <td>0.0</td>\n",
              "      <td>0.0</td>\n",
              "      <td>...</td>\n",
              "      <td>0.0</td>\n",
              "      <td>0.0</td>\n",
              "      <td>0.0</td>\n",
              "      <td>0.0</td>\n",
              "      <td>0.0</td>\n",
              "      <td>0.0</td>\n",
              "      <td>0.0</td>\n",
              "      <td>0.0</td>\n",
              "      <td>0.0</td>\n",
              "      <td>0.0</td>\n",
              "    </tr>\n",
              "    <tr>\n",
              "      <th>subject</th>\n",
              "      <td>1.0</td>\n",
              "      <td>1.0</td>\n",
              "      <td>1.0</td>\n",
              "      <td>1.0</td>\n",
              "      <td>1.0</td>\n",
              "      <td>1.0</td>\n",
              "      <td>2.0</td>\n",
              "      <td>1.0</td>\n",
              "      <td>1.0</td>\n",
              "      <td>1.0</td>\n",
              "      <td>...</td>\n",
              "      <td>1.0</td>\n",
              "      <td>1.0</td>\n",
              "      <td>1.0</td>\n",
              "      <td>1.0</td>\n",
              "      <td>1.0</td>\n",
              "      <td>1.0</td>\n",
              "      <td>1.0</td>\n",
              "      <td>1.0</td>\n",
              "      <td>1.0</td>\n",
              "      <td>1.0</td>\n",
              "    </tr>\n",
              "    <tr>\n",
              "      <th>call</th>\n",
              "      <td>8.0</td>\n",
              "      <td>1.0</td>\n",
              "      <td>0.0</td>\n",
              "      <td>0.0</td>\n",
              "      <td>0.0</td>\n",
              "      <td>0.0</td>\n",
              "      <td>0.0</td>\n",
              "      <td>0.0</td>\n",
              "      <td>0.0</td>\n",
              "      <td>0.0</td>\n",
              "      <td>...</td>\n",
              "      <td>0.0</td>\n",
              "      <td>0.0</td>\n",
              "      <td>2.0</td>\n",
              "      <td>0.0</td>\n",
              "      <td>0.0</td>\n",
              "      <td>0.0</td>\n",
              "      <td>0.0</td>\n",
              "      <td>0.0</td>\n",
              "      <td>0.0</td>\n",
              "      <td>1.0</td>\n",
              "    </tr>\n",
              "  </tbody>\n",
              "</table>\n",
              "<p>5 rows × 800 columns</p>\n",
              "</div>\n",
              "    <div class=\"colab-df-buttons\">\n",
              "\n",
              "  <div class=\"colab-df-container\">\n",
              "    <button class=\"colab-df-convert\" onclick=\"convertToInteractive('df-95e13e28-9e56-4d1d-b9ee-104d483bd850')\"\n",
              "            title=\"Convert this dataframe to an interactive table.\"\n",
              "            style=\"display:none;\">\n",
              "\n",
              "  <svg xmlns=\"http://www.w3.org/2000/svg\" height=\"24px\" viewBox=\"0 -960 960 960\">\n",
              "    <path d=\"M120-120v-720h720v720H120Zm60-500h600v-160H180v160Zm220 220h160v-160H400v160Zm0 220h160v-160H400v160ZM180-400h160v-160H180v160Zm440 0h160v-160H620v160ZM180-180h160v-160H180v160Zm440 0h160v-160H620v160Z\"/>\n",
              "  </svg>\n",
              "    </button>\n",
              "\n",
              "  <style>\n",
              "    .colab-df-container {\n",
              "      display:flex;\n",
              "      gap: 12px;\n",
              "    }\n",
              "\n",
              "    .colab-df-convert {\n",
              "      background-color: #E8F0FE;\n",
              "      border: none;\n",
              "      border-radius: 50%;\n",
              "      cursor: pointer;\n",
              "      display: none;\n",
              "      fill: #1967D2;\n",
              "      height: 32px;\n",
              "      padding: 0 0 0 0;\n",
              "      width: 32px;\n",
              "    }\n",
              "\n",
              "    .colab-df-convert:hover {\n",
              "      background-color: #E2EBFA;\n",
              "      box-shadow: 0px 1px 2px rgba(60, 64, 67, 0.3), 0px 1px 3px 1px rgba(60, 64, 67, 0.15);\n",
              "      fill: #174EA6;\n",
              "    }\n",
              "\n",
              "    .colab-df-buttons div {\n",
              "      margin-bottom: 4px;\n",
              "    }\n",
              "\n",
              "    [theme=dark] .colab-df-convert {\n",
              "      background-color: #3B4455;\n",
              "      fill: #D2E3FC;\n",
              "    }\n",
              "\n",
              "    [theme=dark] .colab-df-convert:hover {\n",
              "      background-color: #434B5C;\n",
              "      box-shadow: 0px 1px 3px 1px rgba(0, 0, 0, 0.15);\n",
              "      filter: drop-shadow(0px 1px 2px rgba(0, 0, 0, 0.3));\n",
              "      fill: #FFFFFF;\n",
              "    }\n",
              "  </style>\n",
              "\n",
              "    <script>\n",
              "      const buttonEl =\n",
              "        document.querySelector('#df-95e13e28-9e56-4d1d-b9ee-104d483bd850 button.colab-df-convert');\n",
              "      buttonEl.style.display =\n",
              "        google.colab.kernel.accessAllowed ? 'block' : 'none';\n",
              "\n",
              "      async function convertToInteractive(key) {\n",
              "        const element = document.querySelector('#df-95e13e28-9e56-4d1d-b9ee-104d483bd850');\n",
              "        const dataTable =\n",
              "          await google.colab.kernel.invokeFunction('convertToInteractive',\n",
              "                                                    [key], {});\n",
              "        if (!dataTable) return;\n",
              "\n",
              "        const docLinkHtml = 'Like what you see? Visit the ' +\n",
              "          '<a target=\"_blank\" href=https://colab.research.google.com/notebooks/data_table.ipynb>data table notebook</a>'\n",
              "          + ' to learn more about interactive tables.';\n",
              "        element.innerHTML = '';\n",
              "        dataTable['output_type'] = 'display_data';\n",
              "        await google.colab.output.renderOutput(dataTable, element);\n",
              "        const docLink = document.createElement('div');\n",
              "        docLink.innerHTML = docLinkHtml;\n",
              "        element.appendChild(docLink);\n",
              "      }\n",
              "    </script>\n",
              "  </div>\n",
              "\n",
              "\n",
              "<div id=\"df-8abf911b-a3c7-48d0-91f9-c03c9c0a9feb\">\n",
              "  <button class=\"colab-df-quickchart\" onclick=\"quickchart('df-8abf911b-a3c7-48d0-91f9-c03c9c0a9feb')\"\n",
              "            title=\"Suggest charts.\"\n",
              "            style=\"display:none;\">\n",
              "\n",
              "<svg xmlns=\"http://www.w3.org/2000/svg\" height=\"24px\"viewBox=\"0 0 24 24\"\n",
              "     width=\"24px\">\n",
              "    <g>\n",
              "        <path d=\"M19 3H5c-1.1 0-2 .9-2 2v14c0 1.1.9 2 2 2h14c1.1 0 2-.9 2-2V5c0-1.1-.9-2-2-2zM9 17H7v-7h2v7zm4 0h-2V7h2v10zm4 0h-2v-4h2v4z\"/>\n",
              "    </g>\n",
              "</svg>\n",
              "  </button>\n",
              "\n",
              "<style>\n",
              "  .colab-df-quickchart {\n",
              "      --bg-color: #E8F0FE;\n",
              "      --fill-color: #1967D2;\n",
              "      --hover-bg-color: #E2EBFA;\n",
              "      --hover-fill-color: #174EA6;\n",
              "      --disabled-fill-color: #AAA;\n",
              "      --disabled-bg-color: #DDD;\n",
              "  }\n",
              "\n",
              "  [theme=dark] .colab-df-quickchart {\n",
              "      --bg-color: #3B4455;\n",
              "      --fill-color: #D2E3FC;\n",
              "      --hover-bg-color: #434B5C;\n",
              "      --hover-fill-color: #FFFFFF;\n",
              "      --disabled-bg-color: #3B4455;\n",
              "      --disabled-fill-color: #666;\n",
              "  }\n",
              "\n",
              "  .colab-df-quickchart {\n",
              "    background-color: var(--bg-color);\n",
              "    border: none;\n",
              "    border-radius: 50%;\n",
              "    cursor: pointer;\n",
              "    display: none;\n",
              "    fill: var(--fill-color);\n",
              "    height: 32px;\n",
              "    padding: 0;\n",
              "    width: 32px;\n",
              "  }\n",
              "\n",
              "  .colab-df-quickchart:hover {\n",
              "    background-color: var(--hover-bg-color);\n",
              "    box-shadow: 0 1px 2px rgba(60, 64, 67, 0.3), 0 1px 3px 1px rgba(60, 64, 67, 0.15);\n",
              "    fill: var(--button-hover-fill-color);\n",
              "  }\n",
              "\n",
              "  .colab-df-quickchart-complete:disabled,\n",
              "  .colab-df-quickchart-complete:disabled:hover {\n",
              "    background-color: var(--disabled-bg-color);\n",
              "    fill: var(--disabled-fill-color);\n",
              "    box-shadow: none;\n",
              "  }\n",
              "\n",
              "  .colab-df-spinner {\n",
              "    border: 2px solid var(--fill-color);\n",
              "    border-color: transparent;\n",
              "    border-bottom-color: var(--fill-color);\n",
              "    animation:\n",
              "      spin 1s steps(1) infinite;\n",
              "  }\n",
              "\n",
              "  @keyframes spin {\n",
              "    0% {\n",
              "      border-color: transparent;\n",
              "      border-bottom-color: var(--fill-color);\n",
              "      border-left-color: var(--fill-color);\n",
              "    }\n",
              "    20% {\n",
              "      border-color: transparent;\n",
              "      border-left-color: var(--fill-color);\n",
              "      border-top-color: var(--fill-color);\n",
              "    }\n",
              "    30% {\n",
              "      border-color: transparent;\n",
              "      border-left-color: var(--fill-color);\n",
              "      border-top-color: var(--fill-color);\n",
              "      border-right-color: var(--fill-color);\n",
              "    }\n",
              "    40% {\n",
              "      border-color: transparent;\n",
              "      border-right-color: var(--fill-color);\n",
              "      border-top-color: var(--fill-color);\n",
              "    }\n",
              "    60% {\n",
              "      border-color: transparent;\n",
              "      border-right-color: var(--fill-color);\n",
              "    }\n",
              "    80% {\n",
              "      border-color: transparent;\n",
              "      border-right-color: var(--fill-color);\n",
              "      border-bottom-color: var(--fill-color);\n",
              "    }\n",
              "    90% {\n",
              "      border-color: transparent;\n",
              "      border-bottom-color: var(--fill-color);\n",
              "    }\n",
              "  }\n",
              "</style>\n",
              "\n",
              "  <script>\n",
              "    async function quickchart(key) {\n",
              "      const quickchartButtonEl =\n",
              "        document.querySelector('#' + key + ' button');\n",
              "      quickchartButtonEl.disabled = true;  // To prevent multiple clicks.\n",
              "      quickchartButtonEl.classList.add('colab-df-spinner');\n",
              "      try {\n",
              "        const charts = await google.colab.kernel.invokeFunction(\n",
              "            'suggestCharts', [key], {});\n",
              "      } catch (error) {\n",
              "        console.error('Error during call to suggestCharts:', error);\n",
              "      }\n",
              "      quickchartButtonEl.classList.remove('colab-df-spinner');\n",
              "      quickchartButtonEl.classList.add('colab-df-quickchart-complete');\n",
              "    }\n",
              "    (() => {\n",
              "      let quickchartButtonEl =\n",
              "        document.querySelector('#df-8abf911b-a3c7-48d0-91f9-c03c9c0a9feb button');\n",
              "      quickchartButtonEl.style.display =\n",
              "        google.colab.kernel.accessAllowed ? 'block' : 'none';\n",
              "    })();\n",
              "  </script>\n",
              "</div>\n",
              "    </div>\n",
              "  </div>\n"
            ]
          },
          "metadata": {},
          "execution_count": 125
        }
      ]
    },
    {
      "cell_type": "code",
      "source": [
        "# get top 20 terms occuring across all documents\n",
        "top_20_terms = raw_train_matrix.sum(axis=1).sort_values(0, ascending=False).head(20)\n",
        "print(top_20_terms)"
      ],
      "metadata": {
        "colab": {
          "base_uri": "https://localhost:8080/"
        },
        "id": "Tgnt-7P-3IyE",
        "outputId": "695a28ba-c401-49c8-cef9-6073851a3f44"
      },
      "execution_count": 126,
      "outputs": [
        {
          "output_type": "stream",
          "name": "stdout",
          "text": [
            "0\n",
            "subject    959.0\n",
            "window     720.0\n",
            "game       680.0\n",
            "do         578.0\n",
            "get        545.0\n",
            "write      483.0\n",
            "team       470.0\n",
            "on         429.0\n",
            "plai       401.0\n",
            "go         378.0\n",
            "file       370.0\n",
            "program    329.0\n",
            "includ     326.0\n",
            "just       325.0\n",
            "player     323.0\n",
            "articl     319.0\n",
            "time       318.0\n",
            "hockei     311.0\n",
            "know       302.0\n",
            "year       300.0\n",
            "dtype: float64\n"
          ]
        }
      ]
    },
    {
      "cell_type": "code",
      "source": [
        "plt.plot(top_20_terms.index, sorted(top_20_terms, reverse=True))\n",
        "plt.xticks(rotation=90)\n",
        "plt.title(\"Distribtution of term frequencies in the training data\")"
      ],
      "metadata": {
        "colab": {
          "base_uri": "https://localhost:8080/",
          "height": 516
        },
        "id": "SwN_ZBO83Y1E",
        "outputId": "c83d59a4-5801-4bb1-8ecd-270f6348a232"
      },
      "execution_count": 127,
      "outputs": [
        {
          "output_type": "execute_result",
          "data": {
            "text/plain": [
              "Text(0.5, 1.0, 'Distribtution of term frequencies in the training data')"
            ]
          },
          "metadata": {},
          "execution_count": 127
        },
        {
          "output_type": "display_data",
          "data": {
            "text/plain": [
              "<Figure size 640x480 with 1 Axes>"
            ],
            "image/png": "[encoded data removed]"
          },
          "metadata": {}
        }
      ]
    },
    {
      "cell_type": "markdown",
      "source": [
        "## b.\n",
        "Create your own K-Nearest-Neighbor classifier function. Your classifier should allow as input the training data matrix, the training labels, the instance to be classified, the value of K (number of neighbors), and should return the predicted class for the instance and the indices of the top K neighbors. Your classifier should work with Euclidean distance as well as Cosine distance (which is 1 minus the Cosine similarity). You may create two separate classifiers, or add the distance metric as a parameter in the classifier function (an example implementation of a KNN classifier was provided in class examples). Show that your classifier works by running it on the first two instances in the test data using both Cosine and Euclidean distance in each case."
      ],
      "metadata": {
        "id": "hkVAsJ6C4rM2"
      }
    },
    {
      "cell_type": "code",
      "source": [
        "train_matrix = np.array(raw_train_matrix.T)\n",
        "test_matrix = np.array(raw_test_matrix.T)"
      ],
      "metadata": {
        "id": "2XYuTXX9X6Yl"
      },
      "execution_count": 130,
      "outputs": []
    },
    {
      "cell_type": "code",
      "source": [
        "train_matrix.shape, test_matrix.shape"
      ],
      "metadata": {
        "colab": {
          "base_uri": "https://localhost:8080/"
        },
        "id": "UCHQR1eDi-1Y",
        "outputId": "62682247-0957-4a45-f833-6cb4e1770a88"
      },
      "execution_count": 131,
      "outputs": [
        {
          "output_type": "execute_result",
          "data": {
            "text/plain": [
              "((800, 5500), (200, 5500))"
            ]
          },
          "metadata": {},
          "execution_count": 131
        }
      ]
    },
    {
      "cell_type": "code",
      "source": [
        "def knn_search(x, D, K, measure):\n",
        "    \"\"\" find K nearest neighbors of an instance x among the instances in D \"\"\"\n",
        "    if measure == 0:\n",
        "        # euclidean distances from the other points\n",
        "        dists = np.sqrt(((D - x)**2).sum(axis=1))\n",
        "    elif measure == 1:\n",
        "        # first find the vector norm for each instance in D as wel as the norm for vector x\n",
        "        D_norm = np.array([np.linalg.norm(D[i]) for i in range(len(D))])\n",
        "        x_norm = np.linalg.norm(x)\n",
        "        # Compute Cosine: divide the dot product o x and each instance in D by the product of the two norms\n",
        "        sims = np.dot(D,x)/(D_norm * x_norm)\n",
        "        # The distance measure will be the inverse of Cosine similarity\n",
        "        dists = 1 - sims\n",
        "    idx = np.argsort(dists) # sorting\n",
        "    # return the indexes of K nearest neighbors\n",
        "    return idx[:K], dists"
      ],
      "metadata": {
        "id": "kxF1cQSM4Ecv"
      },
      "execution_count": 132,
      "outputs": []
    },
    {
      "cell_type": "code",
      "source": [
        "train_matrix[0]"
      ],
      "metadata": {
        "colab": {
          "base_uri": "https://localhost:8080/"
        },
        "id": "Yi1EH2_ZV4Ls",
        "outputId": "4b375ec1-8a4b-4950-c58e-a20abc2a147a"
      },
      "execution_count": 133,
      "outputs": [
        {
          "output_type": "execute_result",
          "data": {
            "text/plain": [
              "array([2., 2., 2., ..., 0., 0., 0.])"
            ]
          },
          "metadata": {},
          "execution_count": 133
        }
      ]
    },
    {
      "cell_type": "code",
      "source": [
        "test_matrix[0]"
      ],
      "metadata": {
        "colab": {
          "base_uri": "https://localhost:8080/"
        },
        "id": "Dm04nvtDV59p",
        "outputId": "4d5af28b-5d4d-4baf-a8d1-6131fbd16bda"
      },
      "execution_count": 134,
      "outputs": [
        {
          "output_type": "execute_result",
          "data": {
            "text/plain": [
              "array([0., 0., 0., ..., 0., 0., 0.])"
            ]
          },
          "metadata": {},
          "execution_count": 134
        }
      ]
    },
    {
      "cell_type": "code",
      "source": [
        "train_matrix.shape"
      ],
      "metadata": {
        "colab": {
          "base_uri": "https://localhost:8080/"
        },
        "id": "v-weYZ-pWYlH",
        "outputId": "486e9e87-e696-4e01-ac70-9eac083ab85d"
      },
      "execution_count": 135,
      "outputs": [
        {
          "output_type": "execute_result",
          "data": {
            "text/plain": [
              "(800, 5500)"
            ]
          },
          "metadata": {},
          "execution_count": 135
        }
      ]
    },
    {
      "cell_type": "code",
      "source": [
        "# test\n",
        "neigh_idx, distances = knn_search(test_matrix[0], train_matrix, 5, 0)"
      ],
      "metadata": {
        "id": "ApeYvQDAkyUw"
      },
      "execution_count": 143,
      "outputs": []
    },
    {
      "cell_type": "code",
      "source": [
        "neigh_idx"
      ],
      "metadata": {
        "colab": {
          "base_uri": "https://localhost:8080/"
        },
        "id": "ESlGnkAIkzbn",
        "outputId": "e9744a23-f701-4f50-9489-4287617ce0e6"
      },
      "execution_count": 144,
      "outputs": [
        {
          "output_type": "execute_result",
          "data": {
            "text/plain": [
              "array([685, 628, 703, 266, 510])"
            ]
          },
          "metadata": {},
          "execution_count": 144
        }
      ]
    },
    {
      "cell_type": "code",
      "source": [
        "test_data = test_matrix[:2]"
      ],
      "metadata": {
        "id": "UI0QNbZoWoyf"
      },
      "execution_count": 142,
      "outputs": []
    },
    {
      "cell_type": "code",
      "source": [
        "for test in test_data:\n",
        "  test"
      ],
      "metadata": {
        "id": "cAfxbce4kxqf"
      },
      "execution_count": 145,
      "outputs": []
    },
    {
      "cell_type": "code",
      "source": [
        "type(neigh_labels)"
      ],
      "metadata": {
        "colab": {
          "base_uri": "https://localhost:8080/"
        },
        "id": "CwDAbY-el1hd",
        "outputId": "32939116-0ffb-4231-a7e1-5b28cae3211c"
      },
      "execution_count": 162,
      "outputs": [
        {
          "output_type": "execute_result",
          "data": {
            "text/plain": [
              "pandas.core.series.Series"
            ]
          },
          "metadata": {},
          "execution_count": 162
        }
      ]
    },
    {
      "cell_type": "code",
      "source": [
        "print(\"Measure: Euclidean\")\n",
        "counter = 0\n",
        "k_neighbors = 3\n",
        "for test_instance in test_data:\n",
        "  counter += 1\n",
        "  # test\n",
        "  neigh_idx, distances = knn_search(test_instance, train_matrix, k_neighbors, 0)\n",
        "  # get labels using mode\n",
        "  neigh_labels = train_labels[1][neigh_idx].mode()[0]\n",
        "  print(f\"Label for instance {counter} is {k_neighbors} neighbors: {neigh_labels}\")"
      ],
      "metadata": {
        "colab": {
          "base_uri": "https://localhost:8080/"
        },
        "id": "jRouV4X4kMdD",
        "outputId": "172ac9ef-42f7-4131-b647-babc5eb4f1fa"
      },
      "execution_count": 176,
      "outputs": [
        {
          "output_type": "stream",
          "name": "stdout",
          "text": [
            "Measure: Euclidean\n",
            "Label for instance 1 is 3 neighbors: 1\n",
            "Label for instance 2 is 3 neighbors: 0\n"
          ]
        }
      ]
    },
    {
      "cell_type": "code",
      "source": [
        "print(\"Measure: Cosine\")\n",
        "counter = 0\n",
        "k_neighbors = 3\n",
        "for test_instance in test_data:\n",
        "  counter += 1\n",
        "  # test\n",
        "  neigh_idx, distances = knn_search(test_instance, train_matrix, k_neighbors, 1)\n",
        "  # get labels using mode\n",
        "  neigh_labels = train_labels[1][neigh_idx].mode()[0]\n",
        "  print(f\"Label for instance {counter} with {k_neighbors} neighbors is: {neigh_labels}\")"
      ],
      "metadata": {
        "colab": {
          "base_uri": "https://localhost:8080/"
        },
        "id": "RQDcvqdpnIl8",
        "outputId": "65ae6acd-523f-468b-be0d-bedefd213b9a"
      },
      "execution_count": 175,
      "outputs": [
        {
          "output_type": "stream",
          "name": "stdout",
          "text": [
            "Measure: Cosine\n",
            "Label for instance 1 with 3 neighbors is: 1\n",
            "Label for instance 2 with 3 neighbors is: 0\n"
          ]
        }
      ]
    },
    {
      "cell_type": "markdown",
      "source": [
        "## c.\n",
        "Create an evaluation function to measure the accuracy of your classifier. This function will call the classifier function in part a on all the test instances and in each case compares the actual test class label to the predicted class label. It should take as input the training data, the training labels, the test instances, the labels for test instances, and the value of K. Your evaluation function should return the Classification Accuracy (ratio of correct predictions to the number of test instances) [See class notes: Classification & Prediction - Review of Basic Concepts].\n",
        "\n"
      ],
      "metadata": {
        "id": "OibM3xnLnjs5"
      }
    },
    {
      "cell_type": "code",
      "source": [
        "def evaluationFunction(train_data, train_labels, test_data, test_labels, k_neighbors, measure=0):\n",
        "  \"\"\"\n",
        "    Function to calculate accuracy ratio of knn_search on all test instances\n",
        "    args:\n",
        "      train_data: train data matrix\n",
        "      train_labels: train data labels\n",
        "      test_data: test data matrix\n",
        "      test_labels: test data labels\n",
        "      k_neighbors: number of neighbors\n",
        "      measure: measure (cosine or euclidean:default is euclidean)\n",
        "    return:\n",
        "      acc_ratio: accuracy ratio (correct predictions/total #)\n",
        "  \"\"\"\n",
        "\n",
        "  correct_predictions = 0\n",
        "  # loop over test instances\n",
        "  for idx in range(len(test_data)):\n",
        "    # get test instance and labels\n",
        "    test_instance = test_data[idx]\n",
        "    actual_label = test_labels[idx]\n",
        "\n",
        "    # apply search (custom knn_search function)\n",
        "    neigh_idx, distances = knn_search(test_instance, train_data, k_neighbors, measure)\n",
        "    # get labels using mode\n",
        "    predict_label = train_labels[neigh_idx].mode()[0]\n",
        "\n",
        "    # check if the prediction is correct\n",
        "    if predict_label == actual_label:\n",
        "      correct_predictions += 1\n",
        "\n",
        "  # get accuracy ratio\n",
        "  acc_ratio = correct_predictions / len(test_data)\n",
        "\n",
        "  return acc_ratio"
      ],
      "metadata": {
        "id": "TV7SY821nT3E"
      },
      "execution_count": 229,
      "outputs": []
    },
    {
      "cell_type": "code",
      "source": [
        "# test accuracy for k=5\n",
        "k_neighbors = 5\n",
        "acc_ratio = evaluationFunction(train_data=train_matrix, train_labels=train_labels[1],\n",
        "                    test_data=test_matrix, test_labels=test_labels[1],\n",
        "                    k_neighbors=k_neighbors)\n",
        "print(f\"Classification accuracy for k={k_neighbors}: \", acc_ratio)"
      ],
      "metadata": {
        "colab": {
          "base_uri": "https://localhost:8080/"
        },
        "id": "bhL3CNaxrTV0",
        "outputId": "5fbb72df-2e8b-4a13-8a6b-080e821564db"
      },
      "execution_count": 230,
      "outputs": [
        {
          "output_type": "stream",
          "name": "stdout",
          "text": [
            "Classification accuracy for k=5:  0.815\n"
          ]
        }
      ]
    },
    {
      "cell_type": "markdown",
      "source": [
        "## d.\n",
        "Run your evaluation function on a range of values for K from 5 to 100 (in increments of 5) in order to compare accuracy values for different numbers of neighbors. Do this both using Euclidean Distance as well as Cosine similarity measure. Present the results as graphs with K in the x-axis and the evaluation metric (accuracy) on the y-axis. Use a single plot to compare the two version of the classifier (Euclidean distance version vs. cosine similarity version)."
      ],
      "metadata": {
        "id": "PYO4N8bntxHi"
      }
    },
    {
      "cell_type": "code",
      "source": [
        "# define lists to store acc_ratio\n",
        "euclidean_acc_ratio, cosine_acc_ratio = [], []\n",
        "\n",
        "# define measures for distance metric\n",
        "measures = [0, 1]\n",
        "\n",
        "# loop over measure\n",
        "for measure in measures:\n",
        "  # loop over k_neighbors value\n",
        "  for k_value in range(5, 101, 5):\n",
        "    if measure == 0:\n",
        "      euclidean_acc_ratio.append(evaluationFunction(train_data=train_matrix, train_labels=train_labels[1],\n",
        "                    test_data=test_matrix, test_labels=test_labels[1],\n",
        "                    k_neighbors=k_value, measure=measure))\n",
        "    elif measure == 1:\n",
        "      cosine_acc_ratio.append(evaluationFunction(train_data=train_matrix, train_labels=train_labels[1],\n",
        "                    test_data=test_matrix, test_labels=test_labels[1],\n",
        "                    k_neighbors=k_value, measure=measure))"
      ],
      "metadata": {
        "id": "7ExCaygLsBTC"
      },
      "execution_count": 239,
      "outputs": []
    },
    {
      "cell_type": "code",
      "source": [
        "euclidean_acc_ratio[:3]"
      ],
      "metadata": {
        "colab": {
          "base_uri": "https://localhost:8080/"
        },
        "id": "Bcad9L46vmXs",
        "outputId": "d0649d26-b604-44fb-8580-336d5906897d"
      },
      "execution_count": 240,
      "outputs": [
        {
          "output_type": "execute_result",
          "data": {
            "text/plain": [
              "[0.815, 0.705, 0.785]"
            ]
          },
          "metadata": {},
          "execution_count": 240
        }
      ]
    },
    {
      "cell_type": "code",
      "source": [
        "cosine_acc_ratio[:3]"
      ],
      "metadata": {
        "colab": {
          "base_uri": "https://localhost:8080/"
        },
        "id": "17YuzEinvV4c",
        "outputId": "6c157482-1f0a-4f64-c355-28b9ee45882c"
      },
      "execution_count": 241,
      "outputs": [
        {
          "output_type": "execute_result",
          "data": {
            "text/plain": [
              "[0.97, 0.975, 0.985]"
            ]
          },
          "metadata": {},
          "execution_count": 241
        }
      ]
    },
    {
      "cell_type": "code",
      "source": [
        "len(euclidean_acc_ratio), len(cosine_acc_ratio)"
      ],
      "metadata": {
        "colab": {
          "base_uri": "https://localhost:8080/"
        },
        "id": "5zzuUAXdwVdh",
        "outputId": "7ca56f59-e78d-4802-bb22-c2c41610845d"
      },
      "execution_count": 242,
      "outputs": [
        {
          "output_type": "execute_result",
          "data": {
            "text/plain": [
              "(20, 20)"
            ]
          },
          "metadata": {},
          "execution_count": 242
        }
      ]
    },
    {
      "cell_type": "code",
      "source": [
        "plt.figure(figsize=(8, 4))\n",
        "plt.plot(range(5, 101, 5), euclidean_acc_ratio, label='euclidean_measure')\n",
        "plt.plot(range(5, 101, 5), cosine_acc_ratio, label='cosine_measure')\n",
        "plt.legend()\n",
        "plt.grid()\n",
        "plt.xlabel(\"Value for k neighbors\")\n",
        "plt.ylabel(\"Accuracy ratio\")\n",
        "plt.title(\"Classification accuracy over range of k values\")"
      ],
      "metadata": {
        "colab": {
          "base_uri": "https://localhost:8080/",
          "height": 428
        },
        "id": "2CN-Yvszvo61",
        "outputId": "a7325311-a868-402d-89e0-1b5c40823433"
      },
      "execution_count": 244,
      "outputs": [
        {
          "output_type": "execute_result",
          "data": {
            "text/plain": [
              "Text(0.5, 1.0, 'Classification accuracy over range of k values')"
            ]
          },
          "metadata": {},
          "execution_count": 244
        },
        {
          "output_type": "display_data",
          "data": {
            "text/plain": [
              "<Figure size 800x400 with 1 Axes>"
            ],
            "image/png": "[encoded data removed]"
          },
          "metadata": {}
        }
      ]
    },
    {
      "cell_type": "markdown",
      "source": [
        "# e\n",
        "Next, modify the training and test data sets so that term weights are converted to TFxIDF weights (instead of raw term frequencies). [See class notes on Text Categorization]. Then, rerun your evaluation (only for the Cosine similarity version of the classifier) on the range of K values (as above) and create a chart comparing the results with and without using TFxIDF weights."
      ],
      "metadata": {
        "id": "QGBr87xCzg-c"
      }
    },
    {
      "cell_type": "code",
      "source": [
        "# we will use standard sklearn methods for tfidf\n",
        "from sklearn.feature_extraction.text import TfidfTransformer"
      ],
      "metadata": {
        "id": "V7RvgJFs3WEC"
      },
      "execution_count": 261,
      "outputs": []
    },
    {
      "cell_type": "code",
      "source": [
        "# initiate tfidf instance\n",
        "tfidf_vectorizer = TfidfTransformer()"
      ],
      "metadata": {
        "id": "JTXGe9sk3y6e"
      },
      "execution_count": 262,
      "outputs": []
    },
    {
      "cell_type": "code",
      "source": [
        "# transform\n",
        "train_tfidf_matrix = tfidf_vectorizer.fit_transform(train_matrix).toarray()\n",
        "test_tfidf_matrix = tfidf_vectorizer.fit_transform(test_matrix).toarray()"
      ],
      "metadata": {
        "id": "Fy5LeoW74D4k"
      },
      "execution_count": 270,
      "outputs": []
    },
    {
      "cell_type": "code",
      "source": [
        "# # first we'll convert data into tf features\n",
        "# train_tf_matrix = train_matrix / np.sum(train_matrix, axis=1, keepdims=True)\n",
        "# test_tf_matrix = test_matrix / np.sum(test_matrix, axis=1, keepdims=True)"
      ],
      "metadata": {
        "id": "4KZf4v_pzMbd"
      },
      "execution_count": 249,
      "outputs": []
    },
    {
      "cell_type": "code",
      "source": [
        "# # now, we'll convert tf matrix into idf\n",
        "# train_idf_matrix = np.log(train_matrix.shape[0] / np.count_nonzero(train_matrix, axis=0))\n",
        "# test_idf_matrix = np.log(test_matrix.shape[0] / np.count_nonzero(test_matrix, axis=0))"
      ],
      "metadata": {
        "id": "JCEJj-va1EX-"
      },
      "execution_count": 250,
      "outputs": []
    },
    {
      "cell_type": "code",
      "source": [
        "# # now tf-idf matrix\n",
        "# train_tfidf_matrix = train_tf_matrix * train_idf_matrix\n",
        "# test_tfidf_matrix = test_tf_matrix * test_idf_matrix"
      ],
      "metadata": {
        "id": "9bGmFxn_11Xf"
      },
      "execution_count": 252,
      "outputs": []
    },
    {
      "cell_type": "code",
      "source": [
        "train_tfidf_matrix.toarray()"
      ],
      "metadata": {
        "colab": {
          "base_uri": "https://localhost:8080/"
        },
        "id": "w-SCaHQY47pV",
        "outputId": "82f1e452-4ee1-4fd1-c77d-7785e5205d1d"
      },
      "execution_count": 269,
      "outputs": [
        {
          "output_type": "execute_result",
          "data": {
            "text/plain": [
              "array([[0.06394986, 0.09550516, 0.09008031, ..., 0.        , 0.        ,\n",
              "        0.        ],\n",
              "       [0.        , 0.        , 0.        , ..., 0.        , 0.        ,\n",
              "        0.        ],\n",
              "       [0.        , 0.        , 0.        , ..., 0.        , 0.        ,\n",
              "        0.        ],\n",
              "       ...,\n",
              "       [0.        , 0.        , 0.        , ..., 0.        , 0.        ,\n",
              "        0.        ],\n",
              "       [0.        , 0.        , 0.        , ..., 0.        , 0.        ,\n",
              "        0.        ],\n",
              "       [0.        , 0.        , 0.        , ..., 0.        , 0.        ,\n",
              "        0.        ]])"
            ]
          },
          "metadata": {},
          "execution_count": 269
        }
      ]
    },
    {
      "cell_type": "code",
      "source": [
        "# cosine similarity run with tfidf weights\n",
        "measure = 1\n",
        "cosine_tfidf_acc = []\n",
        "for k_value in range(5, 101, 5):\n",
        "  cosine_tfidf_acc.append(evaluationFunction(train_data=train_tfidf_matrix, train_labels=train_labels[1],\n",
        "                      test_data=test_tfidf_matrix, test_labels=test_labels[1],\n",
        "                      k_neighbors=k_value, measure=measure))"
      ],
      "metadata": {
        "id": "dvDVjxhj2AEx"
      },
      "execution_count": 275,
      "outputs": []
    },
    {
      "cell_type": "code",
      "source": [
        "plt.figure(figsize=(8, 4))\n",
        "plt.plot(range(5, 101, 5), cosine_acc_ratio, label = 'w/o tfidf weights')\n",
        "plt.plot(range(5, 101, 5), cosine_tfidf_acc, label = 'tfidf weights')\n",
        "plt.xlabel('Values of K')\n",
        "plt.ylabel(\"Accuracy ratio\")\n",
        "plt.title(\"Classification accuracy over values of k\")\n",
        "plt.grid()\n",
        "plt.legend()"
      ],
      "metadata": {
        "colab": {
          "base_uri": "https://localhost:8080/",
          "height": 428
        },
        "id": "n0L9A4rP2v5n",
        "outputId": "79ae4cec-18e5-4f6e-c846-ec2679fe0754"
      },
      "execution_count": 276,
      "outputs": [
        {
          "output_type": "execute_result",
          "data": {
            "text/plain": [
              "<matplotlib.legend.Legend at 0x7d30cb203e20>"
            ]
          },
          "metadata": {},
          "execution_count": 276
        },
        {
          "output_type": "display_data",
          "data": {
            "text/plain": [
              "<Figure size 800x400 with 1 Axes>"
            ],
            "image/png": "[encoded data removed]"
          },
          "metadata": {}
        }
      ]
    },
    {
      "cell_type": "markdown",
      "source": [
        "# f.\n",
        "Create a new classifier based on the Rocchio Method (also know as the \"nearest centroid\" method) adapted for text categorization [See class notes on Text Categorization]. You should separate the training function from the classification function. The training part for the classifier can be implemented as a function that takes as input the training data matrix and the training labels, returning the prototype vectors for each class. The classification part can be implemented as another function that would take as input the prototypes returned from the training function and the instance to be classified. This function should measure Cosine similarity of the test instance to each prototype vector. Your output should indicate the predicted class for the test instance and the similarity values of the instance to each of the category prototypes.  Finally, use your evaluation function to compare your results to the best KNN results you obtained in part d. [Note: your functions should work regardless of the number of categories (class labels) and should not be limited to two-class categorization scenario. The number of classes should not be hardcoded in your implementation.]"
      ],
      "metadata": {
        "id": "RskOIwCH6N0s"
      }
    },
    {
      "cell_type": "code",
      "source": [],
      "metadata": {
        "id": "rf7dZJNk3QAE"
      },
      "execution_count": null,
      "outputs": []
    }
  ]
}